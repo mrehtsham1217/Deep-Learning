{
 "cells": [
  {
   "cell_type": "markdown",
   "id": "23167ba4-d1ca-4a38-ac9b-2629cd6519f3",
   "metadata": {},
   "source": [
    "# **Diabetes Prediction Project**"
   ]
  },
  {
   "cell_type": "markdown",
   "id": "ba1fe6a3-9841-4994-8d79-29de17ed5d0f",
   "metadata": {},
   "source": [
    "The data chosen for this project is `Diabetes disease prediction` data taken from Kaggle [here](https://www.kaggle.com/datasets/iammustafatz/diabetes-prediction-dataset).and the combination returned some good features to predict `Diabetes` in patients. With this dataset, we'll end up with:\n",
    "\n",
    "1. Exploratory Analysis and Preprocessing with the data\n",
    "2. Supervised Learning (Regression)\n",
    "3. Supervised Learning (Classification)\n",
    "\n",
    "The original dataset had more features but this concised data is used for the right prediction of the disease in patients."
   ]
  },
  {
   "cell_type": "markdown",
   "id": "465be736-f18c-4397-829d-10483cbd49a4",
   "metadata": {},
   "source": [
    "## Importing Dependencies"
   ]
  },
  {
   "cell_type": "code",
   "execution_count": 131,
   "id": "673f4483-a070-484d-96ac-57eb7fdedb02",
   "metadata": {},
   "outputs": [],
   "source": [
    "# Libraries for Data preprocessing and Visualization\n",
    "\n",
    "import pandas as pd\n",
    "import matplotlib.pyplot as plt\n",
    "import seaborn as sns\n",
    "%matplotlib inline\n",
    "import numpy as np\n",
    "import sklearn\n",
    "from sklearn.preprocessing import MinMaxScaler\n",
    "from sklearn.preprocessing import LabelEncoder"
   ]
  },
  {
   "cell_type": "code",
   "execution_count": 46,
   "id": "a56ecd0d-08a8-4492-b0d2-ca5593f8a330",
   "metadata": {},
   "outputs": [],
   "source": [
    "# Regressor model from sklearn\n",
    "\n",
    "from sklearn.ensemble import RandomForestRegressor\n",
    "from sklearn.svm import SVR"
   ]
  },
  {
   "cell_type": "code",
   "execution_count": 47,
   "id": "12e0e61e-9a46-4b8c-a33e-975b8ff2b5cd",
   "metadata": {},
   "outputs": [],
   "source": [
    "# classification models from scikit learn\n",
    "\n",
    "from sklearn.linear_model import LogisticRegression\n",
    "from sklearn.model_selection import RandomizedSearchCV, GridSearchCV\n",
    "from sklearn.ensemble import RandomForestClassifier\n",
    "from xgboost import XGBClassifier"
   ]
  },
  {
   "cell_type": "code",
   "execution_count": 48,
   "id": "3354a3ef-76dc-4138-bd2d-d54ae9ee5b5d",
   "metadata": {},
   "outputs": [],
   "source": [
    "## Model evaluators\n",
    "\n",
    "from sklearn.metrics import mean_squared_error, mean_absolute_error\n",
    "from sklearn.model_selection import train_test_split\n",
    "from sklearn.metrics import confusion_matrix, classification_report\n",
    "from sklearn.metrics import accuracy_score, precision_score, recall_score, f1_score\n",
    "from sklearn.utils import resample"
   ]
  },
  {
   "cell_type": "markdown",
   "id": "b6ad4551-e5bb-491d-921c-d1a9431751fd",
   "metadata": {},
   "source": [
    "## **Part 1: Data Collection, Preprocessing and EDA**\n",
    "# Load Data"
   ]
  },
  {
   "cell_type": "code",
   "execution_count": 49,
   "id": "759ca26d-d6a7-4e6f-ad91-39dfc7e181ab",
   "metadata": {},
   "outputs": [],
   "source": [
    "file = pd.read_csv(filepath_or_buffer=\"CSV_DATA/diabetes_prediction_dataset.csv\")"
   ]
  },
  {
   "cell_type": "markdown",
   "id": "1612c466-a9a3-4f44-988f-8456904a1775",
   "metadata": {},
   "source": [
    "Lets check the shape of data"
   ]
  },
  {
   "cell_type": "code",
   "execution_count": 50,
   "id": "df576dc8-fda5-43a2-86a2-71350d732061",
   "metadata": {},
   "outputs": [
    {
     "name": "stdout",
     "output_type": "stream",
     "text": [
      "(Rows,Columns): (100000, 9)\n"
     ]
    }
   ],
   "source": [
    "print(f\"(Rows,Columns): {file.shape}\")"
   ]
  },
  {
   "cell_type": "code",
   "execution_count": 51,
   "id": "16c3a54e-84fb-4ed4-a656-7fe7b1dd062b",
   "metadata": {},
   "outputs": [
    {
     "name": "stdout",
     "output_type": "stream",
     "text": [
      "Dataset Features : ['gender', 'age', 'hypertension', 'heart_disease', 'smoking_history', 'bmi', 'HbA1c_level', 'blood_glucose_level', 'diabetes']\n"
     ]
    }
   ],
   "source": [
    "print(f\"Dataset Features : {list(file.columns)}\")"
   ]
  },
  {
   "cell_type": "markdown",
   "id": "988d842b-efa0-47dd-b606-f07c350efb60",
   "metadata": {},
   "source": [
    "The given dataset has 100000 rows and 9 columns and their names are given above"
   ]
  },
  {
   "cell_type": "markdown",
   "id": "bf446c5f-99fb-4887-87cc-cc0e389fc8e4",
   "metadata": {},
   "source": [
    "Lets check the random sample of data"
   ]
  },
  {
   "cell_type": "code",
   "execution_count": 52,
   "id": "07a31d69-9645-42fd-800e-59dbefa5317e",
   "metadata": {},
   "outputs": [
    {
     "data": {
      "text/html": [
       "<div>\n",
       "<style scoped>\n",
       "    .dataframe tbody tr th:only-of-type {\n",
       "        vertical-align: middle;\n",
       "    }\n",
       "\n",
       "    .dataframe tbody tr th {\n",
       "        vertical-align: top;\n",
       "    }\n",
       "\n",
       "    .dataframe thead th {\n",
       "        text-align: right;\n",
       "    }\n",
       "</style>\n",
       "<table border=\"1\" class=\"dataframe\">\n",
       "  <thead>\n",
       "    <tr style=\"text-align: right;\">\n",
       "      <th></th>\n",
       "      <th>gender</th>\n",
       "      <th>age</th>\n",
       "      <th>hypertension</th>\n",
       "      <th>heart_disease</th>\n",
       "      <th>smoking_history</th>\n",
       "      <th>bmi</th>\n",
       "      <th>HbA1c_level</th>\n",
       "      <th>blood_glucose_level</th>\n",
       "      <th>diabetes</th>\n",
       "    </tr>\n",
       "  </thead>\n",
       "  <tbody>\n",
       "    <tr>\n",
       "      <th>18988</th>\n",
       "      <td>Female</td>\n",
       "      <td>6.0</td>\n",
       "      <td>0</td>\n",
       "      <td>0</td>\n",
       "      <td>No Info</td>\n",
       "      <td>27.32</td>\n",
       "      <td>6.1</td>\n",
       "      <td>140</td>\n",
       "      <td>0</td>\n",
       "    </tr>\n",
       "    <tr>\n",
       "      <th>47249</th>\n",
       "      <td>Female</td>\n",
       "      <td>54.0</td>\n",
       "      <td>0</td>\n",
       "      <td>0</td>\n",
       "      <td>never</td>\n",
       "      <td>25.07</td>\n",
       "      <td>3.5</td>\n",
       "      <td>159</td>\n",
       "      <td>0</td>\n",
       "    </tr>\n",
       "    <tr>\n",
       "      <th>81004</th>\n",
       "      <td>Female</td>\n",
       "      <td>22.0</td>\n",
       "      <td>0</td>\n",
       "      <td>0</td>\n",
       "      <td>No Info</td>\n",
       "      <td>19.63</td>\n",
       "      <td>6.2</td>\n",
       "      <td>130</td>\n",
       "      <td>0</td>\n",
       "    </tr>\n",
       "    <tr>\n",
       "      <th>45141</th>\n",
       "      <td>Male</td>\n",
       "      <td>51.0</td>\n",
       "      <td>0</td>\n",
       "      <td>0</td>\n",
       "      <td>No Info</td>\n",
       "      <td>27.32</td>\n",
       "      <td>3.5</td>\n",
       "      <td>90</td>\n",
       "      <td>0</td>\n",
       "    </tr>\n",
       "    <tr>\n",
       "      <th>3465</th>\n",
       "      <td>Female</td>\n",
       "      <td>52.0</td>\n",
       "      <td>0</td>\n",
       "      <td>0</td>\n",
       "      <td>never</td>\n",
       "      <td>30.14</td>\n",
       "      <td>5.8</td>\n",
       "      <td>130</td>\n",
       "      <td>1</td>\n",
       "    </tr>\n",
       "    <tr>\n",
       "      <th>65451</th>\n",
       "      <td>Male</td>\n",
       "      <td>75.0</td>\n",
       "      <td>0</td>\n",
       "      <td>1</td>\n",
       "      <td>not current</td>\n",
       "      <td>27.32</td>\n",
       "      <td>5.8</td>\n",
       "      <td>140</td>\n",
       "      <td>0</td>\n",
       "    </tr>\n",
       "    <tr>\n",
       "      <th>97695</th>\n",
       "      <td>Female</td>\n",
       "      <td>3.0</td>\n",
       "      <td>0</td>\n",
       "      <td>0</td>\n",
       "      <td>No Info</td>\n",
       "      <td>16.50</td>\n",
       "      <td>6.0</td>\n",
       "      <td>159</td>\n",
       "      <td>0</td>\n",
       "    </tr>\n",
       "    <tr>\n",
       "      <th>59009</th>\n",
       "      <td>Female</td>\n",
       "      <td>63.0</td>\n",
       "      <td>0</td>\n",
       "      <td>0</td>\n",
       "      <td>not current</td>\n",
       "      <td>21.84</td>\n",
       "      <td>5.8</td>\n",
       "      <td>80</td>\n",
       "      <td>0</td>\n",
       "    </tr>\n",
       "    <tr>\n",
       "      <th>45729</th>\n",
       "      <td>Female</td>\n",
       "      <td>34.0</td>\n",
       "      <td>0</td>\n",
       "      <td>0</td>\n",
       "      <td>No Info</td>\n",
       "      <td>27.32</td>\n",
       "      <td>4.8</td>\n",
       "      <td>100</td>\n",
       "      <td>0</td>\n",
       "    </tr>\n",
       "    <tr>\n",
       "      <th>5903</th>\n",
       "      <td>Female</td>\n",
       "      <td>80.0</td>\n",
       "      <td>0</td>\n",
       "      <td>0</td>\n",
       "      <td>No Info</td>\n",
       "      <td>25.11</td>\n",
       "      <td>5.7</td>\n",
       "      <td>159</td>\n",
       "      <td>0</td>\n",
       "    </tr>\n",
       "  </tbody>\n",
       "</table>\n",
       "</div>"
      ],
      "text/plain": [
       "       gender   age  hypertension  heart_disease smoking_history    bmi  \\\n",
       "18988  Female   6.0             0              0         No Info  27.32   \n",
       "47249  Female  54.0             0              0           never  25.07   \n",
       "81004  Female  22.0             0              0         No Info  19.63   \n",
       "45141    Male  51.0             0              0         No Info  27.32   \n",
       "3465   Female  52.0             0              0           never  30.14   \n",
       "65451    Male  75.0             0              1     not current  27.32   \n",
       "97695  Female   3.0             0              0         No Info  16.50   \n",
       "59009  Female  63.0             0              0     not current  21.84   \n",
       "45729  Female  34.0             0              0         No Info  27.32   \n",
       "5903   Female  80.0             0              0         No Info  25.11   \n",
       "\n",
       "       HbA1c_level  blood_glucose_level  diabetes  \n",
       "18988          6.1                  140         0  \n",
       "47249          3.5                  159         0  \n",
       "81004          6.2                  130         0  \n",
       "45141          3.5                   90         0  \n",
       "3465           5.8                  130         1  \n",
       "65451          5.8                  140         0  \n",
       "97695          6.0                  159         0  \n",
       "59009          5.8                   80         0  \n",
       "45729          4.8                  100         0  \n",
       "5903           5.7                  159         0  "
      ]
     },
     "execution_count": 52,
     "metadata": {},
     "output_type": "execute_result"
    }
   ],
   "source": [
    "file.sample(10)"
   ]
  },
  {
   "cell_type": "markdown",
   "id": "177b9a07-4d5d-4682-aae7-141e0351a2f6",
   "metadata": {},
   "source": [
    "Lets check the first 5 samples of data"
   ]
  },
  {
   "cell_type": "code",
   "execution_count": 53,
   "id": "dcc06f42-57f7-490d-be52-d71fd63111dc",
   "metadata": {},
   "outputs": [
    {
     "data": {
      "text/html": [
       "<div>\n",
       "<style scoped>\n",
       "    .dataframe tbody tr th:only-of-type {\n",
       "        vertical-align: middle;\n",
       "    }\n",
       "\n",
       "    .dataframe tbody tr th {\n",
       "        vertical-align: top;\n",
       "    }\n",
       "\n",
       "    .dataframe thead th {\n",
       "        text-align: right;\n",
       "    }\n",
       "</style>\n",
       "<table border=\"1\" class=\"dataframe\">\n",
       "  <thead>\n",
       "    <tr style=\"text-align: right;\">\n",
       "      <th></th>\n",
       "      <th>gender</th>\n",
       "      <th>age</th>\n",
       "      <th>hypertension</th>\n",
       "      <th>heart_disease</th>\n",
       "      <th>smoking_history</th>\n",
       "      <th>bmi</th>\n",
       "      <th>HbA1c_level</th>\n",
       "      <th>blood_glucose_level</th>\n",
       "      <th>diabetes</th>\n",
       "    </tr>\n",
       "  </thead>\n",
       "  <tbody>\n",
       "    <tr>\n",
       "      <th>0</th>\n",
       "      <td>Female</td>\n",
       "      <td>80.0</td>\n",
       "      <td>0</td>\n",
       "      <td>1</td>\n",
       "      <td>never</td>\n",
       "      <td>25.19</td>\n",
       "      <td>6.6</td>\n",
       "      <td>140</td>\n",
       "      <td>0</td>\n",
       "    </tr>\n",
       "    <tr>\n",
       "      <th>1</th>\n",
       "      <td>Female</td>\n",
       "      <td>54.0</td>\n",
       "      <td>0</td>\n",
       "      <td>0</td>\n",
       "      <td>No Info</td>\n",
       "      <td>27.32</td>\n",
       "      <td>6.6</td>\n",
       "      <td>80</td>\n",
       "      <td>0</td>\n",
       "    </tr>\n",
       "    <tr>\n",
       "      <th>2</th>\n",
       "      <td>Male</td>\n",
       "      <td>28.0</td>\n",
       "      <td>0</td>\n",
       "      <td>0</td>\n",
       "      <td>never</td>\n",
       "      <td>27.32</td>\n",
       "      <td>5.7</td>\n",
       "      <td>158</td>\n",
       "      <td>0</td>\n",
       "    </tr>\n",
       "    <tr>\n",
       "      <th>3</th>\n",
       "      <td>Female</td>\n",
       "      <td>36.0</td>\n",
       "      <td>0</td>\n",
       "      <td>0</td>\n",
       "      <td>current</td>\n",
       "      <td>23.45</td>\n",
       "      <td>5.0</td>\n",
       "      <td>155</td>\n",
       "      <td>0</td>\n",
       "    </tr>\n",
       "    <tr>\n",
       "      <th>4</th>\n",
       "      <td>Male</td>\n",
       "      <td>76.0</td>\n",
       "      <td>1</td>\n",
       "      <td>1</td>\n",
       "      <td>current</td>\n",
       "      <td>20.14</td>\n",
       "      <td>4.8</td>\n",
       "      <td>155</td>\n",
       "      <td>0</td>\n",
       "    </tr>\n",
       "  </tbody>\n",
       "</table>\n",
       "</div>"
      ],
      "text/plain": [
       "   gender   age  hypertension  heart_disease smoking_history    bmi  \\\n",
       "0  Female  80.0             0              1           never  25.19   \n",
       "1  Female  54.0             0              0         No Info  27.32   \n",
       "2    Male  28.0             0              0           never  27.32   \n",
       "3  Female  36.0             0              0         current  23.45   \n",
       "4    Male  76.0             1              1         current  20.14   \n",
       "\n",
       "   HbA1c_level  blood_glucose_level  diabetes  \n",
       "0          6.6                  140         0  \n",
       "1          6.6                   80         0  \n",
       "2          5.7                  158         0  \n",
       "3          5.0                  155         0  \n",
       "4          4.8                  155         0  "
      ]
     },
     "execution_count": 53,
     "metadata": {},
     "output_type": "execute_result"
    }
   ],
   "source": [
    "file.head()"
   ]
  },
  {
   "cell_type": "markdown",
   "id": "f0256e05-23dc-4d0f-bdb4-14e1e63d7823",
   "metadata": {},
   "source": [
    "Leta check the tail of data"
   ]
  },
  {
   "cell_type": "code",
   "execution_count": 54,
   "id": "31f7c4c7-54fc-4f73-9aae-ee877e311e4d",
   "metadata": {},
   "outputs": [
    {
     "data": {
      "text/html": [
       "<div>\n",
       "<style scoped>\n",
       "    .dataframe tbody tr th:only-of-type {\n",
       "        vertical-align: middle;\n",
       "    }\n",
       "\n",
       "    .dataframe tbody tr th {\n",
       "        vertical-align: top;\n",
       "    }\n",
       "\n",
       "    .dataframe thead th {\n",
       "        text-align: right;\n",
       "    }\n",
       "</style>\n",
       "<table border=\"1\" class=\"dataframe\">\n",
       "  <thead>\n",
       "    <tr style=\"text-align: right;\">\n",
       "      <th></th>\n",
       "      <th>gender</th>\n",
       "      <th>age</th>\n",
       "      <th>hypertension</th>\n",
       "      <th>heart_disease</th>\n",
       "      <th>smoking_history</th>\n",
       "      <th>bmi</th>\n",
       "      <th>HbA1c_level</th>\n",
       "      <th>blood_glucose_level</th>\n",
       "      <th>diabetes</th>\n",
       "    </tr>\n",
       "  </thead>\n",
       "  <tbody>\n",
       "    <tr>\n",
       "      <th>99995</th>\n",
       "      <td>Female</td>\n",
       "      <td>80.0</td>\n",
       "      <td>0</td>\n",
       "      <td>0</td>\n",
       "      <td>No Info</td>\n",
       "      <td>27.32</td>\n",
       "      <td>6.2</td>\n",
       "      <td>90</td>\n",
       "      <td>0</td>\n",
       "    </tr>\n",
       "    <tr>\n",
       "      <th>99996</th>\n",
       "      <td>Female</td>\n",
       "      <td>2.0</td>\n",
       "      <td>0</td>\n",
       "      <td>0</td>\n",
       "      <td>No Info</td>\n",
       "      <td>17.37</td>\n",
       "      <td>6.5</td>\n",
       "      <td>100</td>\n",
       "      <td>0</td>\n",
       "    </tr>\n",
       "    <tr>\n",
       "      <th>99997</th>\n",
       "      <td>Male</td>\n",
       "      <td>66.0</td>\n",
       "      <td>0</td>\n",
       "      <td>0</td>\n",
       "      <td>former</td>\n",
       "      <td>27.83</td>\n",
       "      <td>5.7</td>\n",
       "      <td>155</td>\n",
       "      <td>0</td>\n",
       "    </tr>\n",
       "    <tr>\n",
       "      <th>99998</th>\n",
       "      <td>Female</td>\n",
       "      <td>24.0</td>\n",
       "      <td>0</td>\n",
       "      <td>0</td>\n",
       "      <td>never</td>\n",
       "      <td>35.42</td>\n",
       "      <td>4.0</td>\n",
       "      <td>100</td>\n",
       "      <td>0</td>\n",
       "    </tr>\n",
       "    <tr>\n",
       "      <th>99999</th>\n",
       "      <td>Female</td>\n",
       "      <td>57.0</td>\n",
       "      <td>0</td>\n",
       "      <td>0</td>\n",
       "      <td>current</td>\n",
       "      <td>22.43</td>\n",
       "      <td>6.6</td>\n",
       "      <td>90</td>\n",
       "      <td>0</td>\n",
       "    </tr>\n",
       "  </tbody>\n",
       "</table>\n",
       "</div>"
      ],
      "text/plain": [
       "       gender   age  hypertension  heart_disease smoking_history    bmi  \\\n",
       "99995  Female  80.0             0              0         No Info  27.32   \n",
       "99996  Female   2.0             0              0         No Info  17.37   \n",
       "99997    Male  66.0             0              0          former  27.83   \n",
       "99998  Female  24.0             0              0           never  35.42   \n",
       "99999  Female  57.0             0              0         current  22.43   \n",
       "\n",
       "       HbA1c_level  blood_glucose_level  diabetes  \n",
       "99995          6.2                   90         0  \n",
       "99996          6.5                  100         0  \n",
       "99997          5.7                  155         0  \n",
       "99998          4.0                  100         0  \n",
       "99999          6.6                   90         0  "
      ]
     },
     "execution_count": 54,
     "metadata": {},
     "output_type": "execute_result"
    }
   ],
   "source": [
    "file.tail()"
   ]
  },
  {
   "cell_type": "markdown",
   "id": "4385cb18-c0e4-48b8-8085-fac6065ffea9",
   "metadata": {},
   "source": [
    "## Exploratory Data Analysis"
   ]
  },
  {
   "cell_type": "code",
   "execution_count": 55,
   "id": "348740e5-45cb-450e-a1e1-ce28e7b28f4a",
   "metadata": {},
   "outputs": [
    {
     "name": "stdout",
     "output_type": "stream",
     "text": [
      "<class 'pandas.core.frame.DataFrame'>\n",
      "RangeIndex: 100000 entries, 0 to 99999\n",
      "Data columns (total 9 columns):\n",
      " #   Column               Non-Null Count   Dtype  \n",
      "---  ------               --------------   -----  \n",
      " 0   gender               100000 non-null  object \n",
      " 1   age                  100000 non-null  float64\n",
      " 2   hypertension         100000 non-null  int64  \n",
      " 3   heart_disease        100000 non-null  int64  \n",
      " 4   smoking_history      100000 non-null  object \n",
      " 5   bmi                  100000 non-null  float64\n",
      " 6   HbA1c_level          100000 non-null  float64\n",
      " 7   blood_glucose_level  100000 non-null  int64  \n",
      " 8   diabetes             100000 non-null  int64  \n",
      "dtypes: float64(3), int64(4), object(2)\n",
      "memory usage: 6.9+ MB\n"
     ]
    }
   ],
   "source": [
    "file.info()"
   ]
  },
  {
   "cell_type": "markdown",
   "id": "e52422b3-dc20-44fd-a1f6-0158525af740",
   "metadata": {},
   "source": [
    "Observation: info will tell information about the data How many columns are integers and how many are objects\n",
    "Gender,smoking_hostory columns are objects\n",
    "bmi,BhA1c_level,age is float\n",
    "hypertension heart_disease blood glucose_level,diabetes are integer"
   ]
  },
  {
   "cell_type": "markdown",
   "id": "ed4329a2-a912-454f-bb2f-943f1738d85f",
   "metadata": {},
   "source": [
    "### Statically view of Data"
   ]
  },
  {
   "cell_type": "code",
   "execution_count": 56,
   "id": "1571647a-faa1-4188-9169-53ee66418efa",
   "metadata": {},
   "outputs": [
    {
     "data": {
      "text/html": [
       "<div>\n",
       "<style scoped>\n",
       "    .dataframe tbody tr th:only-of-type {\n",
       "        vertical-align: middle;\n",
       "    }\n",
       "\n",
       "    .dataframe tbody tr th {\n",
       "        vertical-align: top;\n",
       "    }\n",
       "\n",
       "    .dataframe thead th {\n",
       "        text-align: right;\n",
       "    }\n",
       "</style>\n",
       "<table border=\"1\" class=\"dataframe\">\n",
       "  <thead>\n",
       "    <tr style=\"text-align: right;\">\n",
       "      <th></th>\n",
       "      <th>age</th>\n",
       "      <th>hypertension</th>\n",
       "      <th>heart_disease</th>\n",
       "      <th>bmi</th>\n",
       "      <th>HbA1c_level</th>\n",
       "      <th>blood_glucose_level</th>\n",
       "      <th>diabetes</th>\n",
       "    </tr>\n",
       "  </thead>\n",
       "  <tbody>\n",
       "    <tr>\n",
       "      <th>count</th>\n",
       "      <td>100000.000000</td>\n",
       "      <td>100000.00000</td>\n",
       "      <td>100000.000000</td>\n",
       "      <td>100000.000000</td>\n",
       "      <td>100000.000000</td>\n",
       "      <td>100000.000000</td>\n",
       "      <td>100000.000000</td>\n",
       "    </tr>\n",
       "    <tr>\n",
       "      <th>mean</th>\n",
       "      <td>41.885856</td>\n",
       "      <td>0.07485</td>\n",
       "      <td>0.039420</td>\n",
       "      <td>27.320767</td>\n",
       "      <td>5.527507</td>\n",
       "      <td>138.058060</td>\n",
       "      <td>0.085000</td>\n",
       "    </tr>\n",
       "    <tr>\n",
       "      <th>std</th>\n",
       "      <td>22.516840</td>\n",
       "      <td>0.26315</td>\n",
       "      <td>0.194593</td>\n",
       "      <td>6.636783</td>\n",
       "      <td>1.070672</td>\n",
       "      <td>40.708136</td>\n",
       "      <td>0.278883</td>\n",
       "    </tr>\n",
       "    <tr>\n",
       "      <th>min</th>\n",
       "      <td>0.080000</td>\n",
       "      <td>0.00000</td>\n",
       "      <td>0.000000</td>\n",
       "      <td>10.010000</td>\n",
       "      <td>3.500000</td>\n",
       "      <td>80.000000</td>\n",
       "      <td>0.000000</td>\n",
       "    </tr>\n",
       "    <tr>\n",
       "      <th>25%</th>\n",
       "      <td>24.000000</td>\n",
       "      <td>0.00000</td>\n",
       "      <td>0.000000</td>\n",
       "      <td>23.630000</td>\n",
       "      <td>4.800000</td>\n",
       "      <td>100.000000</td>\n",
       "      <td>0.000000</td>\n",
       "    </tr>\n",
       "    <tr>\n",
       "      <th>50%</th>\n",
       "      <td>43.000000</td>\n",
       "      <td>0.00000</td>\n",
       "      <td>0.000000</td>\n",
       "      <td>27.320000</td>\n",
       "      <td>5.800000</td>\n",
       "      <td>140.000000</td>\n",
       "      <td>0.000000</td>\n",
       "    </tr>\n",
       "    <tr>\n",
       "      <th>75%</th>\n",
       "      <td>60.000000</td>\n",
       "      <td>0.00000</td>\n",
       "      <td>0.000000</td>\n",
       "      <td>29.580000</td>\n",
       "      <td>6.200000</td>\n",
       "      <td>159.000000</td>\n",
       "      <td>0.000000</td>\n",
       "    </tr>\n",
       "    <tr>\n",
       "      <th>max</th>\n",
       "      <td>80.000000</td>\n",
       "      <td>1.00000</td>\n",
       "      <td>1.000000</td>\n",
       "      <td>95.690000</td>\n",
       "      <td>9.000000</td>\n",
       "      <td>300.000000</td>\n",
       "      <td>1.000000</td>\n",
       "    </tr>\n",
       "  </tbody>\n",
       "</table>\n",
       "</div>"
      ],
      "text/plain": [
       "                 age  hypertension  heart_disease            bmi  \\\n",
       "count  100000.000000  100000.00000  100000.000000  100000.000000   \n",
       "mean       41.885856       0.07485       0.039420      27.320767   \n",
       "std        22.516840       0.26315       0.194593       6.636783   \n",
       "min         0.080000       0.00000       0.000000      10.010000   \n",
       "25%        24.000000       0.00000       0.000000      23.630000   \n",
       "50%        43.000000       0.00000       0.000000      27.320000   \n",
       "75%        60.000000       0.00000       0.000000      29.580000   \n",
       "max        80.000000       1.00000       1.000000      95.690000   \n",
       "\n",
       "         HbA1c_level  blood_glucose_level       diabetes  \n",
       "count  100000.000000        100000.000000  100000.000000  \n",
       "mean        5.527507           138.058060       0.085000  \n",
       "std         1.070672            40.708136       0.278883  \n",
       "min         3.500000            80.000000       0.000000  \n",
       "25%         4.800000           100.000000       0.000000  \n",
       "50%         5.800000           140.000000       0.000000  \n",
       "75%         6.200000           159.000000       0.000000  \n",
       "max         9.000000           300.000000       1.000000  "
      ]
     },
     "execution_count": 56,
     "metadata": {},
     "output_type": "execute_result"
    }
   ],
   "source": [
    "file.describe()"
   ]
  },
  {
   "cell_type": "markdown",
   "id": "9e6bb630-bc91-4a5a-b6ea-1f399e8ab3bb",
   "metadata": {},
   "source": [
    "## Data Preprocessing"
   ]
  },
  {
   "cell_type": "code",
   "execution_count": 57,
   "id": "0856f951-d8e4-4cd1-8e78-8af7813afb56",
   "metadata": {},
   "outputs": [
    {
     "data": {
      "text/plain": [
       "gender                 0\n",
       "age                    0\n",
       "hypertension           0\n",
       "heart_disease          0\n",
       "smoking_history        0\n",
       "bmi                    0\n",
       "HbA1c_level            0\n",
       "blood_glucose_level    0\n",
       "diabetes               0\n",
       "dtype: int64"
      ]
     },
     "execution_count": 57,
     "metadata": {},
     "output_type": "execute_result"
    }
   ],
   "source": [
    "file.isna().sum()\n",
    "#checking null values in the dataset"
   ]
  },
  {
   "cell_type": "markdown",
   "id": "e3a56a41-55b1-459e-a9f3-024dcb31cda8",
   "metadata": {},
   "source": [
    "#### Observation\n",
    "There is no null values in the dataset"
   ]
  },
  {
   "cell_type": "markdown",
   "id": "03271fc1-0c96-45f4-b79b-11af1751429d",
   "metadata": {},
   "source": [
    "##### Checking duplicate rows in dataset"
   ]
  },
  {
   "cell_type": "code",
   "execution_count": 58,
   "id": "e0d43c94-b925-4bcd-8442-b18c10fdfc5b",
   "metadata": {},
   "outputs": [
    {
     "name": "stdout",
     "output_type": "stream",
     "text": [
      "Total Duplicate Samples are :3854\n"
     ]
    }
   ],
   "source": [
    "print(f\"Total Duplicate Samples are :{file.duplicated().sum()}\")"
   ]
  },
  {
   "cell_type": "markdown",
   "id": "a3d93640-d6ba-4b10-9e35-dbb58ad73960",
   "metadata": {},
   "source": [
    "#### Observation\n",
    "There are total 3854 samples are duplicate we will remove these samples otherwise it will create\n",
    "problems in training the dataste"
   ]
  },
  {
   "cell_type": "code",
   "execution_count": 59,
   "id": "717ebacf-f827-4da1-b865-c39903f94682",
   "metadata": {},
   "outputs": [],
   "source": [
    "# Deleting the duplicate rows\n",
    "file.drop_duplicates(inplace=True)"
   ]
  },
  {
   "cell_type": "code",
   "execution_count": 60,
   "id": "4c053486-fb14-4bb4-8405-5f4b81540a30",
   "metadata": {},
   "outputs": [
    {
     "name": "stdout",
     "output_type": "stream",
     "text": [
      "Dataset's shape after removing Duplicates :(96146, 9)\n"
     ]
    }
   ],
   "source": [
    "print(f\"Dataset's shape after removing Duplicates :{file.shape}\")"
   ]
  },
  {
   "cell_type": "markdown",
   "id": "84cecd64-9a64-4e0f-895d-e27f8b0aaae6",
   "metadata": {},
   "source": [
    "### Checking Outliers"
   ]
  },
  {
   "cell_type": "markdown",
   "id": "de38428e-3186-439e-b3ea-5712f28f159a",
   "metadata": {},
   "source": [
    "##### Observations:\n",
    "Checking BMI value. It is very rare case to have BMi greater than 50.\n",
    "So it is outlier we'll remove these rows"
   ]
  },
  {
   "cell_type": "code",
   "execution_count": 89,
   "id": "5fb5e5d0-3f38-40c9-ab75-f2c44b5b2c01",
   "metadata": {},
   "outputs": [],
   "source": [
    "file[file['bmi']>50]"
   ]
  },
  {
   "cell_type": "markdown",
   "id": "1f1c9f4b-f66d-4b46-bb93-adf57272492b",
   "metadata": {},
   "source": [
    "Droping the rows having bmi greater than 50"
   ]
  },
  {
   "cell_type": "code",
   "execution_count": 95,
   "id": "296c3ef9-4e6c-4c56-a750-37568c8a4f45",
   "metadata": {},
   "outputs": [],
   "source": [
    "file = file.drop(file[file['bmi'] > 50].index)"
   ]
  },
  {
   "cell_type": "code",
   "execution_count": null,
   "id": "a8df97de-075b-4ad8-bb8e-c7d01d12e21d",
   "metadata": {},
   "outputs": [],
   "source": [
    "Checking the shape of file after removing rows having bmi more than 50"
   ]
  },
  {
   "cell_type": "code",
   "execution_count": 101,
   "id": "8e927c42-49d7-46e1-8391-1277bcb5d968",
   "metadata": {},
   "outputs": [
    {
     "data": {
      "text/plain": [
       "(92189, 9)"
      ]
     },
     "execution_count": 101,
     "metadata": {},
     "output_type": "execute_result"
    }
   ],
   "source": [
    "file.shape"
   ]
  },
  {
   "cell_type": "markdown",
   "id": "2bc058ce-51b7-478c-96bc-26851d072bf6",
   "metadata": {},
   "source": [
    "#### Checking outliers in Blood_glucose_level\n",
    "#### Observation\n",
    "    According to the search maximum glucose level that a person can bear is 180 so rest all are outliers\n",
    "    So i will remove the glucose level greater than 200"
   ]
  },
  {
   "cell_type": "code",
   "execution_count": 98,
   "id": "85c75eb7-1122-474d-8229-bf228c1f4805",
   "metadata": {},
   "outputs": [
    {
     "data": {
      "text/plain": [
       "(3179, 9)"
      ]
     },
     "execution_count": 98,
     "metadata": {},
     "output_type": "execute_result"
    }
   ],
   "source": [
    "file[file['blood_glucose_level']>200]"
   ]
  },
  {
   "cell_type": "code",
   "execution_count": 99,
   "id": "3ae9af3f-3525-4a0d-a5e1-2283dfee9ca5",
   "metadata": {},
   "outputs": [],
   "source": [
    "file = file.drop(file[file['blood_glucose_level'] > 200].index)\n"
   ]
  },
  {
   "cell_type": "markdown",
   "id": "038e2dde-3760-4dbc-803a-ad7d28f2044b",
   "metadata": {},
   "source": [
    "Checking the shape after removing outliers of blood_glucose_level"
   ]
  },
  {
   "cell_type": "code",
   "execution_count": 100,
   "id": "86ca7f3b-39cf-4360-99ee-d93d4f0a72eb",
   "metadata": {},
   "outputs": [
    {
     "data": {
      "text/plain": [
       "(92189, 9)"
      ]
     },
     "execution_count": 100,
     "metadata": {},
     "output_type": "execute_result"
    }
   ],
   "source": [
    "file.shape"
   ]
  },
  {
   "cell_type": "markdown",
   "id": "bb672016-8711-4bf3-a575-146f32da7714",
   "metadata": {},
   "source": [
    "### Visualization of Data"
   ]
  },
  {
   "cell_type": "markdown",
   "id": "b7fee58f-5181-46de-9dc7-113fd191c1de",
   "metadata": {},
   "source": [
    "Checking the value_counts() of smoking_history"
   ]
  },
  {
   "cell_type": "code",
   "execution_count": 104,
   "id": "f5d3f328-7801-4baa-b9ad-7d68e30303e2",
   "metadata": {},
   "outputs": [
    {
     "data": {
      "text/plain": [
       "smoking_history\n",
       "never          32863\n",
       "No Info        32152\n",
       "current         8739\n",
       "former          8589\n",
       "not current     6037\n",
       "ever            3809\n",
       "Name: count, dtype: int64"
      ]
     },
     "execution_count": 104,
     "metadata": {},
     "output_type": "execute_result"
    }
   ],
   "source": [
    "file['smoking_history'].value_counts()"
   ]
  },
  {
   "cell_type": "code",
   "execution_count": 109,
   "id": "803370cf-0f24-4238-abf7-f540de13ddf6",
   "metadata": {},
   "outputs": [
    {
     "data": {
      "image/png": "[encoded data removed]",
      "text/plain": [
       "<Figure size 640x480 with 1 Axes>"
      ]
     },
     "metadata": {},
     "output_type": "display_data"
    }
   ],
   "source": [
    "file['smoking_history'].value_counts().plot(kind='pie',autopct='%.2f')\n",
    "plt.show()"
   ]
  },
  {
   "cell_type": "markdown",
   "id": "980cd31b-b12b-4a6c-881a-62293e185a58",
   "metadata": {},
   "source": [
    "##### Checking the value_counts() of gender"
   ]
  },
  {
   "cell_type": "code",
   "execution_count": 110,
   "id": "08b4ac98-11e7-4663-ac43-9622786a65e8",
   "metadata": {},
   "outputs": [
    {
     "data": {
      "text/plain": [
       "gender\n",
       "Female    53911\n",
       "Male      38260\n",
       "Other        18\n",
       "Name: count, dtype: int64"
      ]
     },
     "execution_count": 110,
     "metadata": {},
     "output_type": "execute_result"
    }
   ],
   "source": [
    "file['gender'].value_counts()"
   ]
  },
  {
   "cell_type": "markdown",
   "id": "3f11329e-1b25-42f9-88e2-c02473b1b7e6",
   "metadata": {},
   "source": [
    "##### PIE Chart for gender value counts()"
   ]
  },
  {
   "cell_type": "code",
   "execution_count": 111,
   "id": "e72ca4ff-14c8-4ace-9b57-6b0003994410",
   "metadata": {},
   "outputs": [
    {
     "data": {
      "image/png": "[encoded data removed]",
      "text/plain": [
       "<Figure size 640x480 with 1 Axes>"
      ]
     },
     "metadata": {},
     "output_type": "display_data"
    }
   ],
   "source": [
    "file['gender'].value_counts().plot(kind='pie',autopct='%.2f')\n",
    "plt.show()"
   ]
  },
  {
   "cell_type": "markdown",
   "id": "54eb29f2-6d19-49b0-a5be-c197f27b90a9",
   "metadata": {},
   "source": [
    "##### Working on Age Checking  age"
   ]
  },
  {
   "cell_type": "code",
   "execution_count": 119,
   "id": "a8be956a-c685-4582-9bfb-a86973d82379",
   "metadata": {},
   "outputs": [
    {
     "data": {
      "image/png": "[encoded data removed]",
      "text/plain": [
       "<Figure size 640x480 with 1 Axes>"
      ]
     },
     "metadata": {},
     "output_type": "display_data"
    }
   ],
   "source": [
    "plt.hist(file['age'],bins=10)\n",
    "plt.title(\"Age Historgram\")\n",
    "plt.xlabel(\"Age in years\")\n",
    "plt.show()"
   ]
  },
  {
   "cell_type": "markdown",
   "id": "75acc116-cd43-44a9-b547-31af85907832",
   "metadata": {},
   "source": [
    "#### Checking the visualization of blood_glucose level and HbA1c_level on diabetes"
   ]
  },
  {
   "cell_type": "code",
   "execution_count": 123,
   "id": "611a6804-aab0-44df-8d19-bff02cd15900",
   "metadata": {},
   "outputs": [
    {
     "data": {
      "image/png": "[encoded data removed]",
      "text/plain": [
       "<Figure size 640x480 with 1 Axes>"
      ]
     },
     "metadata": {},
     "output_type": "display_data"
    }
   ],
   "source": [
    "sns.scatterplot(data=file,x=file['blood_glucose_level'],y=file['diabetes'],hue=file['HbA1c_level'])\n",
    "plt.show()"
   ]
  },
  {
   "cell_type": "markdown",
   "id": "b8170579-2360-4830-afbf-d2547e36bad0",
   "metadata": {},
   "source": [
    "##### Checking what is effect of bmi on diabetes\n",
    "##### Observation:\n",
    "BMi has no effect on diabetes.ANy person with bmi ration may have diabetes"
   ]
  },
  {
   "cell_type": "code",
   "execution_count": 124,
   "id": "6e05c903-8f41-4817-9fae-e7d8d63094ec",
   "metadata": {},
   "outputs": [
    {
     "data": {
      "image/png": "[encoded data removed]",
      "text/plain": [
       "<Figure size 640x480 with 1 Axes>"
      ]
     },
     "metadata": {},
     "output_type": "display_data"
    }
   ],
   "source": [
    "sns.scatterplot(data=file,x=file['bmi'],y=file['diabetes'])\n",
    "plt.show()"
   ]
  },
  {
   "cell_type": "code",
   "execution_count": 127,
   "id": "4873324a-4bda-4ef2-ab85-347cc0098dae",
   "metadata": {},
   "outputs": [
    {
     "name": "stderr",
     "output_type": "stream",
     "text": [
      "/tmp/ipykernel_12721/3961184124.py:1: FutureWarning: \n",
      "\n",
      "Passing `palette` without assigning `hue` is deprecated and will be removed in v0.14.0. Assign the `x` variable to `hue` and set `legend=False` for the same effect.\n",
      "\n",
      "  sns.barplot(data=file,x=file['gender'],y=file['diabetes'],palette='dark')\n"
     ]
    },
    {
     "data": {
      "image/png": "[encoded data removed]",
      "text/plain": [
       "<Figure size 640x480 with 1 Axes>"
      ]
     },
     "metadata": {},
     "output_type": "display_data"
    }
   ],
   "source": [
    "sns.barplot(data=file,x=file['gender'],y=file['diabetes'],palette='dark')\n",
    "plt.show()"
   ]
  },
  {
   "cell_type": "markdown",
   "id": "6440f553-3383-4ee2-9890-88eae6627769",
   "metadata": {},
   "source": [
    "### Converting the Categorical Data into Numerical Data"
   ]
  },
  {
   "cell_type": "code",
   "execution_count": 132,
   "id": "29599de0-788a-48d1-b49d-a1903650172f",
   "metadata": {},
   "outputs": [],
   "source": [
    "label = LabelEncoder()\n",
    "file['gender'] = label.fit_transform(file['gender'])\n",
    "file['smoking_history'] = label.fit_transform(file['smoking_history'])"
   ]
  },
  {
   "cell_type": "markdown",
   "id": "ae422f94-6e45-4973-a649-1ef078a94d74",
   "metadata": {},
   "source": [
    "#### Correlation Matrix and Heatmap"
   ]
  },
  {
   "cell_type": "code",
   "execution_count": 134,
   "id": "0dbd6d58-0f76-4c41-a8cc-6652a728bfba",
   "metadata": {},
   "outputs": [],
   "source": [
    "corr_matrix = file.corr()"
   ]
  },
  {
   "cell_type": "code",
   "execution_count": 138,
   "id": "5699ff67-7299-4c17-8a00-907b7dbf1484",
   "metadata": {
    "scrolled": true
   },
   "outputs": [
    {
     "data": {
      "image/png": "[encoded data removed]",
      "text/plain": [
       "<Figure size 1000x800 with 2 Axes>"
      ]
     },
     "metadata": {},
     "output_type": "display_data"
    }
   ],
   "source": [
    "plt.figure(figsize=(10,8))\n",
    "sns.heatmap(corr_matrix, annot=True, linewidths=0.7, fmt=\".2f\", cmap=\"Blues\")\n",
    "plt.show()"
   ]
  },
  {
   "cell_type": "markdown",
   "id": "ebd8c129-0b84-4a61-8ace-64c42ca1ccbc",
   "metadata": {},
   "source": [
    "##### Plotting Graphs Diabetes vs Blood_glucose_level,hypertension,smoking_hostory,bmi"
   ]
  },
  {
   "cell_type": "code",
   "execution_count": 140,
   "id": "78ca4038-5ae7-4b45-8621-db6ff0713caa",
   "metadata": {},
   "outputs": [
    {
     "data": {
      "image/png": "[encoded data removed]",
      "text/plain": [
       "<Figure size 400x300 with 1 Axes>"
      ]
     },
     "metadata": {},
     "output_type": "display_data"
    },
    {
     "data": {
      "image/png": "[encoded data removed]",
      "text/plain": [
       "<Figure size 400x300 with 1 Axes>"
      ]
     },
     "metadata": {},
     "output_type": "display_data"
    },
    {
     "data": {
      "image/png": "[encoded data removed]",
      "text/plain": [
       "<Figure size 400x300 with 1 Axes>"
      ]
     },
     "metadata": {},
     "output_type": "display_data"
    },
    {
     "data": {
      "image/png": "[encoded data removed]",
      "text/plain": [
       "<Figure size 400x300 with 1 Axes>"
      ]
     },
     "metadata": {},
     "output_type": "display_data"
    }
   ],
   "source": [
    "# from pandas.plotting import scatter_matrix\n",
    "attributes = ['blood_glucose_level','hypertension','smoking_history','bmi']\n",
    "y_attribute = 'diabetes'\n",
    "for attribute in attributes:\n",
    "    plt.figure(figsize=(4,3))\n",
    "    plt.scatter(file[attribute], file[y_attribute])\n",
    "    plt.xlabel(attribute)\n",
    "    plt.ylabel(y_attribute)\n",
    "    plt.title(f\"Scatter Plot of {attribute} vs {y_attribute}\")\n",
    "    plt.show()"
   ]
  },
  {
   "cell_type": "markdown",
   "id": "e11a3ac0-1495-4d05-96a6-dbd7c27d5534",
   "metadata": {},
   "source": [
    "## Train test Split"
   ]
  },
  {
   "cell_type": "code",
   "execution_count": 142,
   "id": "27375e6d-67af-4194-99d0-c581c75ff523",
   "metadata": {},
   "outputs": [],
   "source": [
    "# Split the data into features and labels\n",
    "X = file.drop(\"diabetes\", axis=1)\n",
    "y = file['diabetes']"
   ]
  },
  {
   "cell_type": "code",
   "execution_count": 144,
   "id": "ea43a9b6-b721-4094-8738-846e114313f1",
   "metadata": {},
   "outputs": [
    {
     "data": {
      "text/html": [
       "<div>\n",
       "<style scoped>\n",
       "    .dataframe tbody tr th:only-of-type {\n",
       "        vertical-align: middle;\n",
       "    }\n",
       "\n",
       "    .dataframe tbody tr th {\n",
       "        vertical-align: top;\n",
       "    }\n",
       "\n",
       "    .dataframe thead th {\n",
       "        text-align: right;\n",
       "    }\n",
       "</style>\n",
       "<table border=\"1\" class=\"dataframe\">\n",
       "  <thead>\n",
       "    <tr style=\"text-align: right;\">\n",
       "      <th></th>\n",
       "      <th>gender</th>\n",
       "      <th>age</th>\n",
       "      <th>hypertension</th>\n",
       "      <th>heart_disease</th>\n",
       "      <th>smoking_history</th>\n",
       "      <th>bmi</th>\n",
       "      <th>HbA1c_level</th>\n",
       "      <th>blood_glucose_level</th>\n",
       "    </tr>\n",
       "  </thead>\n",
       "  <tbody>\n",
       "    <tr>\n",
       "      <th>0</th>\n",
       "      <td>0</td>\n",
       "      <td>80.0</td>\n",
       "      <td>0</td>\n",
       "      <td>1</td>\n",
       "      <td>4</td>\n",
       "      <td>25.19</td>\n",
       "      <td>6.6</td>\n",
       "      <td>140</td>\n",
       "    </tr>\n",
       "    <tr>\n",
       "      <th>1</th>\n",
       "      <td>0</td>\n",
       "      <td>54.0</td>\n",
       "      <td>0</td>\n",
       "      <td>0</td>\n",
       "      <td>0</td>\n",
       "      <td>27.32</td>\n",
       "      <td>6.6</td>\n",
       "      <td>80</td>\n",
       "    </tr>\n",
       "    <tr>\n",
       "      <th>2</th>\n",
       "      <td>1</td>\n",
       "      <td>28.0</td>\n",
       "      <td>0</td>\n",
       "      <td>0</td>\n",
       "      <td>4</td>\n",
       "      <td>27.32</td>\n",
       "      <td>5.7</td>\n",
       "      <td>158</td>\n",
       "    </tr>\n",
       "    <tr>\n",
       "      <th>3</th>\n",
       "      <td>0</td>\n",
       "      <td>36.0</td>\n",
       "      <td>0</td>\n",
       "      <td>0</td>\n",
       "      <td>1</td>\n",
       "      <td>23.45</td>\n",
       "      <td>5.0</td>\n",
       "      <td>155</td>\n",
       "    </tr>\n",
       "    <tr>\n",
       "      <th>4</th>\n",
       "      <td>1</td>\n",
       "      <td>76.0</td>\n",
       "      <td>1</td>\n",
       "      <td>1</td>\n",
       "      <td>1</td>\n",
       "      <td>20.14</td>\n",
       "      <td>4.8</td>\n",
       "      <td>155</td>\n",
       "    </tr>\n",
       "  </tbody>\n",
       "</table>\n",
       "</div>"
      ],
      "text/plain": [
       "   gender   age  hypertension  heart_disease  smoking_history    bmi  \\\n",
       "0       0  80.0             0              1                4  25.19   \n",
       "1       0  54.0             0              0                0  27.32   \n",
       "2       1  28.0             0              0                4  27.32   \n",
       "3       0  36.0             0              0                1  23.45   \n",
       "4       1  76.0             1              1                1  20.14   \n",
       "\n",
       "   HbA1c_level  blood_glucose_level  \n",
       "0          6.6                  140  \n",
       "1          6.6                   80  \n",
       "2          5.7                  158  \n",
       "3          5.0                  155  \n",
       "4          4.8                  155  "
      ]
     },
     "execution_count": 144,
     "metadata": {},
     "output_type": "execute_result"
    }
   ],
   "source": [
    "X.head()"
   ]
  },
  {
   "cell_type": "code",
   "execution_count": 146,
   "id": "a12f586a-a406-46bb-b489-1fa6f849dc8b",
   "metadata": {},
   "outputs": [
    {
     "data": {
      "text/plain": [
       "0    0\n",
       "1    0\n",
       "2    0\n",
       "3    0\n",
       "4    0\n",
       "Name: diabetes, dtype: int64"
      ]
     },
     "execution_count": 146,
     "metadata": {},
     "output_type": "execute_result"
    }
   ],
   "source": [
    "y.head()"
   ]
  },
  {
   "cell_type": "code",
   "execution_count": 147,
   "id": "5ceb9d33-e93c-43e5-b1dd-83e955f6d1ce",
   "metadata": {},
   "outputs": [],
   "source": [
    "# Split the data into training and test set\n",
    "X_train, X_test, y_train, y_test = train_test_split(X, y, test_size=0.3,random_state=42)"
   ]
  },
  {
   "cell_type": "markdown",
   "id": "105cfbde-2b05-4944-907b-f58f5f9b749d",
   "metadata": {},
   "source": [
    "Now 30% data will be used for testing purpose"
   ]
  },
  {
   "cell_type": "markdown",
   "id": "9643c098-0493-4f8c-8e1c-79b3b16b7df4",
   "metadata": {},
   "source": [
    "### Data Transformation"
   ]
  },
  {
   "cell_type": "code",
   "execution_count": 151,
   "id": "dd576e96-6d86-403e-91af-a53866c7fca1",
   "metadata": {},
   "outputs": [],
   "source": [
    "# performing Data Transformation by scaling dataset\n",
    "\n",
    "scalar = MinMaxScaler()\n",
    "X_scaled = scalar.fit_transform(X_train)\n",
    "\n",
    "# Just in-case if we need scaled test dataset\n",
    "X_scaled_test = scalar.fit_transform(X_test)"
   ]
  },
  {
   "cell_type": "code",
   "execution_count": 152,
   "id": "a2219aa6-a9c1-42a8-a5e8-119ddcfcc1d5",
   "metadata": {},
   "outputs": [
    {
     "data": {
      "text/plain": [
       "array([[0.        , 0.4994995 , 0.        , ..., 0.59664916, 0.4       ,\n",
       "        0.65      ],\n",
       "       [0.5       , 0.21171171, 0.        , ..., 0.34058515, 0.56363636,\n",
       "        0.16666667],\n",
       "       [0.        , 0.67467467, 0.        , ..., 0.51487872, 0.23636364,\n",
       "        0.65      ],\n",
       "       ...,\n",
       "       [0.5       , 0.8998999 , 1.        , ..., 0.87846962, 0.47272727,\n",
       "        0.38333333],\n",
       "       [0.        , 0.78728729, 0.        , ..., 0.68817204, 0.23636364,\n",
       "        0.08333333],\n",
       "       [0.        , 0.67467467, 0.        , ..., 0.38734684, 0.45454545,\n",
       "        0.625     ]])"
      ]
     },
     "execution_count": 152,
     "metadata": {},
     "output_type": "execute_result"
    }
   ],
   "source": [
    "X_scaled"
   ]
  },
  {
   "cell_type": "markdown",
   "id": "1aabf017-43b0-4666-ba50-c1c288633d75",
   "metadata": {},
   "source": [
    "## Part 2.Supervised Learning"
   ]
  },
  {
   "cell_type": "markdown",
   "id": "8b7370a7-9be1-4096-a19c-7154cf236cb9",
   "metadata": {},
   "source": [
    "### Support Vector Regressor"
   ]
  },
  {
   "cell_type": "code",
   "execution_count": 153,
   "id": "79cbb7b3-7f91-46f5-87e1-f62e4491230e",
   "metadata": {},
   "outputs": [
    {
     "data": {
      "text/html": [
       "<style>#sk-container-id-1 {color: black;}#sk-container-id-1 pre{padding: 0;}#sk-container-id-1 div.sk-toggleable {background-color: white;}#sk-container-id-1 label.sk-toggleable__label {cursor: pointer;display: block;width: 100%;margin-bottom: 0;padding: 0.3em;box-sizing: border-box;text-align: center;}#sk-container-id-1 label.sk-toggleable__label-arrow:before {content: \"▸\";float: left;margin-right: 0.25em;color: #696969;}#sk-container-id-1 label.sk-toggleable__label-arrow:hover:before {color: black;}#sk-container-id-1 div.sk-estimator:hover label.sk-toggleable__label-arrow:before {color: black;}#sk-container-id-1 div.sk-toggleable__content {max-height: 0;max-width: 0;overflow: hidden;text-align: left;background-color: #f0f8ff;}#sk-container-id-1 div.sk-toggleable__content pre {margin: 0.2em;color: black;border-radius: 0.25em;background-color: #f0f8ff;}#sk-container-id-1 input.sk-toggleable__control:checked~div.sk-toggleable__content {max-height: 200px;max-width: 100%;overflow: auto;}#sk-container-id-1 input.sk-toggleable__control:checked~label.sk-toggleable__label-arrow:before {content: \"▾\";}#sk-container-id-1 div.sk-estimator input.sk-toggleable__control:checked~label.sk-toggleable__label {background-color: #d4ebff;}#sk-container-id-1 div.sk-label input.sk-toggleable__control:checked~label.sk-toggleable__label {background-color: #d4ebff;}#sk-container-id-1 input.sk-hidden--visually {border: 0;clip: rect(1px 1px 1px 1px);clip: rect(1px, 1px, 1px, 1px);height: 1px;margin: -1px;overflow: hidden;padding: 0;position: absolute;width: 1px;}#sk-container-id-1 div.sk-estimator {font-family: monospace;background-color: #f0f8ff;border: 1px dotted black;border-radius: 0.25em;box-sizing: border-box;margin-bottom: 0.5em;}#sk-container-id-1 div.sk-estimator:hover {background-color: #d4ebff;}#sk-container-id-1 div.sk-parallel-item::after {content: \"\";width: 100%;border-bottom: 1px solid gray;flex-grow: 1;}#sk-container-id-1 div.sk-label:hover label.sk-toggleable__label {background-color: #d4ebff;}#sk-container-id-1 div.sk-serial::before {content: \"\";position: absolute;border-left: 1px solid gray;box-sizing: border-box;top: 0;bottom: 0;left: 50%;z-index: 0;}#sk-container-id-1 div.sk-serial {display: flex;flex-direction: column;align-items: center;background-color: white;padding-right: 0.2em;padding-left: 0.2em;position: relative;}#sk-container-id-1 div.sk-item {position: relative;z-index: 1;}#sk-container-id-1 div.sk-parallel {display: flex;align-items: stretch;justify-content: center;background-color: white;position: relative;}#sk-container-id-1 div.sk-item::before, #sk-container-id-1 div.sk-parallel-item::before {content: \"\";position: absolute;border-left: 1px solid gray;box-sizing: border-box;top: 0;bottom: 0;left: 50%;z-index: -1;}#sk-container-id-1 div.sk-parallel-item {display: flex;flex-direction: column;z-index: 1;position: relative;background-color: white;}#sk-container-id-1 div.sk-parallel-item:first-child::after {align-self: flex-end;width: 50%;}#sk-container-id-1 div.sk-parallel-item:last-child::after {align-self: flex-start;width: 50%;}#sk-container-id-1 div.sk-parallel-item:only-child::after {width: 0;}#sk-container-id-1 div.sk-dashed-wrapped {border: 1px dashed gray;margin: 0 0.4em 0.5em 0.4em;box-sizing: border-box;padding-bottom: 0.4em;background-color: white;}#sk-container-id-1 div.sk-label label {font-family: monospace;font-weight: bold;display: inline-block;line-height: 1.2em;}#sk-container-id-1 div.sk-label-container {text-align: center;}#sk-container-id-1 div.sk-container {/* jupyter's `normalize.less` sets `[hidden] { display: none; }` but bootstrap.min.css set `[hidden] { display: none !important; }` so we also need the `!important` here to be able to override the default hidden behavior on the sphinx rendered scikit-learn.org. See: https://github.com/scikit-learn/scikit-learn/issues/21755 */display: inline-block !important;position: relative;}#sk-container-id-1 div.sk-text-repr-fallback {display: none;}</style><div id=\"sk-container-id-1\" class=\"sk-top-container\"><div class=\"sk-text-repr-fallback\"><pre>SVR(epsilon=0.2, kernel=&#x27;sigmoid&#x27;)</pre><b>In a Jupyter environment, please rerun this cell to show the HTML representation or trust the notebook. <br />On GitHub, the HTML representation is unable to render, please try loading this page with nbviewer.org.</b></div><div class=\"sk-container\" hidden><div class=\"sk-item\"><div class=\"sk-estimator sk-toggleable\"><input class=\"sk-toggleable__control sk-hidden--visually\" id=\"sk-estimator-id-1\" type=\"checkbox\" checked><label for=\"sk-estimator-id-1\" class=\"sk-toggleable__label sk-toggleable__label-arrow\">SVR</label><div class=\"sk-toggleable__content\"><pre>SVR(epsilon=0.2, kernel=&#x27;sigmoid&#x27;)</pre></div></div></div></div></div>"
      ],
      "text/plain": [
       "SVR(epsilon=0.2, kernel='sigmoid')"
      ]
     },
     "execution_count": 153,
     "metadata": {},
     "output_type": "execute_result"
    }
   ],
   "source": [
    "SVR_model = SVR(kernel='sigmoid',\n",
    "                C=1.0,\n",
    "                epsilon=0.2)\n",
    "\n",
    "SVR_model.fit(X_train, y_train)"
   ]
  },
  {
   "cell_type": "code",
   "execution_count": 154,
   "id": "25ab67aa-a15b-4467-84c2-8b1331c98827",
   "metadata": {},
   "outputs": [],
   "source": [
    "# Making predictions with SVR\n",
    "svr_predictions = SVR_model.predict(X_test)"
   ]
  },
  {
   "cell_type": "code",
   "execution_count": 155,
   "id": "330240e9-5267-4f80-bd37-395f137f4d77",
   "metadata": {},
   "outputs": [
    {
     "data": {
      "text/plain": [
       "array([-1644.9853845 ,   857.01383488,  -305.6769177 ,   436.21280425,\n",
       "        -717.83316277,  -389.96952627,   808.53837153,  -356.71537371,\n",
       "         160.75830518,   782.65807686])"
      ]
     },
     "execution_count": 155,
     "metadata": {},
     "output_type": "execute_result"
    }
   ],
   "source": [
    "svr_predictions[:10]"
   ]
  },
  {
   "cell_type": "markdown",
   "id": "4ffefdc1-659a-4fba-988e-cd35471d6a46",
   "metadata": {},
   "source": [
    "##### Checking the Accuracy"
   ]
  },
  {
   "cell_type": "code",
   "execution_count": 156,
   "id": "256f273b-dc01-44f4-9fbf-ae1665177526",
   "metadata": {},
   "outputs": [
    {
     "name": "stdout",
     "output_type": "stream",
     "text": [
      "Accuracy with threshold : 46.0%\n"
     ]
    }
   ],
   "source": [
    "# setting a threshold\n",
    "threshold = 0.5\n",
    "svr_predictions_binary = (svr_predictions >= threshold).astype(int)\n",
    "\n",
    "accuracy = accuracy_score(y_test, svr_predictions_binary)\n",
    "print(f\"Accuracy with threshold : {round(accuracy,2) * 100}%\")"
   ]
  },
  {
   "cell_type": "markdown",
   "id": "c2bf959a-d2b6-45f7-a2e2-6805627ea1ef",
   "metadata": {},
   "source": [
    "#### Actual VS Model_predicted Accuracy"
   ]
  },
  {
   "cell_type": "code",
   "execution_count": 157,
   "id": "1458487f-2aea-4db0-b626-75e2f2960fc5",
   "metadata": {},
   "outputs": [
    {
     "data": {
      "text/html": [
       "<div>\n",
       "<style scoped>\n",
       "    .dataframe tbody tr th:only-of-type {\n",
       "        vertical-align: middle;\n",
       "    }\n",
       "\n",
       "    .dataframe tbody tr th {\n",
       "        vertical-align: top;\n",
       "    }\n",
       "\n",
       "    .dataframe thead th {\n",
       "        text-align: right;\n",
       "    }\n",
       "</style>\n",
       "<table border=\"1\" class=\"dataframe\">\n",
       "  <thead>\n",
       "    <tr style=\"text-align: right;\">\n",
       "      <th></th>\n",
       "      <th>Actual</th>\n",
       "      <th>SVR_Predictions</th>\n",
       "    </tr>\n",
       "  </thead>\n",
       "  <tbody>\n",
       "    <tr>\n",
       "      <th>96205</th>\n",
       "      <td>0</td>\n",
       "      <td>0</td>\n",
       "    </tr>\n",
       "    <tr>\n",
       "      <th>22747</th>\n",
       "      <td>0</td>\n",
       "      <td>1</td>\n",
       "    </tr>\n",
       "    <tr>\n",
       "      <th>86887</th>\n",
       "      <td>0</td>\n",
       "      <td>0</td>\n",
       "    </tr>\n",
       "    <tr>\n",
       "      <th>30205</th>\n",
       "      <td>0</td>\n",
       "      <td>1</td>\n",
       "    </tr>\n",
       "    <tr>\n",
       "      <th>13637</th>\n",
       "      <td>0</td>\n",
       "      <td>0</td>\n",
       "    </tr>\n",
       "  </tbody>\n",
       "</table>\n",
       "</div>"
      ],
      "text/plain": [
       "       Actual  SVR_Predictions\n",
       "96205       0                0\n",
       "22747       0                1\n",
       "86887       0                0\n",
       "30205       0                1\n",
       "13637       0                0"
      ]
     },
     "execution_count": 157,
     "metadata": {},
     "output_type": "execute_result"
    }
   ],
   "source": [
    "df_predictions = pd.DataFrame({'Actual': y_test, 'SVR_Predictions': svr_predictions_binary})\n",
    "df_predictions.head()"
   ]
  },
  {
   "cell_type": "markdown",
   "id": "283fd487-7543-49c7-9d77-c1a5e88ec1e0",
   "metadata": {},
   "source": [
    "### Random Forest Regressor"
   ]
  },
  {
   "cell_type": "code",
   "execution_count": 158,
   "id": "c0bbfab1-7ae1-4317-a6b4-9ebac15f2c02",
   "metadata": {},
   "outputs": [
    {
     "data": {
      "text/html": [
       "<style>#sk-container-id-2 {color: black;}#sk-container-id-2 pre{padding: 0;}#sk-container-id-2 div.sk-toggleable {background-color: white;}#sk-container-id-2 label.sk-toggleable__label {cursor: pointer;display: block;width: 100%;margin-bottom: 0;padding: 0.3em;box-sizing: border-box;text-align: center;}#sk-container-id-2 label.sk-toggleable__label-arrow:before {content: \"▸\";float: left;margin-right: 0.25em;color: #696969;}#sk-container-id-2 label.sk-toggleable__label-arrow:hover:before {color: black;}#sk-container-id-2 div.sk-estimator:hover label.sk-toggleable__label-arrow:before {color: black;}#sk-container-id-2 div.sk-toggleable__content {max-height: 0;max-width: 0;overflow: hidden;text-align: left;background-color: #f0f8ff;}#sk-container-id-2 div.sk-toggleable__content pre {margin: 0.2em;color: black;border-radius: 0.25em;background-color: #f0f8ff;}#sk-container-id-2 input.sk-toggleable__control:checked~div.sk-toggleable__content {max-height: 200px;max-width: 100%;overflow: auto;}#sk-container-id-2 input.sk-toggleable__control:checked~label.sk-toggleable__label-arrow:before {content: \"▾\";}#sk-container-id-2 div.sk-estimator input.sk-toggleable__control:checked~label.sk-toggleable__label {background-color: #d4ebff;}#sk-container-id-2 div.sk-label input.sk-toggleable__control:checked~label.sk-toggleable__label {background-color: #d4ebff;}#sk-container-id-2 input.sk-hidden--visually {border: 0;clip: rect(1px 1px 1px 1px);clip: rect(1px, 1px, 1px, 1px);height: 1px;margin: -1px;overflow: hidden;padding: 0;position: absolute;width: 1px;}#sk-container-id-2 div.sk-estimator {font-family: monospace;background-color: #f0f8ff;border: 1px dotted black;border-radius: 0.25em;box-sizing: border-box;margin-bottom: 0.5em;}#sk-container-id-2 div.sk-estimator:hover {background-color: #d4ebff;}#sk-container-id-2 div.sk-parallel-item::after {content: \"\";width: 100%;border-bottom: 1px solid gray;flex-grow: 1;}#sk-container-id-2 div.sk-label:hover label.sk-toggleable__label {background-color: #d4ebff;}#sk-container-id-2 div.sk-serial::before {content: \"\";position: absolute;border-left: 1px solid gray;box-sizing: border-box;top: 0;bottom: 0;left: 50%;z-index: 0;}#sk-container-id-2 div.sk-serial {display: flex;flex-direction: column;align-items: center;background-color: white;padding-right: 0.2em;padding-left: 0.2em;position: relative;}#sk-container-id-2 div.sk-item {position: relative;z-index: 1;}#sk-container-id-2 div.sk-parallel {display: flex;align-items: stretch;justify-content: center;background-color: white;position: relative;}#sk-container-id-2 div.sk-item::before, #sk-container-id-2 div.sk-parallel-item::before {content: \"\";position: absolute;border-left: 1px solid gray;box-sizing: border-box;top: 0;bottom: 0;left: 50%;z-index: -1;}#sk-container-id-2 div.sk-parallel-item {display: flex;flex-direction: column;z-index: 1;position: relative;background-color: white;}#sk-container-id-2 div.sk-parallel-item:first-child::after {align-self: flex-end;width: 50%;}#sk-container-id-2 div.sk-parallel-item:last-child::after {align-self: flex-start;width: 50%;}#sk-container-id-2 div.sk-parallel-item:only-child::after {width: 0;}#sk-container-id-2 div.sk-dashed-wrapped {border: 1px dashed gray;margin: 0 0.4em 0.5em 0.4em;box-sizing: border-box;padding-bottom: 0.4em;background-color: white;}#sk-container-id-2 div.sk-label label {font-family: monospace;font-weight: bold;display: inline-block;line-height: 1.2em;}#sk-container-id-2 div.sk-label-container {text-align: center;}#sk-container-id-2 div.sk-container {/* jupyter's `normalize.less` sets `[hidden] { display: none; }` but bootstrap.min.css set `[hidden] { display: none !important; }` so we also need the `!important` here to be able to override the default hidden behavior on the sphinx rendered scikit-learn.org. See: https://github.com/scikit-learn/scikit-learn/issues/21755 */display: inline-block !important;position: relative;}#sk-container-id-2 div.sk-text-repr-fallback {display: none;}</style><div id=\"sk-container-id-2\" class=\"sk-top-container\"><div class=\"sk-text-repr-fallback\"><pre>RandomForestRegressor(max_depth=10, n_estimators=300, random_state=0)</pre><b>In a Jupyter environment, please rerun this cell to show the HTML representation or trust the notebook. <br />On GitHub, the HTML representation is unable to render, please try loading this page with nbviewer.org.</b></div><div class=\"sk-container\" hidden><div class=\"sk-item\"><div class=\"sk-estimator sk-toggleable\"><input class=\"sk-toggleable__control sk-hidden--visually\" id=\"sk-estimator-id-2\" type=\"checkbox\" checked><label for=\"sk-estimator-id-2\" class=\"sk-toggleable__label sk-toggleable__label-arrow\">RandomForestRegressor</label><div class=\"sk-toggleable__content\"><pre>RandomForestRegressor(max_depth=10, n_estimators=300, random_state=0)</pre></div></div></div></div></div>"
      ],
      "text/plain": [
       "RandomForestRegressor(max_depth=10, n_estimators=300, random_state=0)"
      ]
     },
     "execution_count": 158,
     "metadata": {},
     "output_type": "execute_result"
    }
   ],
   "source": [
    "RFR_model = RandomForestRegressor(n_estimators=300,\n",
    "                                  max_depth=10,\n",
    "                                  criterion=\"squared_error\",\n",
    "                                  random_state=0)\n",
    "\n",
    "RFR_model.fit(X_train, y_train)"
   ]
  },
  {
   "cell_type": "markdown",
   "id": "e00a58cf-ec0c-4b93-8d10-ff4bb0793107",
   "metadata": {},
   "source": [
    "**Model prediction**"
   ]
  },
  {
   "cell_type": "code",
   "execution_count": 159,
   "id": "7163ab3f-7f49-4fa5-8101-46f1dbdceef8",
   "metadata": {},
   "outputs": [],
   "source": [
    "RFR_predictions = RFR_model.predict(X_test)"
   ]
  },
  {
   "cell_type": "markdown",
   "id": "fb2dc420-3a27-4f07-95a1-40eff07d5295",
   "metadata": {},
   "source": [
    "**Model Accuracy**"
   ]
  },
  {
   "cell_type": "code",
   "execution_count": 160,
   "id": "acc8fad5-561f-4451-b4db-c173c230bf3c",
   "metadata": {},
   "outputs": [
    {
     "name": "stdout",
     "output_type": "stream",
     "text": [
      "RFR accuracy with threshold : 97.0%\n"
     ]
    }
   ],
   "source": [
    "threshold = 0.5\n",
    "RFR_predictions_binary = (RFR_predictions >= threshold).astype(int)\n",
    "\n",
    "RFR_accuracy = accuracy_score(y_test, RFR_predictions_binary)\n",
    "print(f\"RFR accuracy with threshold : {round(RFR_accuracy,2) * 100}%\")"
   ]
  },
  {
   "cell_type": "markdown",
   "id": "a7a889d6-87bf-4811-a42c-029fc8a87c9b",
   "metadata": {},
   "source": [
    "**Actual VS prediction**"
   ]
  },
  {
   "cell_type": "code",
   "execution_count": 161,
   "id": "1882162b-7157-4b80-bc27-464e55f21981",
   "metadata": {},
   "outputs": [
    {
     "data": {
      "text/html": [
       "<div>\n",
       "<style scoped>\n",
       "    .dataframe tbody tr th:only-of-type {\n",
       "        vertical-align: middle;\n",
       "    }\n",
       "\n",
       "    .dataframe tbody tr th {\n",
       "        vertical-align: top;\n",
       "    }\n",
       "\n",
       "    .dataframe thead th {\n",
       "        text-align: right;\n",
       "    }\n",
       "</style>\n",
       "<table border=\"1\" class=\"dataframe\">\n",
       "  <thead>\n",
       "    <tr style=\"text-align: right;\">\n",
       "      <th></th>\n",
       "      <th>Actual</th>\n",
       "      <th>RFR_Predictions</th>\n",
       "    </tr>\n",
       "  </thead>\n",
       "  <tbody>\n",
       "    <tr>\n",
       "      <th>96205</th>\n",
       "      <td>0</td>\n",
       "      <td>0</td>\n",
       "    </tr>\n",
       "    <tr>\n",
       "      <th>22747</th>\n",
       "      <td>0</td>\n",
       "      <td>0</td>\n",
       "    </tr>\n",
       "    <tr>\n",
       "      <th>86887</th>\n",
       "      <td>0</td>\n",
       "      <td>0</td>\n",
       "    </tr>\n",
       "    <tr>\n",
       "      <th>30205</th>\n",
       "      <td>0</td>\n",
       "      <td>0</td>\n",
       "    </tr>\n",
       "    <tr>\n",
       "      <th>13637</th>\n",
       "      <td>0</td>\n",
       "      <td>0</td>\n",
       "    </tr>\n",
       "  </tbody>\n",
       "</table>\n",
       "</div>"
      ],
      "text/plain": [
       "       Actual  RFR_Predictions\n",
       "96205       0                0\n",
       "22747       0                0\n",
       "86887       0                0\n",
       "30205       0                0\n",
       "13637       0                0"
      ]
     },
     "execution_count": 161,
     "metadata": {},
     "output_type": "execute_result"
    }
   ],
   "source": [
    "df_RFR_predictions = pd.DataFrame({'Actual': y_test, 'RFR_Predictions': RFR_predictions_binary})\n",
    "df_RFR_predictions.head()"
   ]
  },
  {
   "cell_type": "markdown",
   "id": "fd20ddfd-2f29-4d18-9eff-fad002209ad9",
   "metadata": {},
   "source": [
    "### Evaluation of Regression models"
   ]
  },
  {
   "cell_type": "code",
   "execution_count": 162,
   "id": "2a1d9a7e-fdc0-413c-997e-5d6a8063e0b4",
   "metadata": {},
   "outputs": [],
   "source": [
    "# SVR evaluation\n",
    "SVR_MAE = mean_absolute_error(y_true=y_test, y_pred=svr_predictions)\n",
    "SVR_MSE = mean_squared_error(y_true=y_test, y_pred=svr_predictions)\n",
    "SVR_RMSE = np.sqrt(SVR_MSE)"
   ]
  },
  {
   "cell_type": "code",
   "execution_count": 163,
   "id": "d3dd24b8-3212-4516-83cf-f457edfd39f4",
   "metadata": {},
   "outputs": [
    {
     "name": "stdout",
     "output_type": "stream",
     "text": [
      "Support Vector Regressor Evaluation\n",
      "\n",
      "Mean Absolute Error:  600.9471209730839\n",
      "Mean Squared Error:  529247.6634280027\n",
      "Root Mean Squared Error:  727.4940985520108\n"
     ]
    }
   ],
   "source": [
    "print(\"Support Vector Regressor Evaluation\\n\")\n",
    "\n",
    "print(\"Mean Absolute Error: \", SVR_MAE)\n",
    "print(\"Mean Squared Error: \", SVR_MSE)\n",
    "print(\"Root Mean Squared Error: \", SVR_RMSE)"
   ]
  },
  {
   "cell_type": "code",
   "execution_count": 164,
   "id": "b38db19c-36dd-417a-99f0-81727c672277",
   "metadata": {},
   "outputs": [],
   "source": [
    "# RFR evaluation\n",
    "\n",
    "RFR_MAE = mean_absolute_error(y_test, RFR_predictions)\n",
    "RFR_MSE = mean_squared_error(y_test, RFR_predictions)\n",
    "RFR_RMSE = np.sqrt(RFR_MSE)"
   ]
  },
  {
   "cell_type": "code",
   "execution_count": 165,
   "id": "3209fc51-6d74-4b69-9bae-cce951792aed",
   "metadata": {},
   "outputs": [
    {
     "name": "stdout",
     "output_type": "stream",
     "text": [
      "Random Forest Regressor Evaluation\n",
      "\n",
      "Mean Absolute Error :  0.048400183487288036\n",
      "Mean Squared Error :  0.023776660093791993\n",
      "Root Mean Squared Error :  0.1541968225800778\n"
     ]
    }
   ],
   "source": [
    "print(\"Random Forest Regressor Evaluation\\n\")\n",
    "\n",
    "print(\"Mean Absolute Error : \", RFR_MAE)\n",
    "print(\"Mean Squared Error : \", RFR_MSE)\n",
    "print(\"Root Mean Squared Error : \", RFR_RMSE)"
   ]
  },
  {
   "cell_type": "code",
   "execution_count": 166,
   "id": "e4730caf-493e-4039-91b0-4f85b852157c",
   "metadata": {},
   "outputs": [
    {
     "data": {
      "image/png": "[encoded data removed]",
      "text/plain": [
       "<Figure size 640x480 with 1 Axes>"
      ]
     },
     "metadata": {},
     "output_type": "display_data"
    }
   ],
   "source": [
    "# visulaizing errors\n",
    "\n",
    "svr_values = [SVR_MAE, SVR_MSE, SVR_RMSE]\n",
    "rfr_values = [RFR_MAE, RFR_MSE, RFR_RMSE]\n",
    "\n",
    "positions = np.arange(len(svr_values))\n",
    "width = 0.35\n",
    "\n",
    "fig, ax = plt.subplots()\n",
    "\n",
    "svr_bars = ax.bar(positions - width/2, svr_values, width, label='SVR', color='lightblue')\n",
    "rfr_bars = ax.bar(positions + width/2, rfr_values, width, label='RFR', color='salmon')\n",
    "\n",
    "ax.set_xticks(positions)\n",
    "ax.set_xticklabels(['MAE', 'MSE', 'RMSE'])\n",
    "ax.set_xlabel('Error Metrics')\n",
    "ax.set_ylabel('Error Values')\n",
    "ax.set_title('Comparison of Error Metrics between SVR and RFR')\n",
    "\n",
    "for bars in [svr_bars, rfr_bars]:\n",
    "    for bar in bars:\n",
    "        yval = bar.get_height()\n",
    "        ax.text(bar.get_x() + bar.get_width()/2, yval + 0.01, round(yval, 3), ha='center', va='bottom')\n",
    "\n",
    "ax.legend();"
   ]
  },
  {
   "cell_type": "markdown",
   "id": "e99694b5-cc06-4837-bf92-27ec659b7347",
   "metadata": {},
   "source": [
    "## Classification Models"
   ]
  },
  {
   "cell_type": "code",
   "execution_count": 172,
   "id": "9327af35-a07c-46f2-b482-39cce543616f",
   "metadata": {},
   "outputs": [
    {
     "data": {
      "text/html": [
       "<style>#sk-container-id-4 {color: black;}#sk-container-id-4 pre{padding: 0;}#sk-container-id-4 div.sk-toggleable {background-color: white;}#sk-container-id-4 label.sk-toggleable__label {cursor: pointer;display: block;width: 100%;margin-bottom: 0;padding: 0.3em;box-sizing: border-box;text-align: center;}#sk-container-id-4 label.sk-toggleable__label-arrow:before {content: \"▸\";float: left;margin-right: 0.25em;color: #696969;}#sk-container-id-4 label.sk-toggleable__label-arrow:hover:before {color: black;}#sk-container-id-4 div.sk-estimator:hover label.sk-toggleable__label-arrow:before {color: black;}#sk-container-id-4 div.sk-toggleable__content {max-height: 0;max-width: 0;overflow: hidden;text-align: left;background-color: #f0f8ff;}#sk-container-id-4 div.sk-toggleable__content pre {margin: 0.2em;color: black;border-radius: 0.25em;background-color: #f0f8ff;}#sk-container-id-4 input.sk-toggleable__control:checked~div.sk-toggleable__content {max-height: 200px;max-width: 100%;overflow: auto;}#sk-container-id-4 input.sk-toggleable__control:checked~label.sk-toggleable__label-arrow:before {content: \"▾\";}#sk-container-id-4 div.sk-estimator input.sk-toggleable__control:checked~label.sk-toggleable__label {background-color: #d4ebff;}#sk-container-id-4 div.sk-label input.sk-toggleable__control:checked~label.sk-toggleable__label {background-color: #d4ebff;}#sk-container-id-4 input.sk-hidden--visually {border: 0;clip: rect(1px 1px 1px 1px);clip: rect(1px, 1px, 1px, 1px);height: 1px;margin: -1px;overflow: hidden;padding: 0;position: absolute;width: 1px;}#sk-container-id-4 div.sk-estimator {font-family: monospace;background-color: #f0f8ff;border: 1px dotted black;border-radius: 0.25em;box-sizing: border-box;margin-bottom: 0.5em;}#sk-container-id-4 div.sk-estimator:hover {background-color: #d4ebff;}#sk-container-id-4 div.sk-parallel-item::after {content: \"\";width: 100%;border-bottom: 1px solid gray;flex-grow: 1;}#sk-container-id-4 div.sk-label:hover label.sk-toggleable__label {background-color: #d4ebff;}#sk-container-id-4 div.sk-serial::before {content: \"\";position: absolute;border-left: 1px solid gray;box-sizing: border-box;top: 0;bottom: 0;left: 50%;z-index: 0;}#sk-container-id-4 div.sk-serial {display: flex;flex-direction: column;align-items: center;background-color: white;padding-right: 0.2em;padding-left: 0.2em;position: relative;}#sk-container-id-4 div.sk-item {position: relative;z-index: 1;}#sk-container-id-4 div.sk-parallel {display: flex;align-items: stretch;justify-content: center;background-color: white;position: relative;}#sk-container-id-4 div.sk-item::before, #sk-container-id-4 div.sk-parallel-item::before {content: \"\";position: absolute;border-left: 1px solid gray;box-sizing: border-box;top: 0;bottom: 0;left: 50%;z-index: -1;}#sk-container-id-4 div.sk-parallel-item {display: flex;flex-direction: column;z-index: 1;position: relative;background-color: white;}#sk-container-id-4 div.sk-parallel-item:first-child::after {align-self: flex-end;width: 50%;}#sk-container-id-4 div.sk-parallel-item:last-child::after {align-self: flex-start;width: 50%;}#sk-container-id-4 div.sk-parallel-item:only-child::after {width: 0;}#sk-container-id-4 div.sk-dashed-wrapped {border: 1px dashed gray;margin: 0 0.4em 0.5em 0.4em;box-sizing: border-box;padding-bottom: 0.4em;background-color: white;}#sk-container-id-4 div.sk-label label {font-family: monospace;font-weight: bold;display: inline-block;line-height: 1.2em;}#sk-container-id-4 div.sk-label-container {text-align: center;}#sk-container-id-4 div.sk-container {/* jupyter's `normalize.less` sets `[hidden] { display: none; }` but bootstrap.min.css set `[hidden] { display: none !important; }` so we also need the `!important` here to be able to override the default hidden behavior on the sphinx rendered scikit-learn.org. See: https://github.com/scikit-learn/scikit-learn/issues/21755 */display: inline-block !important;position: relative;}#sk-container-id-4 div.sk-text-repr-fallback {display: none;}</style><div id=\"sk-container-id-4\" class=\"sk-top-container\"><div class=\"sk-text-repr-fallback\"><pre>RandomForestClassifier(max_depth=10, min_samples_split=5, n_estimators=200)</pre><b>In a Jupyter environment, please rerun this cell to show the HTML representation or trust the notebook. <br />On GitHub, the HTML representation is unable to render, please try loading this page with nbviewer.org.</b></div><div class=\"sk-container\" hidden><div class=\"sk-item\"><div class=\"sk-estimator sk-toggleable\"><input class=\"sk-toggleable__control sk-hidden--visually\" id=\"sk-estimator-id-4\" type=\"checkbox\" checked><label for=\"sk-estimator-id-4\" class=\"sk-toggleable__label sk-toggleable__label-arrow\">RandomForestClassifier</label><div class=\"sk-toggleable__content\"><pre>RandomForestClassifier(max_depth=10, min_samples_split=5, n_estimators=200)</pre></div></div></div></div></div>"
      ],
      "text/plain": [
       "RandomForestClassifier(max_depth=10, min_samples_split=5, n_estimators=200)"
      ]
     },
     "execution_count": 172,
     "metadata": {},
     "output_type": "execute_result"
    }
   ],
   "source": [
    "RFC_model = RandomForestClassifier(n_estimators= 200,\n",
    "                                  max_depth=10,\n",
    "                                  min_samples_split= 5,\n",
    "                                  max_features='sqrt')\n",
    "RFC_model.fit(X_train,y_train)"
   ]
  },
  {
   "cell_type": "code",
   "execution_count": 173,
   "id": "d4259976-e39b-4b44-bc66-9455c35232ef",
   "metadata": {},
   "outputs": [],
   "source": [
    "# predicting target variable with LGR model on test data set\n",
    "y_pred_RFC = RFC_model.predict(X_test)"
   ]
  },
  {
   "cell_type": "code",
   "execution_count": 176,
   "id": "55bc9392-5d7c-4593-9a46-b257352fa915",
   "metadata": {},
   "outputs": [
    {
     "name": "stdout",
     "output_type": "stream",
     "text": [
      "Accuracy of Logistic Regression Classifier : 97.0%\n"
     ]
    }
   ],
   "source": [
    "RFC_accuracy = accuracy_score(y_test, y_pred_RFC)\n",
    "print(f\"Accuracy of Logistic Regression Classifier : {RFC_accuracy.round(2) * 100}%\")"
   ]
  },
  {
   "cell_type": "markdown",
   "id": "b724dee2-e8ed-45b9-a23a-7d8aa607420e",
   "metadata": {},
   "source": [
    "The Accuracy of Random ForestClassifer is 97%. This is performing very good over this large dataset"
   ]
  },
  {
   "cell_type": "markdown",
   "id": "7d372461-15b5-44de-a931-5edf72c9776f",
   "metadata": {},
   "source": [
    "## Logistic Classifer Model"
   ]
  },
  {
   "cell_type": "code",
   "execution_count": 177,
   "id": "be1923f0-f31c-41e8-81a9-41498ccc08f1",
   "metadata": {},
   "outputs": [
    {
     "data": {
      "text/html": [
       "<style>#sk-container-id-5 {color: black;}#sk-container-id-5 pre{padding: 0;}#sk-container-id-5 div.sk-toggleable {background-color: white;}#sk-container-id-5 label.sk-toggleable__label {cursor: pointer;display: block;width: 100%;margin-bottom: 0;padding: 0.3em;box-sizing: border-box;text-align: center;}#sk-container-id-5 label.sk-toggleable__label-arrow:before {content: \"▸\";float: left;margin-right: 0.25em;color: #696969;}#sk-container-id-5 label.sk-toggleable__label-arrow:hover:before {color: black;}#sk-container-id-5 div.sk-estimator:hover label.sk-toggleable__label-arrow:before {color: black;}#sk-container-id-5 div.sk-toggleable__content {max-height: 0;max-width: 0;overflow: hidden;text-align: left;background-color: #f0f8ff;}#sk-container-id-5 div.sk-toggleable__content pre {margin: 0.2em;color: black;border-radius: 0.25em;background-color: #f0f8ff;}#sk-container-id-5 input.sk-toggleable__control:checked~div.sk-toggleable__content {max-height: 200px;max-width: 100%;overflow: auto;}#sk-container-id-5 input.sk-toggleable__control:checked~label.sk-toggleable__label-arrow:before {content: \"▾\";}#sk-container-id-5 div.sk-estimator input.sk-toggleable__control:checked~label.sk-toggleable__label {background-color: #d4ebff;}#sk-container-id-5 div.sk-label input.sk-toggleable__control:checked~label.sk-toggleable__label {background-color: #d4ebff;}#sk-container-id-5 input.sk-hidden--visually {border: 0;clip: rect(1px 1px 1px 1px);clip: rect(1px, 1px, 1px, 1px);height: 1px;margin: -1px;overflow: hidden;padding: 0;position: absolute;width: 1px;}#sk-container-id-5 div.sk-estimator {font-family: monospace;background-color: #f0f8ff;border: 1px dotted black;border-radius: 0.25em;box-sizing: border-box;margin-bottom: 0.5em;}#sk-container-id-5 div.sk-estimator:hover {background-color: #d4ebff;}#sk-container-id-5 div.sk-parallel-item::after {content: \"\";width: 100%;border-bottom: 1px solid gray;flex-grow: 1;}#sk-container-id-5 div.sk-label:hover label.sk-toggleable__label {background-color: #d4ebff;}#sk-container-id-5 div.sk-serial::before {content: \"\";position: absolute;border-left: 1px solid gray;box-sizing: border-box;top: 0;bottom: 0;left: 50%;z-index: 0;}#sk-container-id-5 div.sk-serial {display: flex;flex-direction: column;align-items: center;background-color: white;padding-right: 0.2em;padding-left: 0.2em;position: relative;}#sk-container-id-5 div.sk-item {position: relative;z-index: 1;}#sk-container-id-5 div.sk-parallel {display: flex;align-items: stretch;justify-content: center;background-color: white;position: relative;}#sk-container-id-5 div.sk-item::before, #sk-container-id-5 div.sk-parallel-item::before {content: \"\";position: absolute;border-left: 1px solid gray;box-sizing: border-box;top: 0;bottom: 0;left: 50%;z-index: -1;}#sk-container-id-5 div.sk-parallel-item {display: flex;flex-direction: column;z-index: 1;position: relative;background-color: white;}#sk-container-id-5 div.sk-parallel-item:first-child::after {align-self: flex-end;width: 50%;}#sk-container-id-5 div.sk-parallel-item:last-child::after {align-self: flex-start;width: 50%;}#sk-container-id-5 div.sk-parallel-item:only-child::after {width: 0;}#sk-container-id-5 div.sk-dashed-wrapped {border: 1px dashed gray;margin: 0 0.4em 0.5em 0.4em;box-sizing: border-box;padding-bottom: 0.4em;background-color: white;}#sk-container-id-5 div.sk-label label {font-family: monospace;font-weight: bold;display: inline-block;line-height: 1.2em;}#sk-container-id-5 div.sk-label-container {text-align: center;}#sk-container-id-5 div.sk-container {/* jupyter's `normalize.less` sets `[hidden] { display: none; }` but bootstrap.min.css set `[hidden] { display: none !important; }` so we also need the `!important` here to be able to override the default hidden behavior on the sphinx rendered scikit-learn.org. See: https://github.com/scikit-learn/scikit-learn/issues/21755 */display: inline-block !important;position: relative;}#sk-container-id-5 div.sk-text-repr-fallback {display: none;}</style><div id=\"sk-container-id-5\" class=\"sk-top-container\"><div class=\"sk-text-repr-fallback\"><pre>LogisticRegression(max_iter=1000, random_state=0, solver=&#x27;liblinear&#x27;)</pre><b>In a Jupyter environment, please rerun this cell to show the HTML representation or trust the notebook. <br />On GitHub, the HTML representation is unable to render, please try loading this page with nbviewer.org.</b></div><div class=\"sk-container\" hidden><div class=\"sk-item\"><div class=\"sk-estimator sk-toggleable\"><input class=\"sk-toggleable__control sk-hidden--visually\" id=\"sk-estimator-id-5\" type=\"checkbox\" checked><label for=\"sk-estimator-id-5\" class=\"sk-toggleable__label sk-toggleable__label-arrow\">LogisticRegression</label><div class=\"sk-toggleable__content\"><pre>LogisticRegression(max_iter=1000, random_state=0, solver=&#x27;liblinear&#x27;)</pre></div></div></div></div></div>"
      ],
      "text/plain": [
       "LogisticRegression(max_iter=1000, random_state=0, solver='liblinear')"
      ]
     },
     "execution_count": 177,
     "metadata": {},
     "output_type": "execute_result"
    }
   ],
   "source": [
    "LGR_model = LogisticRegression(solver = 'liblinear',\n",
    "                               random_state = 0,\n",
    "                               max_iter = 1000)\n",
    "\n",
    "\n",
    "LGR_model.fit(X_train, y_train)     # training model on training dataset"
   ]
  },
  {
   "cell_type": "code",
   "execution_count": 179,
   "id": "4aaa1f4a-f8c7-4311-bd64-095f7091bff8",
   "metadata": {},
   "outputs": [],
   "source": [
    "# predicting target variable with LGR model on test data set\n",
    "y_pred_LGR = LGR_model.predict(X_test)"
   ]
  },
  {
   "cell_type": "code",
   "execution_count": 180,
   "id": "f473d288-d2b0-487c-8582-fb010773056d",
   "metadata": {},
   "outputs": [
    {
     "name": "stdout",
     "output_type": "stream",
     "text": [
      "Accuracy of Logistic Regression Classifier : 96.0%\n"
     ]
    }
   ],
   "source": [
    "LGR_accuracy = accuracy_score(y_test, y_pred_LGR)\n",
    "print(f\"Accuracy of Logistic Regression Classifier : {LGR_accuracy.round(2) * 100}%\")"
   ]
  },
  {
   "cell_type": "markdown",
   "id": "24c24620-f111-4b2a-a53c-c52986b7f85d",
   "metadata": {},
   "source": [
    "The Accuracy of Logistic Regression is 96%. This is performing very good over this large dataset"
   ]
  },
  {
   "cell_type": "markdown",
   "id": "fcd96d59-e52c-419d-bea5-7b385f3398e7",
   "metadata": {},
   "source": [
    "## Catboost Classifier"
   ]
  },
  {
   "cell_type": "code",
   "execution_count": 181,
   "id": "bd02839b-3c78-46cb-babd-9cf168b3d9bf",
   "metadata": {},
   "outputs": [
    {
     "name": "stdout",
     "output_type": "stream",
     "text": [
      "Learning rate set to 0.0887\n",
      "0:\tlearn: 0.5015023\ttest: 0.5016183\tbest: 0.5016183 (0)\ttotal: 60.3ms\tremaining: 1m\n",
      "10:\tlearn: 0.1093573\ttest: 0.1084540\tbest: 0.1084540 (10)\ttotal: 161ms\tremaining: 14.5s\n",
      "20:\tlearn: 0.0889441\ttest: 0.0884845\tbest: 0.0884845 (20)\ttotal: 276ms\tremaining: 12.8s\n",
      "30:\tlearn: 0.0855486\ttest: 0.0855443\tbest: 0.0855443 (30)\ttotal: 376ms\tremaining: 11.8s\n",
      "40:\tlearn: 0.0838277\ttest: 0.0843019\tbest: 0.0843019 (40)\ttotal: 480ms\tremaining: 11.2s\n",
      "50:\tlearn: 0.0827289\ttest: 0.0836467\tbest: 0.0836467 (50)\ttotal: 584ms\tremaining: 10.9s\n",
      "60:\tlearn: 0.0820891\ttest: 0.0835093\tbest: 0.0835093 (60)\ttotal: 694ms\tremaining: 10.7s\n",
      "70:\tlearn: 0.0814456\ttest: 0.0831641\tbest: 0.0831571 (68)\ttotal: 822ms\tremaining: 10.8s\n",
      "80:\tlearn: 0.0810266\ttest: 0.0830281\tbest: 0.0830214 (79)\ttotal: 966ms\tremaining: 11s\n",
      "90:\tlearn: 0.0803850\ttest: 0.0827856\tbest: 0.0827856 (90)\ttotal: 1.12s\tremaining: 11.2s\n",
      "100:\tlearn: 0.0800166\ttest: 0.0827432\tbest: 0.0827289 (98)\ttotal: 1.27s\tremaining: 11.3s\n",
      "110:\tlearn: 0.0795702\ttest: 0.0827289\tbest: 0.0827207 (109)\ttotal: 1.38s\tremaining: 11.1s\n",
      "120:\tlearn: 0.0791285\ttest: 0.0826631\tbest: 0.0826631 (120)\ttotal: 1.5s\tremaining: 10.9s\n",
      "130:\tlearn: 0.0787135\ttest: 0.0827102\tbest: 0.0826631 (120)\ttotal: 1.61s\tremaining: 10.7s\n",
      "140:\tlearn: 0.0783838\ttest: 0.0826567\tbest: 0.0826567 (140)\ttotal: 1.72s\tremaining: 10.5s\n",
      "150:\tlearn: 0.0779070\ttest: 0.0825794\tbest: 0.0825703 (144)\ttotal: 1.83s\tremaining: 10.3s\n",
      "160:\tlearn: 0.0775504\ttest: 0.0825686\tbest: 0.0825686 (160)\ttotal: 1.99s\tremaining: 10.3s\n",
      "170:\tlearn: 0.0771270\ttest: 0.0825825\tbest: 0.0825495 (162)\ttotal: 2.15s\tremaining: 10.4s\n",
      "180:\tlearn: 0.0767189\ttest: 0.0826310\tbest: 0.0825495 (162)\ttotal: 2.33s\tremaining: 10.5s\n",
      "190:\tlearn: 0.0763854\ttest: 0.0826937\tbest: 0.0825495 (162)\ttotal: 2.48s\tremaining: 10.5s\n",
      "200:\tlearn: 0.0759857\ttest: 0.0826254\tbest: 0.0825495 (162)\ttotal: 2.61s\tremaining: 10.4s\n",
      "210:\tlearn: 0.0756223\ttest: 0.0826653\tbest: 0.0825495 (162)\ttotal: 2.73s\tremaining: 10.2s\n",
      "Stopped by overfitting detector  (50 iterations wait)\n",
      "\n",
      "bestTest = 0.0825495267\n",
      "bestIteration = 162\n",
      "\n",
      "Shrink model to first 163 iterations.\n"
     ]
    },
    {
     "data": {
      "text/plain": [
       "<catboost.core.CatBoostClassifier at 0x7f41e58a7e80>"
      ]
     },
     "execution_count": 181,
     "metadata": {},
     "output_type": "execute_result"
    }
   ],
   "source": [
    "from catboost import CatBoostClassifier\n",
    "cat_model = CatBoostClassifier()\n",
    "cat_model.fit(X_train, y_train, eval_set=(X_test, y_test), early_stopping_rounds=50, verbose=10)"
   ]
  },
  {
   "cell_type": "code",
   "execution_count": 183,
   "id": "941ba1e1-45b3-4de5-aa0b-6ff55ec476cc",
   "metadata": {},
   "outputs": [],
   "source": [
    "catBoost_prediction = cat_model.predict(X_test)"
   ]
  },
  {
   "cell_type": "code",
   "execution_count": 185,
   "id": "d5125bd0-cdf8-4a4f-aba6-ab0d3361eed9",
   "metadata": {},
   "outputs": [
    {
     "name": "stdout",
     "output_type": "stream",
     "text": [
      "Accuracy of catboost  Classifier : 97.0%\n"
     ]
    }
   ],
   "source": [
    "catBoost_accuracy = accuracy_score(y_test, catBoost_prediction)\n",
    "print(f\"Accuracy of catboost  Classifier : {catBoost_accuracy.round(2) * 100}%\")"
   ]
  },
  {
   "cell_type": "markdown",
   "id": "241f6b57-d8d7-47d7-9af3-dd45c0cc6613",
   "metadata": {},
   "source": [
    "## XCG Classifier"
   ]
  },
  {
   "cell_type": "code",
   "execution_count": 193,
   "id": "a8f6e1f0-c0aa-4632-b9ad-7406f17346aa",
   "metadata": {},
   "outputs": [
    {
     "data": {
      "text/html": [
       "<style>#sk-container-id-8 {color: black;}#sk-container-id-8 pre{padding: 0;}#sk-container-id-8 div.sk-toggleable {background-color: white;}#sk-container-id-8 label.sk-toggleable__label {cursor: pointer;display: block;width: 100%;margin-bottom: 0;padding: 0.3em;box-sizing: border-box;text-align: center;}#sk-container-id-8 label.sk-toggleable__label-arrow:before {content: \"▸\";float: left;margin-right: 0.25em;color: #696969;}#sk-container-id-8 label.sk-toggleable__label-arrow:hover:before {color: black;}#sk-container-id-8 div.sk-estimator:hover label.sk-toggleable__label-arrow:before {color: black;}#sk-container-id-8 div.sk-toggleable__content {max-height: 0;max-width: 0;overflow: hidden;text-align: left;background-color: #f0f8ff;}#sk-container-id-8 div.sk-toggleable__content pre {margin: 0.2em;color: black;border-radius: 0.25em;background-color: #f0f8ff;}#sk-container-id-8 input.sk-toggleable__control:checked~div.sk-toggleable__content {max-height: 200px;max-width: 100%;overflow: auto;}#sk-container-id-8 input.sk-toggleable__control:checked~label.sk-toggleable__label-arrow:before {content: \"▾\";}#sk-container-id-8 div.sk-estimator input.sk-toggleable__control:checked~label.sk-toggleable__label {background-color: #d4ebff;}#sk-container-id-8 div.sk-label input.sk-toggleable__control:checked~label.sk-toggleable__label {background-color: #d4ebff;}#sk-container-id-8 input.sk-hidden--visually {border: 0;clip: rect(1px 1px 1px 1px);clip: rect(1px, 1px, 1px, 1px);height: 1px;margin: -1px;overflow: hidden;padding: 0;position: absolute;width: 1px;}#sk-container-id-8 div.sk-estimator {font-family: monospace;background-color: #f0f8ff;border: 1px dotted black;border-radius: 0.25em;box-sizing: border-box;margin-bottom: 0.5em;}#sk-container-id-8 div.sk-estimator:hover {background-color: #d4ebff;}#sk-container-id-8 div.sk-parallel-item::after {content: \"\";width: 100%;border-bottom: 1px solid gray;flex-grow: 1;}#sk-container-id-8 div.sk-label:hover label.sk-toggleable__label {background-color: #d4ebff;}#sk-container-id-8 div.sk-serial::before {content: \"\";position: absolute;border-left: 1px solid gray;box-sizing: border-box;top: 0;bottom: 0;left: 50%;z-index: 0;}#sk-container-id-8 div.sk-serial {display: flex;flex-direction: column;align-items: center;background-color: white;padding-right: 0.2em;padding-left: 0.2em;position: relative;}#sk-container-id-8 div.sk-item {position: relative;z-index: 1;}#sk-container-id-8 div.sk-parallel {display: flex;align-items: stretch;justify-content: center;background-color: white;position: relative;}#sk-container-id-8 div.sk-item::before, #sk-container-id-8 div.sk-parallel-item::before {content: \"\";position: absolute;border-left: 1px solid gray;box-sizing: border-box;top: 0;bottom: 0;left: 50%;z-index: -1;}#sk-container-id-8 div.sk-parallel-item {display: flex;flex-direction: column;z-index: 1;position: relative;background-color: white;}#sk-container-id-8 div.sk-parallel-item:first-child::after {align-self: flex-end;width: 50%;}#sk-container-id-8 div.sk-parallel-item:last-child::after {align-self: flex-start;width: 50%;}#sk-container-id-8 div.sk-parallel-item:only-child::after {width: 0;}#sk-container-id-8 div.sk-dashed-wrapped {border: 1px dashed gray;margin: 0 0.4em 0.5em 0.4em;box-sizing: border-box;padding-bottom: 0.4em;background-color: white;}#sk-container-id-8 div.sk-label label {font-family: monospace;font-weight: bold;display: inline-block;line-height: 1.2em;}#sk-container-id-8 div.sk-label-container {text-align: center;}#sk-container-id-8 div.sk-container {/* jupyter's `normalize.less` sets `[hidden] { display: none; }` but bootstrap.min.css set `[hidden] { display: none !important; }` so we also need the `!important` here to be able to override the default hidden behavior on the sphinx rendered scikit-learn.org. See: https://github.com/scikit-learn/scikit-learn/issues/21755 */display: inline-block !important;position: relative;}#sk-container-id-8 div.sk-text-repr-fallback {display: none;}</style><div id=\"sk-container-id-8\" class=\"sk-top-container\"><div class=\"sk-text-repr-fallback\"><pre>XGBClassifier(base_score=None, booster=None, callbacks=None,\n",
       "              colsample_bylevel=None, colsample_bynode=None,\n",
       "              colsample_bytree=0.8, device=None, early_stopping_rounds=None,\n",
       "              enable_categorical=False, eval_metric=None, feature_types=None,\n",
       "              gamma=None, grow_policy=None, importance_type=None,\n",
       "              interaction_constraints=None, learning_rate=0.1, max_bin=None,\n",
       "              max_cat_threshold=None, max_cat_to_onehot=None,\n",
       "              max_delta_step=None, max_depth=3, max_leaves=None,\n",
       "              min_child_weight=1, missing=nan, monotone_constraints=None,\n",
       "              multi_strategy=None, n_estimators=100, n_jobs=None,\n",
       "              num_parallel_tree=None, random_state=42, ...)</pre><b>In a Jupyter environment, please rerun this cell to show the HTML representation or trust the notebook. <br />On GitHub, the HTML representation is unable to render, please try loading this page with nbviewer.org.</b></div><div class=\"sk-container\" hidden><div class=\"sk-item\"><div class=\"sk-estimator sk-toggleable\"><input class=\"sk-toggleable__control sk-hidden--visually\" id=\"sk-estimator-id-8\" type=\"checkbox\" checked><label for=\"sk-estimator-id-8\" class=\"sk-toggleable__label sk-toggleable__label-arrow\">XGBClassifier</label><div class=\"sk-toggleable__content\"><pre>XGBClassifier(base_score=None, booster=None, callbacks=None,\n",
       "              colsample_bylevel=None, colsample_bynode=None,\n",
       "              colsample_bytree=0.8, device=None, early_stopping_rounds=None,\n",
       "              enable_categorical=False, eval_metric=None, feature_types=None,\n",
       "              gamma=None, grow_policy=None, importance_type=None,\n",
       "              interaction_constraints=None, learning_rate=0.1, max_bin=None,\n",
       "              max_cat_threshold=None, max_cat_to_onehot=None,\n",
       "              max_delta_step=None, max_depth=3, max_leaves=None,\n",
       "              min_child_weight=1, missing=nan, monotone_constraints=None,\n",
       "              multi_strategy=None, n_estimators=100, n_jobs=None,\n",
       "              num_parallel_tree=None, random_state=42, ...)</pre></div></div></div></div></div>"
      ],
      "text/plain": [
       "XGBClassifier(base_score=None, booster=None, callbacks=None,\n",
       "              colsample_bylevel=None, colsample_bynode=None,\n",
       "              colsample_bytree=0.8, device=None, early_stopping_rounds=None,\n",
       "              enable_categorical=False, eval_metric=None, feature_types=None,\n",
       "              gamma=None, grow_policy=None, importance_type=None,\n",
       "              interaction_constraints=None, learning_rate=0.1, max_bin=None,\n",
       "              max_cat_threshold=None, max_cat_to_onehot=None,\n",
       "              max_delta_step=None, max_depth=3, max_leaves=None,\n",
       "              min_child_weight=1, missing=nan, monotone_constraints=None,\n",
       "              multi_strategy=None, n_estimators=100, n_jobs=None,\n",
       "              num_parallel_tree=None, random_state=42, ...)"
      ]
     },
     "execution_count": 193,
     "metadata": {},
     "output_type": "execute_result"
    }
   ],
   "source": [
    "xgb_model = XGBClassifier(random_state = 42)\n",
    "\n",
    "XGB_model = XGBClassifier(\n",
    "    n_estimators=100,\n",
    "    learning_rate=0.1,\n",
    "    max_depth=3,\n",
    "    min_child_weight=1,\n",
    "    subsample=0.8,\n",
    "    colsample_bytree=0.8,\n",
    "    random_state=42\n",
    ")\n",
    "\n",
    "# Fit the model to the training data\n",
    "XGB_model.fit(X_train, y_train)"
   ]
  },
  {
   "cell_type": "code",
   "execution_count": 195,
   "id": "7af2d17c-6236-4e3e-aa85-936beb38cfd6",
   "metadata": {},
   "outputs": [],
   "source": [
    "y_pred_XGB = XGB_model.predict(X_test)"
   ]
  },
  {
   "cell_type": "code",
   "execution_count": 196,
   "id": "fe998602-9d16-4073-a3c1-280ede1fc6ff",
   "metadata": {},
   "outputs": [
    {
     "name": "stdout",
     "output_type": "stream",
     "text": [
      "Accuracy of XGB Classifier : 97.0%\n"
     ]
    }
   ],
   "source": [
    "XGB_accuracy = accuracy_score(y_test, y_pred_XGB)\n",
    "print(f\"Accuracy of XGB Classifier : {XGB_accuracy.round(2)*100}%\")"
   ]
  },
  {
   "cell_type": "markdown",
   "id": "09e6fa1e-79a6-4ee1-9747-0a730afbe32f",
   "metadata": {},
   "source": [
    "### Comparing predicted values"
   ]
  },
  {
   "cell_type": "code",
   "execution_count": 197,
   "id": "322917c4-54f4-4211-9317-b3147da36547",
   "metadata": {},
   "outputs": [
    {
     "name": "stdout",
     "output_type": "stream",
     "text": [
      "LGR Predicted Value:  0\n",
      "Actual True Value:  0\n"
     ]
    }
   ],
   "source": [
    "# Predcition comparison for 10th row in test data set\n",
    "print(\"LGR Predicted Value: \" , y_pred_LGR[0] )\n",
    "print(\"Actual True Value: \" ,y_test.iloc[0])"
   ]
  },
  {
   "cell_type": "code",
   "execution_count": 198,
   "id": "5fc1aa19-64b8-454f-8abd-d6b1da098d66",
   "metadata": {},
   "outputs": [
    {
     "name": "stdout",
     "output_type": "stream",
     "text": [
      "RFC Predicted Value:  0\n",
      "Actual True Value:  0\n"
     ]
    }
   ],
   "source": [
    "# Predcition comparison for 10th row in test data set\n",
    "\n",
    "print(\"RFC Predicted Value: \" , y_pred_RFC[10] )\n",
    "print(\"Actual True Value: \" ,y_test.iloc[10])"
   ]
  },
  {
   "cell_type": "code",
   "execution_count": 199,
   "id": "9a2cb616-4ea0-4fb4-9024-2826972b070d",
   "metadata": {},
   "outputs": [
    {
     "data": {
      "text/html": [
       "<div>\n",
       "<style scoped>\n",
       "    .dataframe tbody tr th:only-of-type {\n",
       "        vertical-align: middle;\n",
       "    }\n",
       "\n",
       "    .dataframe tbody tr th {\n",
       "        vertical-align: top;\n",
       "    }\n",
       "\n",
       "    .dataframe thead th {\n",
       "        text-align: right;\n",
       "    }\n",
       "</style>\n",
       "<table border=\"1\" class=\"dataframe\">\n",
       "  <thead>\n",
       "    <tr style=\"text-align: right;\">\n",
       "      <th></th>\n",
       "      <th>Actual</th>\n",
       "      <th>LGR_Predictions</th>\n",
       "    </tr>\n",
       "  </thead>\n",
       "  <tbody>\n",
       "    <tr>\n",
       "      <th>96205</th>\n",
       "      <td>0</td>\n",
       "      <td>0</td>\n",
       "    </tr>\n",
       "    <tr>\n",
       "      <th>22747</th>\n",
       "      <td>0</td>\n",
       "      <td>0</td>\n",
       "    </tr>\n",
       "    <tr>\n",
       "      <th>86887</th>\n",
       "      <td>0</td>\n",
       "      <td>0</td>\n",
       "    </tr>\n",
       "    <tr>\n",
       "      <th>30205</th>\n",
       "      <td>0</td>\n",
       "      <td>0</td>\n",
       "    </tr>\n",
       "    <tr>\n",
       "      <th>13637</th>\n",
       "      <td>0</td>\n",
       "      <td>0</td>\n",
       "    </tr>\n",
       "  </tbody>\n",
       "</table>\n",
       "</div>"
      ],
      "text/plain": [
       "       Actual  LGR_Predictions\n",
       "96205       0                0\n",
       "22747       0                0\n",
       "86887       0                0\n",
       "30205       0                0\n",
       "13637       0                0"
      ]
     },
     "execution_count": 199,
     "metadata": {},
     "output_type": "execute_result"
    }
   ],
   "source": [
    "df_LGR_predictions = pd.DataFrame({'Actual': y_test, 'LGR_Predictions': y_pred_LGR})\n",
    "df_LGR_predictions.head()"
   ]
  },
  {
   "cell_type": "code",
   "execution_count": 200,
   "id": "0e791528-1f1b-4616-bea2-a0aaee953fbe",
   "metadata": {},
   "outputs": [
    {
     "data": {
      "text/html": [
       "<div>\n",
       "<style scoped>\n",
       "    .dataframe tbody tr th:only-of-type {\n",
       "        vertical-align: middle;\n",
       "    }\n",
       "\n",
       "    .dataframe tbody tr th {\n",
       "        vertical-align: top;\n",
       "    }\n",
       "\n",
       "    .dataframe thead th {\n",
       "        text-align: right;\n",
       "    }\n",
       "</style>\n",
       "<table border=\"1\" class=\"dataframe\">\n",
       "  <thead>\n",
       "    <tr style=\"text-align: right;\">\n",
       "      <th></th>\n",
       "      <th>Actual</th>\n",
       "      <th>RFC_Predictions</th>\n",
       "    </tr>\n",
       "  </thead>\n",
       "  <tbody>\n",
       "    <tr>\n",
       "      <th>96205</th>\n",
       "      <td>0</td>\n",
       "      <td>0</td>\n",
       "    </tr>\n",
       "    <tr>\n",
       "      <th>22747</th>\n",
       "      <td>0</td>\n",
       "      <td>0</td>\n",
       "    </tr>\n",
       "    <tr>\n",
       "      <th>86887</th>\n",
       "      <td>0</td>\n",
       "      <td>0</td>\n",
       "    </tr>\n",
       "    <tr>\n",
       "      <th>30205</th>\n",
       "      <td>0</td>\n",
       "      <td>0</td>\n",
       "    </tr>\n",
       "    <tr>\n",
       "      <th>13637</th>\n",
       "      <td>0</td>\n",
       "      <td>0</td>\n",
       "    </tr>\n",
       "  </tbody>\n",
       "</table>\n",
       "</div>"
      ],
      "text/plain": [
       "       Actual  RFC_Predictions\n",
       "96205       0                0\n",
       "22747       0                0\n",
       "86887       0                0\n",
       "30205       0                0\n",
       "13637       0                0"
      ]
     },
     "execution_count": 200,
     "metadata": {},
     "output_type": "execute_result"
    }
   ],
   "source": [
    "df_RFC_predictions = pd.DataFrame({'Actual': y_test, 'RFC_Predictions': y_pred_RFC})\n",
    "df_RFC_predictions.head()"
   ]
  },
  {
   "cell_type": "markdown",
   "id": "2d954754-318c-44be-b3fe-53baab448cd7",
   "metadata": {},
   "source": [
    "### Evaluation of Classification Models"
   ]
  },
  {
   "cell_type": "code",
   "execution_count": 201,
   "id": "b9114c26-d870-4124-880b-a81d92d0cbf2",
   "metadata": {},
   "outputs": [
    {
     "name": "stdout",
     "output_type": "stream",
     "text": [
      "Recall score of Logistic Regressor :  0.39\n",
      "Precision score of Logistic Regressor :  0.84\n",
      "F1 score of Logistic Regressor :  0.54\n"
     ]
    }
   ],
   "source": [
    "# Recall, Precision, F1 score of LGR model\n",
    "\n",
    "LGR_recall = recall_score(y_test, y_pred_LGR)\n",
    "LGR_precision = precision_score(y_test, y_pred_LGR)\n",
    "LGR_f1 = f1_score(y_test, y_pred_LGR)\n",
    "\n",
    "print(\"Recall score of Logistic Regressor : \", LGR_recall.round(2) )\n",
    "print(\"Precision score of Logistic Regressor : \", LGR_precision.round(2) )\n",
    "print(\"F1 score of Logistic Regressor : \", LGR_f1.round(2) )"
   ]
  },
  {
   "cell_type": "code",
   "execution_count": 202,
   "id": "9b42fbcc-b980-4004-8f55-ce36668b760c",
   "metadata": {},
   "outputs": [
    {
     "name": "stdout",
     "output_type": "stream",
     "text": [
      "Accuracy: 96.38%\n",
      "Confidence Interval: [0.9632, 0.9641]\n"
     ]
    }
   ],
   "source": [
    "# Precision Accuracy Interval LGR\n",
    "\n",
    "num_bootstrap_samples = 50\n",
    "\n",
    "# array to store the accuracy scores\n",
    "accuracy_scores = np.zeros(num_bootstrap_samples)\n",
    "\n",
    "#  bootstrapping\n",
    "for i in range(num_bootstrap_samples):\n",
    "\n",
    "    X_bootstrap, y_bootstrap = resample(X_train, y_train)\n",
    "\n",
    "    LGR_model.fit(X_bootstrap, y_bootstrap)\n",
    "    y_pred = LGR_model.predict(X_test)\n",
    "\n",
    "    accuracy_scores[i] = accuracy_score(y_test, y_pred)\n",
    "\n",
    "# Calculating the confidence interval\n",
    "lower_bound = np.percentile(accuracy_scores, 2.5)\n",
    "upper_bound = np.percentile(accuracy_scores, 97.5)\n",
    "\n",
    "print(f\"Accuracy: {accuracy_score(y_test, y_pred)*100:.2f}%\")\n",
    "print(f\"Confidence Interval: [{lower_bound:.4f}, {upper_bound:.4f}]\")"
   ]
  },
  {
   "cell_type": "markdown",
   "id": "88f9383f-e577-46cb-98b6-e250e03042a0",
   "metadata": {},
   "source": [
    "#### Evaluation of RFC"
   ]
  },
  {
   "cell_type": "code",
   "execution_count": 203,
   "id": "5cd98502-f665-43ed-8bb6-02ff2cea2673",
   "metadata": {},
   "outputs": [
    {
     "name": "stdout",
     "output_type": "stream",
     "text": [
      "Recall score of RandomForest Classifer :  0.46\n",
      "Precision score of RandomForest Classifer :  1.0\n",
      "F1 score of RandomForest Classifer :  0.63\n"
     ]
    }
   ],
   "source": [
    "# Recall, Precision, F1 score of LGR model\n",
    "\n",
    "RFC_recall = recall_score(y_test, y_pred_RFC)\n",
    "RFC_precision = precision_score(y_test, y_pred_RFC)\n",
    "RFC_f1 = f1_score(y_test, y_pred_RFC)\n",
    "\n",
    "print(\"Recall score of RandomForest Classifer : \", RFC_recall.round(2))\n",
    "print(\"Precision score of RandomForest Classifer : \", RFC_precision.round(2))\n",
    "print(\"F1 score of RandomForest Classifer : \", RFC_f1.round(2))"
   ]
  },
  {
   "cell_type": "code",
   "execution_count": 205,
   "id": "db83203c-0028-4b1a-9ef7-b3464768fd93",
   "metadata": {},
   "outputs": [
    {
     "data": {
      "image/png": "[encoded data removed]",
      "text/plain": [
       "<Figure size 640x480 with 1 Axes>"
      ]
     },
     "metadata": {},
     "output_type": "display_data"
    }
   ],
   "source": [
    "accuracy_scores = [LGR_accuracy, RFC_accuracy, XGB_accuracy]\n",
    "models = ['LGR', 'RFC', 'XGBC',]\n",
    "\n",
    "plt.bar(models, accuracy_scores, color=['lightblue', 'lightgreen', 'salmon'], width=0.5)\n",
    "\n",
    "plt.xlabel('Classification Models')\n",
    "plt.ylabel('Accuracy')\n",
    "plt.title('Accuracy Comparison of Classification Models')\n",
    "\n",
    "for i, v in enumerate(accuracy_scores):\n",
    "    plt.text(i, v + 0.01, str(round(v, 3)), ha='center', va='bottom')\n",
    "\n",
    "plt.show();"
   ]
  },
  {
   "cell_type": "markdown",
   "id": "db3cd932-87a4-41e7-8df8-72acba5753ac",
   "metadata": {},
   "source": [
    "## Conclusion"
   ]
  },
  {
   "cell_type": "markdown",
   "id": "a8a6f16c-172c-47a9-9aaf-ba4adc208bd2",
   "metadata": {},
   "source": [
    "After Exploratery Data analysis,visualization and model implementation,now its time to summerize the dataset.In this project there is  a comprehensive analysis of predicting diabetes disease among patients, based on some key features and attributes such as hypertension,Blood_glucose_level,Bmi,haemoglobin,gender and some other feaatures. Through pre-processing data, performing necessary EDA to find relevancy and important insights about the data, following regression and classification. Compare and contrast the performance of different models and methods. Key insights emerged during the process, identifying age and BMI weighed with highest feature importance in our dataset. \n",
    "\n",
    "Supervised learning models, including Support Vector Regression (SVR) and Random Forest Regression (RFR), showcased distinct performances. SVR, while yielding accurate predictions, exhibited a higher mean absolute error (MAE) and root mean squared error (RMSE) compared to RFR.\n",
    "\n",
    "The classification phase introduced Logistic Regression, Random Forest Classifier,catboost Classifier and XGB Classifier, where XGB and catboost demonstrated superior accuracy. The accuracy results of Logistic Regression  was also very good, I used XGB and catboost Classifier and manually initialized parameters with hyper parameter tuning, which performed better than both LGR and RFC models. .Their Accuracy level are almost 96-97%\n",
    "\n",
    "TIn conclusion, our analysis scores the intricate interplay of features in diabetes disease prediction, emphasizing the importance of thoughtful model selection and the continuous pursuit of refining methodologies for more accurate and actionable insights in the realm of healthcare analytics.\n"
   ]
  },
  {
   "cell_type": "code",
   "execution_count": null,
   "id": "ce438368-db13-4b21-9bc5-f64012f77ffe",
   "metadata": {},
   "outputs": [],
   "source": []
  }
 ],
 "metadata": {
  "kernelspec": {
   "display_name": "Python 3 (ipykernel)",
   "language": "python",
   "name": "python3"
  },
  "language_info": {
   "codemirror_mode": {
    "name": "ipython",
    "version": 3
   },
   "file_extension": ".py",
   "mimetype": "text/x-python",
   "name": "python",
   "nbconvert_exporter": "python",
   "pygments_lexer": "ipython3",
   "version": "3.10.12"
  }
 },
 "nbformat": 4,
 "nbformat_minor": 5
}
