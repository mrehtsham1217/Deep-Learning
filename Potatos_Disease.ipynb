{
  "cells": [
    {
      "cell_type": "markdown",
      "metadata": {
        "id": "EXOGk8MH-jfW"
      },
      "source": [
        "# **Extracting the zip file using python**"
      ]
    },
    {
      "cell_type": "code",
      "execution_count": null,
      "metadata": {
        "colab": {
          "base_uri": "https://localhost:8080/",
          "height": 373
        },
        "id": "cWnTpY4V-2RA",
        "outputId": "d5c6dbc4-7c7c-4950-8c60-640fe9bd008d"
      },
      "outputs": [],
      "source": [
        "import zipfile\n",
        "zip_ref = zipfile.ZipFile('/content/PlantVillage.zip')\n",
        "zip_ref.extractall('/content')\n",
        "zip_ref.close()"
      ]
    },
    {
      "cell_type": "markdown",
      "metadata": {
        "id": "v3INBvik-vJl"
      },
      "source": [
        "# **Importing the Libraries**"
      ]
    },
    {
      "cell_type": "code",
      "execution_count": null,
      "metadata": {
        "id": "bvk8DQLtDJds"
      },
      "outputs": [],
      "source": [
        "import tensorflow\n",
        "from tensorflow import keras\n",
        "from keras.models import Sequential\n",
        "from keras.layers import Dense,Conv2D,Flatten\n",
        "import matplotlib.pyplot as plt"
      ]
    },
    {
      "cell_type": "code",
      "execution_count": null,
      "metadata": {
        "colab": {
          "base_uri": "https://localhost:8080/",
          "height": 391
        },
        "id": "3FuFTOg2FsaX",
        "outputId": "db771c0b-a0b1-409e-c137-95f6885218c1"
      },
      "outputs": [],
      "source": [
        "dataset = keras.preprocessing.image_dataset_from_directory(\n",
        "'/content/PlantVillage',\n",
        "   image_size = (256,256),\n",
        "    shuffle = True,\n",
        "    batch_size = 32\n",
        ")"
      ]
    },
    {
      "cell_type": "code",
      "execution_count": null,
      "metadata": {
        "id": "O4jRW6MeGZ_V"
      },
      "outputs": [],
      "source": [
        "class_names = dataset.class_names"
      ]
    },
    {
      "cell_type": "code",
      "execution_count": null,
      "metadata": {
        "id": "jKP7bG_rGi9W"
      },
      "outputs": [],
      "source": [
        "len(dataset)"
      ]
    },
    {
      "cell_type": "code",
      "execution_count": null,
      "metadata": {
        "id": "IiU-KdE-GsoI"
      },
      "outputs": [],
      "source": [
        "for img_batch,label_batch in dataset.take(1):\n",
        "  print(img_batch.shape)\n",
        "  print(label_batch.numpy())"
      ]
    },
    {
      "cell_type": "code",
      "execution_count": null,
      "metadata": {
        "id": "_7HS7luWGzxe"
      },
      "outputs": [],
      "source": [
        "plt.figure(figsize=(10,10))\n",
        "for img_batch,label_batch in dataset.take(1):\n",
        "  for i in range(12):\n",
        "    ax = plt.subplot(4,3,i+1)\n",
        "    plt.imshow(img_batch[i].numpy().astype('uint8'))\n",
        "    plt.title(class_names[label_batch[i]])\n",
        "    plt.axis(\"off\")"
      ]
    },
    {
      "cell_type": "code",
      "execution_count": null,
      "metadata": {
        "id": "A8mORjXzHiJI"
      },
      "outputs": [],
      "source": [
        "train_size = 0.8\n",
        "len(dataset)*train_size"
      ]
    },
    {
      "cell_type": "code",
      "execution_count": null,
      "metadata": {
        "id": "zp5Y_m8BJT4b"
      },
      "outputs": [],
      "source": [
        "train_ds = dataset.take(54)\n",
        "len(train_ds)\n"
      ]
    },
    {
      "cell_type": "code",
      "execution_count": null,
      "metadata": {
        "id": "FXXwKx23Jc0I"
      },
      "outputs": [],
      "source": [
        "test_ds = dataset.skip(54)\n",
        "len(test_ds)\n"
      ]
    },
    {
      "cell_type": "code",
      "execution_count": null,
      "metadata": {
        "id": "Sgx_JiH8J-rZ"
      },
      "outputs": [],
      "source": [
        "val_size=0.1\n",
        "len(dataset)*val_size"
      ]
    },
    {
      "cell_type": "code",
      "execution_count": null,
      "metadata": {
        "id": "PNn9pw5tKIGe"
      },
      "outputs": [],
      "source": [
        "val_ds = test_ds.take(6)\n",
        "len(val_ds)"
      ]
    },
    {
      "cell_type": "code",
      "execution_count": null,
      "metadata": {
        "id": "AQ-t-OXrKgfy"
      },
      "outputs": [],
      "source": [
        "test_ds = test_ds.skip(6)\n",
        "len(test_ds)"
      ]
    },
    {
      "cell_type": "code",
      "execution_count": null,
      "metadata": {
        "id": "_2q3NNFJKuUZ"
      },
      "outputs": [],
      "source": [
        "def get_dataset_partitions_tf(ds, train_split=0.8, val_split=0.1, test_split=0.1, shuffle=True, shuffle_size=10000):\n",
        "    assert (train_split + test_split + val_split) == 1\n",
        "\n",
        "    ds_size = len(ds)\n",
        "\n",
        "    if shuffle:\n",
        "        ds = ds.shuffle(shuffle_size, seed=12)\n",
        "\n",
        "    train_size = int(train_split * ds_size)\n",
        "    val_size = int(val_split * ds_size)\n",
        "\n",
        "    train_ds = ds.take(train_size)\n",
        "    val_ds = ds.skip(train_size).take(val_size)\n",
        "    test_ds = ds.skip(train_size).skip(val_size)\n",
        "\n",
        "    return train_ds, val_ds, test_ds\n"
      ]
    },
    {
      "cell_type": "code",
      "execution_count": null,
      "metadata": {
        "id": "xFmgKpt6AkyN"
      },
      "outputs": [],
      "source": [
        "train_ds, val_ds, test_ds = get_dataset_partitions_tf(dataset)"
      ]
    },
    {
      "cell_type": "code",
      "execution_count": null,
      "metadata": {
        "id": "auy99WsJAs7H"
      },
      "outputs": [],
      "source": [
        "print(len(train_ds))\n",
        "print(len(test_ds))\n",
        "print(len(val_ds))"
      ]
    },
    {
      "cell_type": "code",
      "execution_count": null,
      "metadata": {
        "id": "fRf8_bGXAu7q"
      },
      "outputs": [],
      "source": [
        "train_ds = train_ds.cache().shuffle(1000).prefetch(buffer_size=tensorflow.data.AUTOTUNE)\n",
        "val_ds = val_ds.cache().shuffle(1000).prefetch(buffer_size=tensorflow.data.AUTOTUNE)\n",
        "test_ds = test_ds.cache().shuffle(1000).prefetch(buffer_size=tensorflow.data.AUTOTUNE)"
      ]
    },
    {
      "cell_type": "markdown",
      "metadata": {
        "id": "9c5VTWZbCXB9"
      },
      "source": [
        "# Resizing and Rescaling"
      ]
    },
    {
      "cell_type": "code",
      "execution_count": null,
      "metadata": {
        "id": "78Plo3dwBVrW"
      },
      "outputs": [],
      "source": [
        "resize_rescale = keras.Sequential([\n",
        "    keras.layers.experimental.preprocessing.Resizing(256,256),\n",
        "    keras.layers.experimental.preprocessing.Rescaling(1.0/255)\n",
        "])"
      ]
    },
    {
      "cell_type": "markdown",
      "metadata": {
        "id": "CE715j55Cb_S"
      },
      "source": [
        "# **Data Augmentation**"
      ]
    },
    {
      "cell_type": "code",
      "execution_count": null,
      "metadata": {
        "id": "Eiha88sRCLo6"
      },
      "outputs": [],
      "source": [
        "data_augmentation = keras.Sequential([\n",
        "    keras.layers.experimental.preprocessing.RandomFlip(\"horizontal_and_vertical\"),\n",
        "    keras.layers.experimental.preprocessing.RandomRotation(0.2)\n",
        "])"
      ]
    },
    {
      "cell_type": "code",
      "execution_count": null,
      "metadata": {
        "id": "_0RKkuzqC48B"
      },
      "outputs": [],
      "source": [
        "from keras import layers\n",
        "model = Sequential([\n",
        "    resize_rescale,\n",
        "    layers.Conv2D(32, kernel_size = (3,3), activation='relu', input_shape=(32,256,256,3)),\n",
        "    layers.MaxPooling2D((2, 2)),\n",
        "    layers.Conv2D(64,  kernel_size = (3,3), activation='relu'),\n",
        "    layers.MaxPooling2D((2, 2)),\n",
        "    layers.Conv2D(64,  kernel_size = (3,3), activation='relu'),\n",
        "    layers.MaxPooling2D((2, 2)),\n",
        "    layers.Conv2D(64, (3, 3), activation='relu'),\n",
        "    layers.MaxPooling2D((2, 2)),\n",
        "    layers.Conv2D(64, (3, 3), activation='relu'),\n",
        "    layers.MaxPooling2D((2, 2)),\n",
        "    layers.Conv2D(64, (3, 3), activation='relu'),\n",
        "    layers.MaxPooling2D((2, 2)),\n",
        "    layers.Flatten(),\n",
        "    layers.Dense(64, activation='relu'),\n",
        "    layers.Dense(3, activation='softmax'),\n",
        "])\n",
        "\n",
        "model.build(input_shape=(32,256,25,3))\n"
      ]
    },
    {
      "cell_type": "code",
      "execution_count": null,
      "metadata": {
        "id": "3EcRtSZ8EOiD"
      },
      "outputs": [],
      "source": [
        "model.summary()"
      ]
    },
    {
      "cell_type": "code",
      "execution_count": null,
      "metadata": {
        "id": "Gpw3qh1TE7oT"
      },
      "outputs": [],
      "source": [
        "model.compile(\n",
        "    optimizer='adam',\n",
        "    loss=tensorflow.keras.losses.SparseCategoricalCrossentropy(from_logits=False),\n",
        "    metrics=['accuracy']\n",
        ")"
      ]
    },
    {
      "cell_type": "code",
      "execution_count": null,
      "metadata": {
        "id": "KHmGD1CDFczz"
      },
      "outputs": [],
      "source": [
        "history = model.fit(\n",
        "    train_ds,\n",
        "    batch_size=32,\n",
        "    validation_data=val_ds,\n",
        "    verbose=1,\n",
        "    epochs=20,\n",
        ")"
      ]
    },
    {
      "cell_type": "code",
      "execution_count": null,
      "metadata": {
        "id": "-JjPXx3yFnMi"
      },
      "outputs": [],
      "source": [
        "scores = model.evaluate(test_ds)"
      ]
    },
    {
      "cell_type": "code",
      "execution_count": null,
      "metadata": {
        "id": "eBwpcdn0GmKH"
      },
      "outputs": [],
      "source": [
        "plt.plot(history.history['accuracy'],label='train')\n",
        "plt.plot(history.history[\"val_accuracy\"],label='validation')\n",
        "plt.legend()\n",
        "plt.show()"
      ]
    },
    {
      "cell_type": "code",
      "execution_count": null,
      "metadata": {
        "id": "qa6udoa9G4Dn"
      },
      "outputs": [],
      "source": [
        "plt.plot(history.history['loss'],color='red',label='train')\n",
        "plt.plot(history.history['val_loss'],color='blue',label='validation')\n",
        "plt.legend()\n",
        "plt.show()"
      ]
    },
    {
      "cell_type": "code",
      "execution_count": null,
      "metadata": {
        "id": "ctoak9k1HfE-"
      },
      "outputs": [],
      "source": [
        "import numpy as np\n",
        "for image_batch, label_batch in test_ds.take(1):\n",
        "  first_img = image_batch[0].numpy().astype('uint8')\n",
        "  first_label  = label_batch[0].numpy()\n",
        "  print(\"First image to predict\")\n",
        "  plt.imshow(first_img)\n",
        "  print(\"Actual Image:\",class_names[first_label])\n",
        "\n",
        "  batch_prediction = model.predict(image_batch)\n",
        "  print(\"Predicted_label\",np.argmax(batch_prediction[0]))"
      ]
    },
    {
      "cell_type": "code",
      "execution_count": null,
      "metadata": {
        "id": "ne2DKBF8IWMD"
      },
      "outputs": [],
      "source": [
        "def predict(model, img):\n",
        "    img_array = tensorflow.keras.preprocessing.image.img_to_array(images[i].numpy())\n",
        "    img_array = tensorflow.expand_dims(img_array, 0)\n",
        "\n",
        "    predictions = model.predict(img_array)\n",
        "\n",
        "    predicted_class = class_names[np.argmax(predictions[0])]\n",
        "    confidence = round(100 * (np.max(predictions[0])), 2)\n",
        "    return predicted_class, confidence"
      ]
    },
    {
      "cell_type": "code",
      "execution_count": null,
      "metadata": {
        "id": "SSxdivcFNj9w"
      },
      "outputs": [],
      "source": [
        "plt.figure(figsize=(15, 15))\n",
        "for images, labels in test_ds.take(1):\n",
        "    for i in range(9):\n",
        "        ax = plt.subplot(3, 3, i + 1)\n",
        "        plt.imshow(images[i].numpy().astype(\"uint8\"))\n",
        "\n",
        "        predict_class, confidence = predict(model, images[i].numpy())\n",
        "        actual_class = class_names[labels[i]]\n",
        "\n",
        "        plt.title(f\"Actual: {actual_class},\\n Predicted: {predict_class}.\\n Confidence: {confidence}%\")\n",
        "\n",
        "        plt.axis(\"off\")"
      ]
    },
    {
      "cell_type": "code",
      "execution_count": null,
      "metadata": {
        "id": "f3D8CZ73NyoD"
      },
      "outputs": [],
      "source": [
        "model.save(\"potatoes\")"
      ]
    }
  ],
  "metadata": {
    "accelerator": "GPU",
    "colab": {
      "gpuType": "T4",
      "provenance": []
    },
    "kernelspec": {
      "display_name": "Python 3",
      "name": "python3"
    },
    "language_info": {
      "name": "python"
    }
  },
  "nbformat": 4,
  "nbformat_minor": 0
}
