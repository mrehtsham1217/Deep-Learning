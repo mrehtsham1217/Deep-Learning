{
 "cells": [
  {
   "cell_type": "markdown",
   "metadata": {},
   "source": [
    "# **Cardio Disease Prediction Project**"
   ]
  },
  {
   "cell_type": "markdown",
   "metadata": {},
   "source": [
    "## Introduction"
   ]
  },
  {
   "cell_type": "markdown",
   "metadata": {},
   "source": [
    "The data chosen for this project is `cardio disease prediction` data taken from Kaggle [here](https://www.kaggle.com/code/bhargavi35/starter-cardiovascular-disease-dataset-d2fc2521-9). The dataset is combined with the [heart disease dataset](https://www.kaggle.com/code/neisha/heart-disease-prediction-using-logistic-regression/input) and the combination returned some good features to predict `CardioDisease` in patients. With this dataset, we'll end up with:\n",
    "\n",
    "1. Exploratory Analysis and Preprocessing with the data\n",
    "2. Supervised Learning (Regression)\n",
    "3. Unsupervised Learning (Clustering)\n",
    "4. Supervised Learning (Classification)\n",
    "\n",
    "The original dataset had more features but this concised data is used for the right prediction of the disease in patients."
   ]
  },
  {
   "cell_type": "markdown",
   "metadata": {
    "id": "csjHoizX5NcI"
   },
   "source": [
    "## Importing Dependencies"
   ]
  },
  {
   "cell_type": "markdown",
   "metadata": {},
   "source": [
    "To perform analysis on data (along with supervised and unsupervised modelling), we need to import different packages which are required to perform certain tasks. Here are the dependencies required for certain tasks "
   ]
  },
  {
   "cell_type": "code",
   "execution_count": 1,
   "metadata": {
    "id": "WwWYBM0q3izZ"
   },
   "outputs": [],
   "source": [
    "# libraries for data processing and visualization\n",
    "\n",
    "import pandas as pd\n",
    "import numpy as np\n",
    "import matplotlib.pyplot as plt\n",
    "%matplotlib inline\n",
    "import seaborn as sns\n",
    "import sklearn\n",
    "from sklearn.preprocessing import StandardScaler"
   ]
  },
  {
   "cell_type": "code",
   "execution_count": 2,
   "metadata": {
    "id": "krkGgW7vK1gi"
   },
   "outputs": [],
   "source": [
    "# regression models from scikit learn\n",
    "\n",
    "from sklearn.svm import SVR\n",
    "from sklearn.ensemble import RandomForestRegressor"
   ]
  },
  {
   "cell_type": "code",
   "execution_count": 3,
   "metadata": {
    "id": "igOPeJODyJ6v"
   },
   "outputs": [],
   "source": [
    "# classification models from scikit learn\n",
    "\n",
    "from sklearn.linear_model import LogisticRegression\n",
    "from sklearn.model_selection import RandomizedSearchCV, GridSearchCV\n",
    "from sklearn.ensemble import RandomForestClassifier\n",
    "from xgboost import XGBClassifier"
   ]
  },
  {
   "cell_type": "code",
   "execution_count": 4,
   "metadata": {
    "id": "7M9YBuihyTjo"
   },
   "outputs": [],
   "source": [
    "## Model evaluators\n",
    "\n",
    "from sklearn.metrics import mean_squared_error, mean_absolute_error\n",
    "from sklearn.model_selection import train_test_split\n",
    "from sklearn.metrics import confusion_matrix, classification_report\n",
    "from sklearn.metrics import accuracy_score, precision_score, recall_score, f1_score\n",
    "from sklearn.utils import resample"
   ]
  },
  {
   "cell_type": "markdown",
   "metadata": {
    "id": "lJIsZMBAIhCw"
   },
   "source": [
    "## **Part 1: Data Collection, Preprocessing and EDA**"
   ]
  },
  {
   "cell_type": "markdown",
   "metadata": {
    "id": "uujlijKa5pvm"
   },
   "source": [
    "### Load Data"
   ]
  },
  {
   "cell_type": "code",
   "execution_count": 5,
   "metadata": {
    "id": "9kmBX2Xo5ibw"
   },
   "outputs": [],
   "source": [
    "df = pd.read_csv(filepath_or_buffer=\"../Data/DatesetProject.csv\")"
   ]
  },
  {
   "cell_type": "markdown",
   "metadata": {},
   "source": [
    "Let's check the shape of data"
   ]
  },
  {
   "cell_type": "code",
   "execution_count": 6,
   "metadata": {
    "colab": {
     "base_uri": "https://localhost:8080/"
    },
    "id": "24z6qpZj6Zur",
    "outputId": "982680c6-64c5-425b-f7a5-a802f192e1c0"
   },
   "outputs": [
    {
     "name": "stdout",
     "output_type": "stream",
     "text": [
      "(Rows, Columns): (74238, 10)\n"
     ]
    }
   ],
   "source": [
    "print(f\"(Rows, Columns): {df.shape}\")"
   ]
  },
  {
   "cell_type": "code",
   "execution_count": 7,
   "metadata": {
    "colab": {
     "base_uri": "https://localhost:8080/"
    },
    "id": "s7PfM3FOThU7",
    "outputId": "62691464-05db-4cb2-8e1b-5cfa086a4f5d"
   },
   "outputs": [
    {
     "name": "stdout",
     "output_type": "stream",
     "text": [
      "Dataset features: ['gender', 'age', 'smoke ', 'sysBP', 'diaBP', 'BMI', 'Chol', 'glucose', 'active ', 'CardioDisease']\n"
     ]
    }
   ],
   "source": [
    "# column names\n",
    "print(f\"Dataset features: {list(df.columns)}\")"
   ]
  },
  {
   "cell_type": "markdown",
   "metadata": {
    "id": "-SnjfwMW6dv9"
   },
   "source": [
    "The dataset has 74238 rows and 10 features namely shown above"
   ]
  },
  {
   "cell_type": "markdown",
   "metadata": {},
   "source": [
    "Now, we should have a look on how our data looks like"
   ]
  },
  {
   "cell_type": "code",
   "execution_count": 8,
   "metadata": {
    "colab": {
     "base_uri": "https://localhost:8080/",
     "height": 206
    },
    "id": "tK2Ygjsi6xFE",
    "outputId": "9d866f00-fef2-43cd-e08d-8b2e3d820e35"
   },
   "outputs": [
    {
     "data": {
      "text/html": [
       "<div>\n",
       "<style scoped>\n",
       "    .dataframe tbody tr th:only-of-type {\n",
       "        vertical-align: middle;\n",
       "    }\n",
       "\n",
       "    .dataframe tbody tr th {\n",
       "        vertical-align: top;\n",
       "    }\n",
       "\n",
       "    .dataframe thead th {\n",
       "        text-align: right;\n",
       "    }\n",
       "</style>\n",
       "<table border=\"1\" class=\"dataframe\">\n",
       "  <thead>\n",
       "    <tr style=\"text-align: right;\">\n",
       "      <th></th>\n",
       "      <th>gender</th>\n",
       "      <th>age</th>\n",
       "      <th>smoke</th>\n",
       "      <th>sysBP</th>\n",
       "      <th>diaBP</th>\n",
       "      <th>BMI</th>\n",
       "      <th>Chol</th>\n",
       "      <th>glucose</th>\n",
       "      <th>active</th>\n",
       "      <th>CardioDisease</th>\n",
       "    </tr>\n",
       "  </thead>\n",
       "  <tbody>\n",
       "    <tr>\n",
       "      <th>0</th>\n",
       "      <td>2</td>\n",
       "      <td>50</td>\n",
       "      <td>0</td>\n",
       "      <td>110.0</td>\n",
       "      <td>80.0</td>\n",
       "      <td>66.115702</td>\n",
       "      <td>1</td>\n",
       "      <td>1</td>\n",
       "      <td>1</td>\n",
       "      <td>0</td>\n",
       "    </tr>\n",
       "    <tr>\n",
       "      <th>1</th>\n",
       "      <td>1</td>\n",
       "      <td>55</td>\n",
       "      <td>0</td>\n",
       "      <td>140.0</td>\n",
       "      <td>90.0</td>\n",
       "      <td>45.918367</td>\n",
       "      <td>3</td>\n",
       "      <td>1</td>\n",
       "      <td>1</td>\n",
       "      <td>1</td>\n",
       "    </tr>\n",
       "    <tr>\n",
       "      <th>2</th>\n",
       "      <td>1</td>\n",
       "      <td>51</td>\n",
       "      <td>0</td>\n",
       "      <td>130.0</td>\n",
       "      <td>70.0</td>\n",
       "      <td>41.420118</td>\n",
       "      <td>3</td>\n",
       "      <td>1</td>\n",
       "      <td>0</td>\n",
       "      <td>1</td>\n",
       "    </tr>\n",
       "    <tr>\n",
       "      <th>3</th>\n",
       "      <td>2</td>\n",
       "      <td>48</td>\n",
       "      <td>0</td>\n",
       "      <td>150.0</td>\n",
       "      <td>100.0</td>\n",
       "      <td>44.444444</td>\n",
       "      <td>1</td>\n",
       "      <td>1</td>\n",
       "      <td>1</td>\n",
       "      <td>1</td>\n",
       "    </tr>\n",
       "    <tr>\n",
       "      <th>4</th>\n",
       "      <td>1</td>\n",
       "      <td>47</td>\n",
       "      <td>0</td>\n",
       "      <td>100.0</td>\n",
       "      <td>60.0</td>\n",
       "      <td>60.000000</td>\n",
       "      <td>1</td>\n",
       "      <td>1</td>\n",
       "      <td>0</td>\n",
       "      <td>0</td>\n",
       "    </tr>\n",
       "  </tbody>\n",
       "</table>\n",
       "</div>"
      ],
      "text/plain": [
       "   gender  age  smoke   sysBP  diaBP        BMI  Chol  glucose  active   \\\n",
       "0       2   50       0  110.0   80.0  66.115702     1        1        1   \n",
       "1       1   55       0  140.0   90.0  45.918367     3        1        1   \n",
       "2       1   51       0  130.0   70.0  41.420118     3        1        0   \n",
       "3       2   48       0  150.0  100.0  44.444444     1        1        1   \n",
       "4       1   47       0  100.0   60.0  60.000000     1        1        0   \n",
       "\n",
       "   CardioDisease  \n",
       "0              0  \n",
       "1              1  \n",
       "2              1  \n",
       "3              1  \n",
       "4              0  "
      ]
     },
     "execution_count": 8,
     "metadata": {},
     "output_type": "execute_result"
    }
   ],
   "source": [
    "# prinitng first 5 rows of the dataset\n",
    "df.head()"
   ]
  },
  {
   "cell_type": "code",
   "execution_count": 9,
   "metadata": {
    "colab": {
     "base_uri": "https://localhost:8080/",
     "height": 206
    },
    "id": "QLxuqCDA6yhz",
    "outputId": "6b547c6e-53e1-4aae-b2b5-79f1cefd5b93"
   },
   "outputs": [
    {
     "data": {
      "text/html": [
       "<div>\n",
       "<style scoped>\n",
       "    .dataframe tbody tr th:only-of-type {\n",
       "        vertical-align: middle;\n",
       "    }\n",
       "\n",
       "    .dataframe tbody tr th {\n",
       "        vertical-align: top;\n",
       "    }\n",
       "\n",
       "    .dataframe thead th {\n",
       "        text-align: right;\n",
       "    }\n",
       "</style>\n",
       "<table border=\"1\" class=\"dataframe\">\n",
       "  <thead>\n",
       "    <tr style=\"text-align: right;\">\n",
       "      <th></th>\n",
       "      <th>gender</th>\n",
       "      <th>age</th>\n",
       "      <th>smoke</th>\n",
       "      <th>sysBP</th>\n",
       "      <th>diaBP</th>\n",
       "      <th>BMI</th>\n",
       "      <th>Chol</th>\n",
       "      <th>glucose</th>\n",
       "      <th>active</th>\n",
       "      <th>CardioDisease</th>\n",
       "    </tr>\n",
       "  </thead>\n",
       "  <tbody>\n",
       "    <tr>\n",
       "      <th>74233</th>\n",
       "      <td>2</td>\n",
       "      <td>50</td>\n",
       "      <td>1</td>\n",
       "      <td>179.0</td>\n",
       "      <td>92.0</td>\n",
       "      <td>25.97</td>\n",
       "      <td>3</td>\n",
       "      <td>1</td>\n",
       "      <td>1</td>\n",
       "      <td>1</td>\n",
       "    </tr>\n",
       "    <tr>\n",
       "      <th>74234</th>\n",
       "      <td>2</td>\n",
       "      <td>51</td>\n",
       "      <td>1</td>\n",
       "      <td>126.5</td>\n",
       "      <td>80.0</td>\n",
       "      <td>19.71</td>\n",
       "      <td>2</td>\n",
       "      <td>1</td>\n",
       "      <td>1</td>\n",
       "      <td>0</td>\n",
       "    </tr>\n",
       "    <tr>\n",
       "      <th>74235</th>\n",
       "      <td>1</td>\n",
       "      <td>48</td>\n",
       "      <td>1</td>\n",
       "      <td>131.0</td>\n",
       "      <td>72.0</td>\n",
       "      <td>22.00</td>\n",
       "      <td>3</td>\n",
       "      <td>1</td>\n",
       "      <td>1</td>\n",
       "      <td>0</td>\n",
       "    </tr>\n",
       "    <tr>\n",
       "      <th>74236</th>\n",
       "      <td>1</td>\n",
       "      <td>44</td>\n",
       "      <td>1</td>\n",
       "      <td>126.5</td>\n",
       "      <td>87.0</td>\n",
       "      <td>19.16</td>\n",
       "      <td>2</td>\n",
       "      <td>3</td>\n",
       "      <td>1</td>\n",
       "      <td>0</td>\n",
       "    </tr>\n",
       "    <tr>\n",
       "      <th>74237</th>\n",
       "      <td>1</td>\n",
       "      <td>52</td>\n",
       "      <td>0</td>\n",
       "      <td>133.5</td>\n",
       "      <td>83.0</td>\n",
       "      <td>21.47</td>\n",
       "      <td>3</td>\n",
       "      <td>2</td>\n",
       "      <td>1</td>\n",
       "      <td>0</td>\n",
       "    </tr>\n",
       "  </tbody>\n",
       "</table>\n",
       "</div>"
      ],
      "text/plain": [
       "       gender  age  smoke   sysBP  diaBP    BMI  Chol  glucose  active   \\\n",
       "74233       2   50       1  179.0   92.0  25.97     3        1        1   \n",
       "74234       2   51       1  126.5   80.0  19.71     2        1        1   \n",
       "74235       1   48       1  131.0   72.0  22.00     3        1        1   \n",
       "74236       1   44       1  126.5   87.0  19.16     2        3        1   \n",
       "74237       1   52       0  133.5   83.0  21.47     3        2        1   \n",
       "\n",
       "       CardioDisease  \n",
       "74233              1  \n",
       "74234              0  \n",
       "74235              0  \n",
       "74236              0  \n",
       "74237              0  "
      ]
     },
     "execution_count": 9,
     "metadata": {},
     "output_type": "execute_result"
    }
   ],
   "source": [
    "# printing last 5 rows of the dataset\n",
    "df.tail()"
   ]
  },
  {
   "cell_type": "markdown",
   "metadata": {
    "id": "XCUMl4WY_nXN"
   },
   "source": [
    "### Exploratory Data Analysis"
   ]
  },
  {
   "cell_type": "code",
   "execution_count": 10,
   "metadata": {
    "colab": {
     "base_uri": "https://localhost:8080/"
    },
    "id": "W6TSzyW766mx",
    "outputId": "c3c7799d-5a96-4440-d16e-cb9b2329e90c"
   },
   "outputs": [
    {
     "name": "stdout",
     "output_type": "stream",
     "text": [
      "<class 'pandas.core.frame.DataFrame'>\n",
      "RangeIndex: 74238 entries, 0 to 74237\n",
      "Data columns (total 10 columns):\n",
      " #   Column         Non-Null Count  Dtype  \n",
      "---  ------         --------------  -----  \n",
      " 0   gender         74238 non-null  int64  \n",
      " 1   age            74238 non-null  int64  \n",
      " 2   smoke          74238 non-null  int64  \n",
      " 3   sysBP          74238 non-null  float64\n",
      " 4   diaBP          74238 non-null  float64\n",
      " 5   BMI            74219 non-null  float64\n",
      " 6   Chol           74238 non-null  int64  \n",
      " 7   glucose        74238 non-null  int64  \n",
      " 8   active         74238 non-null  int64  \n",
      " 9   CardioDisease  74238 non-null  int64  \n",
      "dtypes: float64(3), int64(7)\n",
      "memory usage: 5.7 MB\n"
     ]
    }
   ],
   "source": [
    "df.info()"
   ]
  },
  {
   "cell_type": "markdown",
   "metadata": {
    "id": "rkaAxk8iisBQ"
   },
   "source": [
    "Observation: The data set has 74238 rows indexed from 0_74237 and 10 columns indexed from 0_9. All columns have datatype integer except three columns `sysBP`, `diaBP`, `BMI`, which have float values."
   ]
  },
  {
   "cell_type": "code",
   "execution_count": 11,
   "metadata": {
    "colab": {
     "base_uri": "https://localhost:8080/",
     "height": 300
    },
    "id": "KNky2Ffh7XL1",
    "outputId": "41874898-b178-4e06-944f-5d7236cd0307"
   },
   "outputs": [
    {
     "data": {
      "text/html": [
       "<div>\n",
       "<style scoped>\n",
       "    .dataframe tbody tr th:only-of-type {\n",
       "        vertical-align: middle;\n",
       "    }\n",
       "\n",
       "    .dataframe tbody tr th {\n",
       "        vertical-align: top;\n",
       "    }\n",
       "\n",
       "    .dataframe thead th {\n",
       "        text-align: right;\n",
       "    }\n",
       "</style>\n",
       "<table border=\"1\" class=\"dataframe\">\n",
       "  <thead>\n",
       "    <tr style=\"text-align: right;\">\n",
       "      <th></th>\n",
       "      <th>gender</th>\n",
       "      <th>age</th>\n",
       "      <th>smoke</th>\n",
       "      <th>sysBP</th>\n",
       "      <th>diaBP</th>\n",
       "      <th>BMI</th>\n",
       "      <th>Chol</th>\n",
       "      <th>glucose</th>\n",
       "      <th>active</th>\n",
       "      <th>CardioDisease</th>\n",
       "    </tr>\n",
       "  </thead>\n",
       "  <tbody>\n",
       "    <tr>\n",
       "      <th>count</th>\n",
       "      <td>74238.000000</td>\n",
       "      <td>74238.000000</td>\n",
       "      <td>74238.000000</td>\n",
       "      <td>74238.000000</td>\n",
       "      <td>74238.000000</td>\n",
       "      <td>7.421900e+04</td>\n",
       "      <td>74238.000000</td>\n",
       "      <td>74238.000000</td>\n",
       "      <td>74238.000000</td>\n",
       "      <td>74238.000000</td>\n",
       "    </tr>\n",
       "    <tr>\n",
       "      <th>mean</th>\n",
       "      <td>1.354118</td>\n",
       "      <td>52.654813</td>\n",
       "      <td>0.111304</td>\n",
       "      <td>129.019094</td>\n",
       "      <td>95.846218</td>\n",
       "      <td>4.977409e+02</td>\n",
       "      <td>1.417859</td>\n",
       "      <td>1.230004</td>\n",
       "      <td>0.806204</td>\n",
       "      <td>0.479849</td>\n",
       "    </tr>\n",
       "    <tr>\n",
       "      <th>std</th>\n",
       "      <td>0.478248</td>\n",
       "      <td>6.923851</td>\n",
       "      <td>0.314511</td>\n",
       "      <td>149.645659</td>\n",
       "      <td>183.063638</td>\n",
       "      <td>8.642367e+04</td>\n",
       "      <td>0.715949</td>\n",
       "      <td>0.577491</td>\n",
       "      <td>0.395273</td>\n",
       "      <td>0.499597</td>\n",
       "    </tr>\n",
       "    <tr>\n",
       "      <th>min</th>\n",
       "      <td>1.000000</td>\n",
       "      <td>29.000000</td>\n",
       "      <td>0.000000</td>\n",
       "      <td>-150.000000</td>\n",
       "      <td>-70.000000</td>\n",
       "      <td>-3.111111e+03</td>\n",
       "      <td>1.000000</td>\n",
       "      <td>1.000000</td>\n",
       "      <td>0.000000</td>\n",
       "      <td>0.000000</td>\n",
       "    </tr>\n",
       "    <tr>\n",
       "      <th>25%</th>\n",
       "      <td>1.000000</td>\n",
       "      <td>48.000000</td>\n",
       "      <td>0.000000</td>\n",
       "      <td>120.000000</td>\n",
       "      <td>80.000000</td>\n",
       "      <td>4.591837e+01</td>\n",
       "      <td>1.000000</td>\n",
       "      <td>1.000000</td>\n",
       "      <td>1.000000</td>\n",
       "      <td>0.000000</td>\n",
       "    </tr>\n",
       "    <tr>\n",
       "      <th>50%</th>\n",
       "      <td>1.000000</td>\n",
       "      <td>53.000000</td>\n",
       "      <td>0.000000</td>\n",
       "      <td>120.000000</td>\n",
       "      <td>80.000000</td>\n",
       "      <td>5.555556e+01</td>\n",
       "      <td>1.000000</td>\n",
       "      <td>1.000000</td>\n",
       "      <td>1.000000</td>\n",
       "      <td>0.000000</td>\n",
       "    </tr>\n",
       "    <tr>\n",
       "      <th>75%</th>\n",
       "      <td>2.000000</td>\n",
       "      <td>58.000000</td>\n",
       "      <td>0.000000</td>\n",
       "      <td>140.000000</td>\n",
       "      <td>90.000000</td>\n",
       "      <td>5.555556e+01</td>\n",
       "      <td>2.000000</td>\n",
       "      <td>1.000000</td>\n",
       "      <td>1.000000</td>\n",
       "      <td>1.000000</td>\n",
       "    </tr>\n",
       "    <tr>\n",
       "      <th>max</th>\n",
       "      <td>2.000000</td>\n",
       "      <td>70.000000</td>\n",
       "      <td>1.000000</td>\n",
       "      <td>16020.000000</td>\n",
       "      <td>11000.000000</td>\n",
       "      <td>2.088000e+07</td>\n",
       "      <td>3.000000</td>\n",
       "      <td>3.000000</td>\n",
       "      <td>1.000000</td>\n",
       "      <td>1.000000</td>\n",
       "    </tr>\n",
       "  </tbody>\n",
       "</table>\n",
       "</div>"
      ],
      "text/plain": [
       "             gender           age        smoke          sysBP         diaBP  \\\n",
       "count  74238.000000  74238.000000  74238.000000  74238.000000  74238.000000   \n",
       "mean       1.354118     52.654813      0.111304    129.019094     95.846218   \n",
       "std        0.478248      6.923851      0.314511    149.645659    183.063638   \n",
       "min        1.000000     29.000000      0.000000   -150.000000    -70.000000   \n",
       "25%        1.000000     48.000000      0.000000    120.000000     80.000000   \n",
       "50%        1.000000     53.000000      0.000000    120.000000     80.000000   \n",
       "75%        2.000000     58.000000      0.000000    140.000000     90.000000   \n",
       "max        2.000000     70.000000      1.000000  16020.000000  11000.000000   \n",
       "\n",
       "                BMI          Chol       glucose       active   CardioDisease  \n",
       "count  7.421900e+04  74238.000000  74238.000000  74238.000000   74238.000000  \n",
       "mean   4.977409e+02      1.417859      1.230004      0.806204       0.479849  \n",
       "std    8.642367e+04      0.715949      0.577491      0.395273       0.499597  \n",
       "min   -3.111111e+03      1.000000      1.000000      0.000000       0.000000  \n",
       "25%    4.591837e+01      1.000000      1.000000      1.000000       0.000000  \n",
       "50%    5.555556e+01      1.000000      1.000000      1.000000       0.000000  \n",
       "75%    5.555556e+01      2.000000      1.000000      1.000000       1.000000  \n",
       "max    2.088000e+07      3.000000      3.000000      1.000000       1.000000  "
      ]
     },
     "execution_count": 11,
     "metadata": {},
     "output_type": "execute_result"
    }
   ],
   "source": [
    "df.describe()"
   ]
  },
  {
   "cell_type": "markdown",
   "metadata": {
    "id": "l7FPUaTyiWod"
   },
   "source": [
    "### Data Pre-Processing"
   ]
  },
  {
   "cell_type": "code",
   "execution_count": 12,
   "metadata": {
    "colab": {
     "base_uri": "https://localhost:8080/"
    },
    "id": "PjarmzAA7og8",
    "outputId": "d1016c10-ba4e-4451-88c3-46bf161dc8c3"
   },
   "outputs": [
    {
     "data": {
      "text/plain": [
       "gender            0\n",
       "age               0\n",
       "smoke             0\n",
       "sysBP             0\n",
       "diaBP             0\n",
       "BMI              19\n",
       "Chol              0\n",
       "glucose           0\n",
       "active            0\n",
       "CardioDisease     0\n",
       "dtype: int64"
      ]
     },
     "execution_count": 12,
     "metadata": {},
     "output_type": "execute_result"
    }
   ],
   "source": [
    "#Data Reduction\n",
    "df.isna().sum()     # finding missing values"
   ]
  },
  {
   "cell_type": "markdown",
   "metadata": {
    "id": "fiBIa0JB7zVI"
   },
   "source": [
    "**Observation**: BMI column has 19 missing value rows."
   ]
  },
  {
   "cell_type": "markdown",
   "metadata": {
    "id": "8wtSwnjTOZvD"
   },
   "source": [
    "#### Data Reduction"
   ]
  },
  {
   "cell_type": "code",
   "execution_count": 13,
   "metadata": {
    "colab": {
     "base_uri": "https://localhost:8080/"
    },
    "id": "5kTc66JT8uSS",
    "outputId": "5b13616c-06e7-43d7-b84b-885ddccff495"
   },
   "outputs": [
    {
     "name": "stdout",
     "output_type": "stream",
     "text": [
      "Data shape after dropping null rows:  (74219, 10)\n"
     ]
    }
   ],
   "source": [
    "# deleting null rows\n",
    "\n",
    "df.dropna(subset=['BMI'], inplace=True)\n",
    "print(\"Data shape after dropping null rows: \" , df.shape)"
   ]
  },
  {
   "cell_type": "markdown",
   "metadata": {
    "id": "gPT942qv-ghU"
   },
   "source": [
    " The percentage of null rows was not significant so we dropped the rows from dataset. Total no of records are 74219."
   ]
  },
  {
   "cell_type": "code",
   "execution_count": 14,
   "metadata": {
    "colab": {
     "base_uri": "https://localhost:8080/"
    },
    "id": "pxCPo5Zo84z_",
    "outputId": "15e94a05-c74e-485e-fddc-4f14fa2d63ac"
   },
   "outputs": [
    {
     "name": "stdout",
     "output_type": "stream",
     "text": [
      "Total duplicate samples are:  49928\n"
     ]
    }
   ],
   "source": [
    "# finding no of duplicated rows\n",
    "print(\"Total duplicate samples are: \", df.duplicated().sum())"
   ]
  },
  {
   "cell_type": "markdown",
   "metadata": {
    "id": "U-p0Y0n29L3K"
   },
   "source": [
    "**Observation**: Total number of duplicated rows is 48828. This will affect the accuracy of our ML model so we will drop them."
   ]
  },
  {
   "cell_type": "code",
   "execution_count": 15,
   "metadata": {
    "id": "L2tq_Vpp9AiQ"
   },
   "outputs": [],
   "source": [
    "# deleting no of duplicated rows\n",
    "\n",
    "df.drop_duplicates(inplace = True)"
   ]
  },
  {
   "cell_type": "code",
   "execution_count": 16,
   "metadata": {
    "colab": {
     "base_uri": "https://localhost:8080/"
    },
    "id": "Zc990jrE9Ygx",
    "outputId": "ea7e9b54-7f3f-4464-bb09-4b77daf1c1e5"
   },
   "outputs": [
    {
     "name": "stdout",
     "output_type": "stream",
     "text": [
      "Data shape after dropping duplicates:  (24291, 10)\n"
     ]
    }
   ],
   "source": [
    "print(\"Data shape after dropping duplicates: \" , df.shape)"
   ]
  },
  {
   "cell_type": "markdown",
   "metadata": {
    "id": "qrBFWi4GqNgT"
   },
   "source": [
    "**Outliers**"
   ]
  },
  {
   "cell_type": "code",
   "execution_count": 17,
   "metadata": {
    "colab": {
     "base_uri": "https://localhost:8080/"
    },
    "id": "-JpsFJ30nPzz",
    "outputId": "75bac86d-c3f3-44ad-9739-b28d17d1441b"
   },
   "outputs": [
    {
     "name": "stdout",
     "output_type": "stream",
     "text": [
      "-150.0\n"
     ]
    },
    {
     "data": {
      "text/plain": [
       "16020.0"
      ]
     },
     "execution_count": 17,
     "metadata": {},
     "output_type": "execute_result"
    }
   ],
   "source": [
    "print(df['sysBP'].min())\n",
    "df['sysBP'].max()"
   ]
  },
  {
   "cell_type": "code",
   "execution_count": 18,
   "metadata": {
    "id": "NZgjFyGkn4cy"
   },
   "outputs": [],
   "source": [
    "negative_sysBP = df[df['sysBP'] < 0]"
   ]
  },
  {
   "cell_type": "code",
   "execution_count": 19,
   "metadata": {
    "colab": {
     "base_uri": "https://localhost:8080/"
    },
    "id": "QNuMaY_in621",
    "outputId": "e0498459-5d98-4d21-c35e-72f4ee8b6f7d"
   },
   "outputs": [
    {
     "data": {
      "text/plain": [
       "7"
      ]
     },
     "execution_count": 19,
     "metadata": {},
     "output_type": "execute_result"
    }
   ],
   "source": [
    "negative_sysBP.shape[0]"
   ]
  },
  {
   "cell_type": "markdown",
   "metadata": {
    "id": "wjHlQCTIoPMG"
   },
   "source": [
    "**Observation**: There are 7 rows which have a negative value for sysBP (outliers)"
   ]
  },
  {
   "cell_type": "code",
   "execution_count": 20,
   "metadata": {
    "colab": {
     "base_uri": "https://localhost:8080/"
    },
    "id": "CcjMFqYkohcB",
    "outputId": "5fcd691d-0823-4bd6-aed9-f786a6b61762"
   },
   "outputs": [
    {
     "name": "stdout",
     "output_type": "stream",
     "text": [
      "-70.0\n"
     ]
    },
    {
     "data": {
      "text/plain": [
       "11000.0"
      ]
     },
     "execution_count": 20,
     "metadata": {},
     "output_type": "execute_result"
    }
   ],
   "source": [
    "print(df['diaBP'].min())\n",
    "df['diaBP'].max()"
   ]
  },
  {
   "cell_type": "code",
   "execution_count": 21,
   "metadata": {
    "colab": {
     "base_uri": "https://localhost:8080/"
    },
    "id": "cEjQdTE3orDh",
    "outputId": "7dc666f0-a3c6-412a-8cad-2c13203f8cfe"
   },
   "outputs": [
    {
     "data": {
      "text/plain": [
       "1"
      ]
     },
     "execution_count": 21,
     "metadata": {},
     "output_type": "execute_result"
    }
   ],
   "source": [
    "negative_diaBP = df[df['diaBP'] < 0]\n",
    "negative_diaBP.shape[0]"
   ]
  },
  {
   "cell_type": "code",
   "execution_count": 22,
   "metadata": {
    "id": "p8ms5rGipEej"
   },
   "outputs": [],
   "source": [
    "# dropping row with negative value in diaBP and sysBP\n",
    "mask = df['diaBP'] < 0\n",
    "df = df.drop(df[mask].index)\n",
    "\n",
    "mask_sys = df['sysBP'] < 0\n",
    "df = df.drop(df[mask_sys].index)"
   ]
  },
  {
   "cell_type": "code",
   "execution_count": 23,
   "metadata": {
    "colab": {
     "base_uri": "https://localhost:8080/"
    },
    "id": "BzNuXqCwpShs",
    "outputId": "344ca3d5-eeb0-4fab-b421-d73ded59a880"
   },
   "outputs": [
    {
     "data": {
      "text/plain": [
       "(24283, 10)"
      ]
     },
     "execution_count": 23,
     "metadata": {},
     "output_type": "execute_result"
    }
   ],
   "source": [
    "df.shape"
   ]
  },
  {
   "cell_type": "markdown",
   "metadata": {
    "id": "uLxCZ5vMigwN"
   },
   "source": [
    "#### Data Visualization"
   ]
  },
  {
   "cell_type": "code",
   "execution_count": 24,
   "metadata": {
    "colab": {
     "base_uri": "https://localhost:8080/"
    },
    "id": "-YRXVdaM9n1v",
    "outputId": "99ed8a7a-0de9-4b57-d674-2f53a745f769"
   },
   "outputs": [
    {
     "data": {
      "text/plain": [
       "1    12461\n",
       "0    11822\n",
       "Name: CardioDisease, dtype: int64"
      ]
     },
     "execution_count": 24,
     "metadata": {},
     "output_type": "execute_result"
    }
   ],
   "source": [
    "# no of classes in the target attribute\n",
    "df['CardioDisease'].value_counts()"
   ]
  },
  {
   "cell_type": "markdown",
   "metadata": {
    "id": "8oVRl4Z29663"
   },
   "source": [
    "**Observation**: There are two classes for the target variable \"CardioDisease.\" We will implement binary classification."
   ]
  },
  {
   "cell_type": "code",
   "execution_count": 25,
   "metadata": {
    "colab": {
     "base_uri": "https://localhost:8080/",
     "height": 388
    },
    "id": "XLMjKB1M-DuD",
    "outputId": "441492fb-f1a7-45bc-bef9-e09dadf31939"
   },
   "outputs": [
    {
     "data": {
      "image/png": "[encoded data removed]",
      "text/plain": [
       "<Figure size 600x400 with 1 Axes>"
      ]
     },
     "metadata": {},
     "output_type": "display_data"
    }
   ],
   "source": [
    "# Data Visualization\n",
    "df['CardioDisease'].value_counts().plot(\n",
    "    kind='bar',\n",
    "    figsize=(6, 4), \n",
    "    color=['salmon', 'lightblue'], \n",
    "    xlabel='CardioDisease'\n",
    ")\n",
    "\n",
    "plt.xticks([0,1],['Yes', 'No'], rotation=0)\n",
    "plt.show();"
   ]
  },
  {
   "cell_type": "code",
   "execution_count": 26,
   "metadata": {
    "colab": {
     "base_uri": "https://localhost:8080/"
    },
    "id": "ir9pFYRAAowB",
    "outputId": "da1d9e0c-e5f2-4577-b8a1-aa84678f8809"
   },
   "outputs": [
    {
     "data": {
      "text/plain": [
       "Index(['gender', 'age', 'smoke ', 'sysBP', 'diaBP', 'BMI', 'Chol', 'glucose',\n",
       "       'active ', 'CardioDisease'],\n",
       "      dtype='object')"
      ]
     },
     "execution_count": 26,
     "metadata": {},
     "output_type": "execute_result"
    }
   ],
   "source": [
    "# column names\n",
    "df.columns"
   ]
  },
  {
   "cell_type": "code",
   "execution_count": 27,
   "metadata": {
    "colab": {
     "base_uri": "https://localhost:8080/"
    },
    "id": "SCy42cGqB1BX",
    "outputId": "b2ac5e09-d0a6-40be-e807-4cd116b1a33e"
   },
   "outputs": [
    {
     "data": {
      "text/plain": [
       "1    13684\n",
       "2    10599\n",
       "Name: gender, dtype: int64"
      ]
     },
     "execution_count": 27,
     "metadata": {},
     "output_type": "execute_result"
    }
   ],
   "source": [
    "df['gender'].value_counts()"
   ]
  },
  {
   "cell_type": "code",
   "execution_count": 28,
   "metadata": {
    "colab": {
     "base_uri": "https://localhost:8080/",
     "height": 143
    },
    "id": "mZmd5m1CCFpI",
    "outputId": "41e3bf3e-875c-4908-81b0-6f5b2ff89383"
   },
   "outputs": [
    {
     "data": {
      "text/html": [
       "<div>\n",
       "<style scoped>\n",
       "    .dataframe tbody tr th:only-of-type {\n",
       "        vertical-align: middle;\n",
       "    }\n",
       "\n",
       "    .dataframe tbody tr th {\n",
       "        vertical-align: top;\n",
       "    }\n",
       "\n",
       "    .dataframe thead th {\n",
       "        text-align: right;\n",
       "    }\n",
       "</style>\n",
       "<table border=\"1\" class=\"dataframe\">\n",
       "  <thead>\n",
       "    <tr style=\"text-align: right;\">\n",
       "      <th>CardioDisease</th>\n",
       "      <th>0</th>\n",
       "      <th>1</th>\n",
       "    </tr>\n",
       "    <tr>\n",
       "      <th>gender</th>\n",
       "      <th></th>\n",
       "      <th></th>\n",
       "    </tr>\n",
       "  </thead>\n",
       "  <tbody>\n",
       "    <tr>\n",
       "      <th>1</th>\n",
       "      <td>6789</td>\n",
       "      <td>6895</td>\n",
       "    </tr>\n",
       "    <tr>\n",
       "      <th>2</th>\n",
       "      <td>5033</td>\n",
       "      <td>5566</td>\n",
       "    </tr>\n",
       "  </tbody>\n",
       "</table>\n",
       "</div>"
      ],
      "text/plain": [
       "CardioDisease     0     1\n",
       "gender                   \n",
       "1              6789  6895\n",
       "2              5033  5566"
      ]
     },
     "execution_count": 28,
     "metadata": {},
     "output_type": "execute_result"
    }
   ],
   "source": [
    "# CardioDisease Frequency to gender\n",
    "\n",
    "pd.crosstab(df['gender'], df['CardioDisease'])"
   ]
  },
  {
   "cell_type": "code",
   "execution_count": 29,
   "metadata": {
    "colab": {
     "base_uri": "https://localhost:8080/",
     "height": 410
    },
    "id": "xpihlSllCQQ9",
    "outputId": "92c7d4ff-a3f9-45da-9269-424259d14976"
   },
   "outputs": [
    {
     "data": {
      "image/png": "[encoded data removed]",
      "text/plain": [
       "<Figure size 600x400 with 1 Axes>"
      ]
     },
     "metadata": {},
     "output_type": "display_data"
    }
   ],
   "source": [
    "# plotting crosstab\n",
    "pd.crosstab(df['gender'], df['CardioDisease']).plot(kind='bar', figsize=(6, 4), color=['salmon', 'lightblue']);\n",
    "target_counts = df['CardioDisease'].value_counts()\n",
    "\n",
    "plt.title(\"CardioDisease Frequency for Gender\")\n",
    "plt.xticks(target_counts.index, ['No Cardio Disease', 'Cardio Disease'], rotation = 360)\n",
    "plt.xlabel('Disease Status')\n",
    "plt.ylabel('Count')\n",
    "plt.legend(['Female', 'Male']);"
   ]
  },
  {
   "cell_type": "code",
   "execution_count": 30,
   "metadata": {
    "colab": {
     "base_uri": "https://localhost:8080/"
    },
    "id": "OJwqTLdRcb3D",
    "outputId": "fb523cbc-8406-4153-f4d5-e2b3b5c00083"
   },
   "outputs": [
    {
     "name": "stdout",
     "output_type": "stream",
     "text": [
      "Minimum age of patients:  29\n",
      "Maximum age of patients:  70\n"
     ]
    }
   ],
   "source": [
    "# maximum and minimum age of patients\n",
    "\n",
    "print(\"Minimum age of patients: \" , df['age'].min())\n",
    "print(\"Maximum age of patients: \" , df['age'].max())"
   ]
  },
  {
   "cell_type": "code",
   "execution_count": 31,
   "metadata": {
    "colab": {
     "base_uri": "https://localhost:8080/",
     "height": 368
    },
    "id": "fwVLMN8uae0c",
    "outputId": "f9a18cd0-d66b-4920-dbb9-ecda28c2e41c"
   },
   "outputs": [
    {
     "data": {
      "image/png": "[encoded data removed]",
      "text/plain": [
       "<Figure size 600x400 with 1 Axes>"
      ]
     },
     "metadata": {},
     "output_type": "display_data"
    }
   ],
   "source": [
    "df['age'].plot(kind='hist', figsize=(6 , 4));\n",
    "plt.title(\"Age Historgram\")\n",
    "plt.xlabel(\"Age in years\")\n",
    "plt.show();"
   ]
  },
  {
   "cell_type": "markdown",
   "metadata": {
    "id": "bnUIo7lxaqM8"
   },
   "source": [
    "**Observation**: Highest frequency of patients lies between 50-60 years. An observeble increase in frequency of patients above 35 years."
   ]
  },
  {
   "cell_type": "code",
   "execution_count": 32,
   "metadata": {
    "colab": {
     "base_uri": "https://localhost:8080/",
     "height": 410
    },
    "id": "n994b38Ej6as",
    "outputId": "9f72eb59-ae78-415d-fa20-6bf69181d89b"
   },
   "outputs": [
    {
     "data": {
      "image/png": "[encoded data removed]",
      "text/plain": [
       "<Figure size 600x400 with 1 Axes>"
      ]
     },
     "metadata": {},
     "output_type": "display_data"
    }
   ],
   "source": [
    "# visualizing frequency of smoker and non smokers in patienst\n",
    "df['smoke '].value_counts().plot(kind='bar', figsize=(6, 4), width = 0.35, color=['salmon', 'lightblue'], xlabel=\"Smoke Status\")\n",
    "plt.title(\"Distribution of Patients who are Smoker and Non-Smokers\")\n",
    "plt.xticks([0,1], ['Non-smoker', 'Smoker'], rotation=0)\n",
    "plt.show();"
   ]
  },
  {
   "cell_type": "code",
   "execution_count": 33,
   "metadata": {
    "colab": {
     "base_uri": "https://localhost:8080/"
    },
    "id": "LJ-CwDb5T8xw",
    "outputId": "8f98e247-65d5-4918-989d-af56f9bc4c31"
   },
   "outputs": [
    {
     "name": "stdout",
     "output_type": "stream",
     "text": [
      "Average Cholesterol for Smokers: 1.83\n",
      "Average Cholesterol for Non-Smokers: 1.75\n"
     ]
    }
   ],
   "source": [
    "# Average cholesterol values for smoker and non-smokers patients\n",
    "\n",
    "avg_chol_smokers = df[df['smoke '] == 1]['Chol'].mean()\n",
    "avg_chol_non_smokers = df[df['smoke '] == 0]['Chol'].mean()\n",
    "\n",
    "print(\"Average Cholesterol for Smokers:\", round(avg_chol_smokers, 2))\n",
    "print(\"Average Cholesterol for Non-Smokers:\", round(avg_chol_non_smokers, 2))"
   ]
  },
  {
   "cell_type": "markdown",
   "metadata": {
    "id": "C5bCbnmmWzn5"
   },
   "source": [
    "**Observation**: On average smokers have a slightly higher cholesterol level compared to non-smokers, indicating its role in increasing risk of Cardiovascular Disease."
   ]
  },
  {
   "cell_type": "code",
   "execution_count": 34,
   "metadata": {
    "id": "vvN8HY3xktVY"
   },
   "outputs": [
    {
     "data": {
      "image/png": "[encoded data removed]",
      "text/plain": [
       "<Figure size 800x500 with 1 Axes>"
      ]
     },
     "metadata": {},
     "output_type": "display_data"
    }
   ],
   "source": [
    "# Exploring Distrbution of Cholestrol and Age with disease status\n",
    "\n",
    "t_0 = df[df['CardioDisease'] == 0]\n",
    "t_1 = df[df['CardioDisease'] == 1]\n",
    "\n",
    "plt.figure(figsize= [8,5])\n",
    "plt.scatter(t_0['age'], t_0['Chol'], label=\"No-Disease\", color ='lightblue', alpha=0.75 )\n",
    "plt.scatter(t_1['age'], t_1['Chol'], label=\"Cardio-Disease\", color ='salmon', alpha=0.75 )\n",
    "\n",
    "\n",
    "\n",
    "plt.title('Scatter Graph of Chol and Age')\n",
    "plt.xlabel('Age (in years)')\n",
    "plt.ylabel('Cholestrol (Chol)')\n",
    "plt.yticks(np.arange(1, 4, step = 1.0))\n",
    "plt.legend()\n",
    "\n",
    "plt.show();"
   ]
  },
  {
   "cell_type": "markdown",
   "metadata": {
    "id": "crUKs--IGgGh"
   },
   "source": [
    "#### Correlation Matrix and Heatmap"
   ]
  },
  {
   "cell_type": "code",
   "execution_count": 35,
   "metadata": {
    "colab": {
     "base_uri": "https://localhost:8080/",
     "height": 363
    },
    "id": "xZk33OcpGZxX",
    "outputId": "4d7fdcd5-adb9-4b31-83a5-6b2a0607674e"
   },
   "outputs": [
    {
     "data": {
      "text/html": [
       "<div>\n",
       "<style scoped>\n",
       "    .dataframe tbody tr th:only-of-type {\n",
       "        vertical-align: middle;\n",
       "    }\n",
       "\n",
       "    .dataframe tbody tr th {\n",
       "        vertical-align: top;\n",
       "    }\n",
       "\n",
       "    .dataframe thead th {\n",
       "        text-align: right;\n",
       "    }\n",
       "</style>\n",
       "<table border=\"1\" class=\"dataframe\">\n",
       "  <thead>\n",
       "    <tr style=\"text-align: right;\">\n",
       "      <th></th>\n",
       "      <th>gender</th>\n",
       "      <th>age</th>\n",
       "      <th>smoke</th>\n",
       "      <th>sysBP</th>\n",
       "      <th>diaBP</th>\n",
       "      <th>BMI</th>\n",
       "      <th>Chol</th>\n",
       "      <th>glucose</th>\n",
       "      <th>active</th>\n",
       "      <th>CardioDisease</th>\n",
       "    </tr>\n",
       "  </thead>\n",
       "  <tbody>\n",
       "    <tr>\n",
       "      <th>gender</th>\n",
       "      <td>1.000000</td>\n",
       "      <td>-0.019478</td>\n",
       "      <td>0.284164</td>\n",
       "      <td>-0.003216</td>\n",
       "      <td>0.001950</td>\n",
       "      <td>0.003822</td>\n",
       "      <td>-0.052293</td>\n",
       "      <td>-0.053967</td>\n",
       "      <td>0.032348</td>\n",
       "      <td>0.021106</td>\n",
       "    </tr>\n",
       "    <tr>\n",
       "      <th>age</th>\n",
       "      <td>-0.019478</td>\n",
       "      <td>1.000000</td>\n",
       "      <td>-0.138453</td>\n",
       "      <td>0.015098</td>\n",
       "      <td>0.021636</td>\n",
       "      <td>-0.005562</td>\n",
       "      <td>0.096777</td>\n",
       "      <td>0.095674</td>\n",
       "      <td>-0.021944</td>\n",
       "      <td>0.173488</td>\n",
       "    </tr>\n",
       "    <tr>\n",
       "      <th>smoke</th>\n",
       "      <td>0.284164</td>\n",
       "      <td>-0.138453</td>\n",
       "      <td>1.000000</td>\n",
       "      <td>-0.015732</td>\n",
       "      <td>-0.034809</td>\n",
       "      <td>0.008788</td>\n",
       "      <td>0.042237</td>\n",
       "      <td>-0.080420</td>\n",
       "      <td>0.071060</td>\n",
       "      <td>-0.109502</td>\n",
       "    </tr>\n",
       "    <tr>\n",
       "      <th>sysBP</th>\n",
       "      <td>-0.003216</td>\n",
       "      <td>0.015098</td>\n",
       "      <td>-0.015732</td>\n",
       "      <td>1.000000</td>\n",
       "      <td>0.008584</td>\n",
       "      <td>-0.004685</td>\n",
       "      <td>0.002288</td>\n",
       "      <td>-0.002979</td>\n",
       "      <td>0.006351</td>\n",
       "      <td>0.037049</td>\n",
       "    </tr>\n",
       "    <tr>\n",
       "      <th>diaBP</th>\n",
       "      <td>0.001950</td>\n",
       "      <td>0.021636</td>\n",
       "      <td>-0.034809</td>\n",
       "      <td>0.008584</td>\n",
       "      <td>1.000000</td>\n",
       "      <td>0.046263</td>\n",
       "      <td>-0.030659</td>\n",
       "      <td>-0.021452</td>\n",
       "      <td>0.022186</td>\n",
       "      <td>0.074764</td>\n",
       "    </tr>\n",
       "    <tr>\n",
       "      <th>BMI</th>\n",
       "      <td>0.003822</td>\n",
       "      <td>-0.005562</td>\n",
       "      <td>0.008788</td>\n",
       "      <td>-0.004685</td>\n",
       "      <td>0.046263</td>\n",
       "      <td>1.000000</td>\n",
       "      <td>-0.008264</td>\n",
       "      <td>-0.005296</td>\n",
       "      <td>0.005158</td>\n",
       "      <td>-0.002907</td>\n",
       "    </tr>\n",
       "    <tr>\n",
       "      <th>Chol</th>\n",
       "      <td>-0.052293</td>\n",
       "      <td>0.096777</td>\n",
       "      <td>0.042237</td>\n",
       "      <td>0.002288</td>\n",
       "      <td>-0.030659</td>\n",
       "      <td>-0.008264</td>\n",
       "      <td>1.000000</td>\n",
       "      <td>0.228249</td>\n",
       "      <td>0.084066</td>\n",
       "      <td>0.031832</td>\n",
       "    </tr>\n",
       "    <tr>\n",
       "      <th>glucose</th>\n",
       "      <td>-0.053967</td>\n",
       "      <td>0.095674</td>\n",
       "      <td>-0.080420</td>\n",
       "      <td>-0.002979</td>\n",
       "      <td>-0.021452</td>\n",
       "      <td>-0.005296</td>\n",
       "      <td>0.228249</td>\n",
       "      <td>1.000000</td>\n",
       "      <td>0.029771</td>\n",
       "      <td>0.051366</td>\n",
       "    </tr>\n",
       "    <tr>\n",
       "      <th>active</th>\n",
       "      <td>0.032348</td>\n",
       "      <td>-0.021944</td>\n",
       "      <td>0.071060</td>\n",
       "      <td>0.006351</td>\n",
       "      <td>0.022186</td>\n",
       "      <td>0.005158</td>\n",
       "      <td>0.084066</td>\n",
       "      <td>0.029771</td>\n",
       "      <td>1.000000</td>\n",
       "      <td>-0.046799</td>\n",
       "    </tr>\n",
       "    <tr>\n",
       "      <th>CardioDisease</th>\n",
       "      <td>0.021106</td>\n",
       "      <td>0.173488</td>\n",
       "      <td>-0.109502</td>\n",
       "      <td>0.037049</td>\n",
       "      <td>0.074764</td>\n",
       "      <td>-0.002907</td>\n",
       "      <td>0.031832</td>\n",
       "      <td>0.051366</td>\n",
       "      <td>-0.046799</td>\n",
       "      <td>1.000000</td>\n",
       "    </tr>\n",
       "  </tbody>\n",
       "</table>\n",
       "</div>"
      ],
      "text/plain": [
       "                 gender       age    smoke      sysBP     diaBP       BMI  \\\n",
       "gender         1.000000 -0.019478  0.284164 -0.003216  0.001950  0.003822   \n",
       "age           -0.019478  1.000000 -0.138453  0.015098  0.021636 -0.005562   \n",
       "smoke          0.284164 -0.138453  1.000000 -0.015732 -0.034809  0.008788   \n",
       "sysBP         -0.003216  0.015098 -0.015732  1.000000  0.008584 -0.004685   \n",
       "diaBP          0.001950  0.021636 -0.034809  0.008584  1.000000  0.046263   \n",
       "BMI            0.003822 -0.005562  0.008788 -0.004685  0.046263  1.000000   \n",
       "Chol          -0.052293  0.096777  0.042237  0.002288 -0.030659 -0.008264   \n",
       "glucose       -0.053967  0.095674 -0.080420 -0.002979 -0.021452 -0.005296   \n",
       "active         0.032348 -0.021944  0.071060  0.006351  0.022186  0.005158   \n",
       "CardioDisease  0.021106  0.173488 -0.109502  0.037049  0.074764 -0.002907   \n",
       "\n",
       "                   Chol   glucose   active   CardioDisease  \n",
       "gender        -0.052293 -0.053967  0.032348       0.021106  \n",
       "age            0.096777  0.095674 -0.021944       0.173488  \n",
       "smoke          0.042237 -0.080420  0.071060      -0.109502  \n",
       "sysBP          0.002288 -0.002979  0.006351       0.037049  \n",
       "diaBP         -0.030659 -0.021452  0.022186       0.074764  \n",
       "BMI           -0.008264 -0.005296  0.005158      -0.002907  \n",
       "Chol           1.000000  0.228249  0.084066       0.031832  \n",
       "glucose        0.228249  1.000000  0.029771       0.051366  \n",
       "active         0.084066  0.029771  1.000000      -0.046799  \n",
       "CardioDisease  0.031832  0.051366 -0.046799       1.000000  "
      ]
     },
     "execution_count": 35,
     "metadata": {},
     "output_type": "execute_result"
    }
   ],
   "source": [
    "## corr matrix\n",
    "\n",
    "df.corr()"
   ]
  },
  {
   "cell_type": "code",
   "execution_count": 36,
   "metadata": {
    "colab": {
     "base_uri": "https://localhost:8080/",
     "height": 767
    },
    "id": "DHnvFeqBCfze",
    "outputId": "58ee6ba7-35b0-4623-a941-487021f2d3ed"
   },
   "outputs": [
    {
     "data": {
      "image/png": "[encoded data removed]",
      "text/plain": [
       "<Figure size 1000x800 with 2 Axes>"
      ]
     },
     "metadata": {},
     "output_type": "display_data"
    }
   ],
   "source": [
    "# PLotting a heatmap for better view\n",
    "\n",
    "corr_matrix = df.corr()\n",
    "fig, ax = plt.subplots(figsize=(10, 8))\n",
    "ax = sns.heatmap(corr_matrix, annot=True, linewidths=0.7, fmt=\".2f\", cmap=\"Blues\");"
   ]
  },
  {
   "cell_type": "markdown",
   "metadata": {},
   "source": [
    "Let's find the distribution of DiaBP and age against CardioDisease"
   ]
  },
  {
   "cell_type": "code",
   "execution_count": 37,
   "metadata": {
    "colab": {
     "base_uri": "https://localhost:8080/",
     "height": 564
    },
    "id": "39R2d7DUaDJl",
    "outputId": "d5fb2a6f-977b-44f8-8e90-10d5a2d710ff"
   },
   "outputs": [
    {
     "data": {
      "image/png": "[encoded data removed]",
      "text/plain": [
       "<Figure size 800x600 with 1 Axes>"
      ]
     },
     "metadata": {},
     "output_type": "display_data"
    }
   ],
   "source": [
    "# Distribution of  DiaBP and age aganst CardioDisease\n",
    "plt.figure(figsize=(8, 6))\n",
    "\n",
    "plt.scatter(df['age'][df['CardioDisease']==0], df['diaBP'][df['CardioDisease']==0], c='lightblue')\n",
    "plt.scatter(df['age'][df['CardioDisease']==1], df['diaBP'][df['CardioDisease']==1], c='salmon')\n",
    "\n",
    "plt.title(\"Age Vs. DiaBP\")\n",
    "plt.xlabel(\"Age\")\n",
    "plt.ylabel(\"Max DiaBloodPressure\")\n",
    "plt.legend(['No-Disease', 'Cardio-Disease'])\n",
    "\n",
    "plt.show();"
   ]
  },
  {
   "cell_type": "markdown",
   "metadata": {
    "id": "_ncqN3f7k9T3"
   },
   "source": [
    "### Train Test Split"
   ]
  },
  {
   "cell_type": "code",
   "execution_count": 38,
   "metadata": {
    "id": "PQBw2fAAx92m"
   },
   "outputs": [],
   "source": [
    "# Split the data into features and labels\n",
    "X = df.drop(\"CardioDisease\", axis=1)\n",
    "y = df['CardioDisease']"
   ]
  },
  {
   "cell_type": "code",
   "execution_count": 39,
   "metadata": {
    "colab": {
     "base_uri": "https://localhost:8080/",
     "height": 423
    },
    "id": "rEntXuvA1zmR",
    "outputId": "56ed94be-7ff0-467d-9d96-82d15df0b060"
   },
   "outputs": [
    {
     "data": {
      "text/html": [
       "<div>\n",
       "<style scoped>\n",
       "    .dataframe tbody tr th:only-of-type {\n",
       "        vertical-align: middle;\n",
       "    }\n",
       "\n",
       "    .dataframe tbody tr th {\n",
       "        vertical-align: top;\n",
       "    }\n",
       "\n",
       "    .dataframe thead th {\n",
       "        text-align: right;\n",
       "    }\n",
       "</style>\n",
       "<table border=\"1\" class=\"dataframe\">\n",
       "  <thead>\n",
       "    <tr style=\"text-align: right;\">\n",
       "      <th></th>\n",
       "      <th>gender</th>\n",
       "      <th>age</th>\n",
       "      <th>smoke</th>\n",
       "      <th>sysBP</th>\n",
       "      <th>diaBP</th>\n",
       "      <th>BMI</th>\n",
       "      <th>Chol</th>\n",
       "      <th>glucose</th>\n",
       "      <th>active</th>\n",
       "    </tr>\n",
       "  </thead>\n",
       "  <tbody>\n",
       "    <tr>\n",
       "      <th>0</th>\n",
       "      <td>2</td>\n",
       "      <td>50</td>\n",
       "      <td>0</td>\n",
       "      <td>110.0</td>\n",
       "      <td>80.0</td>\n",
       "      <td>66.115702</td>\n",
       "      <td>1</td>\n",
       "      <td>1</td>\n",
       "      <td>1</td>\n",
       "    </tr>\n",
       "    <tr>\n",
       "      <th>1</th>\n",
       "      <td>1</td>\n",
       "      <td>55</td>\n",
       "      <td>0</td>\n",
       "      <td>140.0</td>\n",
       "      <td>90.0</td>\n",
       "      <td>45.918367</td>\n",
       "      <td>3</td>\n",
       "      <td>1</td>\n",
       "      <td>1</td>\n",
       "    </tr>\n",
       "    <tr>\n",
       "      <th>2</th>\n",
       "      <td>1</td>\n",
       "      <td>51</td>\n",
       "      <td>0</td>\n",
       "      <td>130.0</td>\n",
       "      <td>70.0</td>\n",
       "      <td>41.420118</td>\n",
       "      <td>3</td>\n",
       "      <td>1</td>\n",
       "      <td>0</td>\n",
       "    </tr>\n",
       "    <tr>\n",
       "      <th>3</th>\n",
       "      <td>2</td>\n",
       "      <td>48</td>\n",
       "      <td>0</td>\n",
       "      <td>150.0</td>\n",
       "      <td>100.0</td>\n",
       "      <td>44.444444</td>\n",
       "      <td>1</td>\n",
       "      <td>1</td>\n",
       "      <td>1</td>\n",
       "    </tr>\n",
       "    <tr>\n",
       "      <th>4</th>\n",
       "      <td>1</td>\n",
       "      <td>47</td>\n",
       "      <td>0</td>\n",
       "      <td>100.0</td>\n",
       "      <td>60.0</td>\n",
       "      <td>60.000000</td>\n",
       "      <td>1</td>\n",
       "      <td>1</td>\n",
       "      <td>0</td>\n",
       "    </tr>\n",
       "  </tbody>\n",
       "</table>\n",
       "</div>"
      ],
      "text/plain": [
       "   gender  age  smoke   sysBP  diaBP        BMI  Chol  glucose  active \n",
       "0       2   50       0  110.0   80.0  66.115702     1        1        1\n",
       "1       1   55       0  140.0   90.0  45.918367     3        1        1\n",
       "2       1   51       0  130.0   70.0  41.420118     3        1        0\n",
       "3       2   48       0  150.0  100.0  44.444444     1        1        1\n",
       "4       1   47       0  100.0   60.0  60.000000     1        1        0"
      ]
     },
     "execution_count": 39,
     "metadata": {},
     "output_type": "execute_result"
    }
   ],
   "source": [
    "X.head()"
   ]
  },
  {
   "cell_type": "code",
   "execution_count": 40,
   "metadata": {
    "colab": {
     "base_uri": "https://localhost:8080/"
    },
    "id": "Ipnhvk2g10L4",
    "outputId": "87aba361-1cce-490e-93c0-2fc3e87b90f3"
   },
   "outputs": [
    {
     "data": {
      "text/plain": [
       "0    0\n",
       "1    1\n",
       "2    1\n",
       "3    1\n",
       "4    0\n",
       "Name: CardioDisease, dtype: int64"
      ]
     },
     "execution_count": 40,
     "metadata": {},
     "output_type": "execute_result"
    }
   ],
   "source": [
    "y.head()"
   ]
  },
  {
   "cell_type": "code",
   "execution_count": 41,
   "metadata": {
    "id": "FQbHdlrP10qP"
   },
   "outputs": [],
   "source": [
    "# Setting some random seed\n",
    "np.random.seed(42)"
   ]
  },
  {
   "cell_type": "code",
   "execution_count": 42,
   "metadata": {
    "id": "LQUYuwz51-aA"
   },
   "outputs": [],
   "source": [
    "# Split the data into training and test set\n",
    "X_train, X_test, y_train, y_test = train_test_split(X, y, test_size=0.3)"
   ]
  },
  {
   "cell_type": "markdown",
   "metadata": {
    "id": "k-n0jycr2A0B"
   },
   "source": [
    "Note: size of the test data is 30 percent of the total dataset\n"
   ]
  },
  {
   "cell_type": "markdown",
   "metadata": {
    "id": "EwifQZIxkIfK"
   },
   "source": [
    "### Data Transformation"
   ]
  },
  {
   "cell_type": "code",
   "execution_count": 43,
   "metadata": {
    "id": "OcYhBv_VEw0h"
   },
   "outputs": [],
   "source": [
    "# performing Data Transformation by scaling dataset\n",
    "\n",
    "scalar = StandardScaler()\n",
    "X_scaled = scalar.fit_transform(X_train)\n",
    "\n",
    "# Just in-case if we need scaled test dataset\n",
    "X_scaled_test = scalar.fit_transform(X_test)"
   ]
  },
  {
   "cell_type": "code",
   "execution_count": 44,
   "metadata": {
    "colab": {
     "base_uri": "https://localhost:8080/"
    },
    "id": "UUInkKktKvHC",
    "outputId": "dee66386-70e9-45ac-8ab3-63f0872a7a6b"
   },
   "outputs": [
    {
     "data": {
      "text/plain": [
       "array([[-0.88290578,  0.61958188, -0.54022002, ..., -0.93089689,\n",
       "        -0.60512142, -1.6871786 ],\n",
       "       [-0.88290578, -0.60751799, -0.54022002, ..., -0.93089689,\n",
       "        -0.60512142,  0.59270548],\n",
       "       [ 1.13262369, -1.56192899, -0.54022002, ..., -0.93089689,\n",
       "        -0.60512142,  0.59270548],\n",
       "       ...,\n",
       "       [-0.88290578, -0.33482913, -0.54022002, ...,  0.28872584,\n",
       "        -0.60512142, -1.6871786 ],\n",
       "       [-0.88290578, -1.1528957 , -0.54022002, ...,  1.50834858,\n",
       "        -0.60512142,  0.59270548],\n",
       "       [ 1.13262369, -0.47117356,  1.85109765, ..., -0.93089689,\n",
       "        -0.60512142,  0.59270548]])"
      ]
     },
     "execution_count": 44,
     "metadata": {},
     "output_type": "execute_result"
    }
   ],
   "source": [
    "X_scaled"
   ]
  },
  {
   "cell_type": "markdown",
   "metadata": {
    "id": "qqyxC0FTJ9A1"
   },
   "source": [
    "## **Part 2: Supervised Learning (Regression)**"
   ]
  },
  {
   "cell_type": "markdown",
   "metadata": {
    "id": "jKAGhujMPydI"
   },
   "source": [
    "### Support Vector Regressor"
   ]
  },
  {
   "cell_type": "code",
   "execution_count": 45,
   "metadata": {
    "colab": {
     "base_uri": "https://localhost:8080/",
     "height": 75
    },
    "id": "WDnbCksJP1HG",
    "outputId": "aa38a957-d257-4118-cc82-0b0c4573b319"
   },
   "outputs": [
    {
     "data": {
      "text/html": [
       "<style>#sk-container-id-1 {color: black;background-color: white;}#sk-container-id-1 pre{padding: 0;}#sk-container-id-1 div.sk-toggleable {background-color: white;}#sk-container-id-1 label.sk-toggleable__label {cursor: pointer;display: block;width: 100%;margin-bottom: 0;padding: 0.3em;box-sizing: border-box;text-align: center;}#sk-container-id-1 label.sk-toggleable__label-arrow:before {content: \"▸\";float: left;margin-right: 0.25em;color: #696969;}#sk-container-id-1 label.sk-toggleable__label-arrow:hover:before {color: black;}#sk-container-id-1 div.sk-estimator:hover label.sk-toggleable__label-arrow:before {color: black;}#sk-container-id-1 div.sk-toggleable__content {max-height: 0;max-width: 0;overflow: hidden;text-align: left;background-color: #f0f8ff;}#sk-container-id-1 div.sk-toggleable__content pre {margin: 0.2em;color: black;border-radius: 0.25em;background-color: #f0f8ff;}#sk-container-id-1 input.sk-toggleable__control:checked~div.sk-toggleable__content {max-height: 200px;max-width: 100%;overflow: auto;}#sk-container-id-1 input.sk-toggleable__control:checked~label.sk-toggleable__label-arrow:before {content: \"▾\";}#sk-container-id-1 div.sk-estimator input.sk-toggleable__control:checked~label.sk-toggleable__label {background-color: #d4ebff;}#sk-container-id-1 div.sk-label input.sk-toggleable__control:checked~label.sk-toggleable__label {background-color: #d4ebff;}#sk-container-id-1 input.sk-hidden--visually {border: 0;clip: rect(1px 1px 1px 1px);clip: rect(1px, 1px, 1px, 1px);height: 1px;margin: -1px;overflow: hidden;padding: 0;position: absolute;width: 1px;}#sk-container-id-1 div.sk-estimator {font-family: monospace;background-color: #f0f8ff;border: 1px dotted black;border-radius: 0.25em;box-sizing: border-box;margin-bottom: 0.5em;}#sk-container-id-1 div.sk-estimator:hover {background-color: #d4ebff;}#sk-container-id-1 div.sk-parallel-item::after {content: \"\";width: 100%;border-bottom: 1px solid gray;flex-grow: 1;}#sk-container-id-1 div.sk-label:hover label.sk-toggleable__label {background-color: #d4ebff;}#sk-container-id-1 div.sk-serial::before {content: \"\";position: absolute;border-left: 1px solid gray;box-sizing: border-box;top: 0;bottom: 0;left: 50%;z-index: 0;}#sk-container-id-1 div.sk-serial {display: flex;flex-direction: column;align-items: center;background-color: white;padding-right: 0.2em;padding-left: 0.2em;position: relative;}#sk-container-id-1 div.sk-item {position: relative;z-index: 1;}#sk-container-id-1 div.sk-parallel {display: flex;align-items: stretch;justify-content: center;background-color: white;position: relative;}#sk-container-id-1 div.sk-item::before, #sk-container-id-1 div.sk-parallel-item::before {content: \"\";position: absolute;border-left: 1px solid gray;box-sizing: border-box;top: 0;bottom: 0;left: 50%;z-index: -1;}#sk-container-id-1 div.sk-parallel-item {display: flex;flex-direction: column;z-index: 1;position: relative;background-color: white;}#sk-container-id-1 div.sk-parallel-item:first-child::after {align-self: flex-end;width: 50%;}#sk-container-id-1 div.sk-parallel-item:last-child::after {align-self: flex-start;width: 50%;}#sk-container-id-1 div.sk-parallel-item:only-child::after {width: 0;}#sk-container-id-1 div.sk-dashed-wrapped {border: 1px dashed gray;margin: 0 0.4em 0.5em 0.4em;box-sizing: border-box;padding-bottom: 0.4em;background-color: white;}#sk-container-id-1 div.sk-label label {font-family: monospace;font-weight: bold;display: inline-block;line-height: 1.2em;}#sk-container-id-1 div.sk-label-container {text-align: center;}#sk-container-id-1 div.sk-container {/* jupyter's `normalize.less` sets `[hidden] { display: none; }` but bootstrap.min.css set `[hidden] { display: none !important; }` so we also need the `!important` here to be able to override the default hidden behavior on the sphinx rendered scikit-learn.org. See: https://github.com/scikit-learn/scikit-learn/issues/21755 */display: inline-block !important;position: relative;}#sk-container-id-1 div.sk-text-repr-fallback {display: none;}</style><div id=\"sk-container-id-1\" class=\"sk-top-container\"><div class=\"sk-text-repr-fallback\"><pre>SVR(epsilon=0.2, kernel=&#x27;sigmoid&#x27;)</pre><b>In a Jupyter environment, please rerun this cell to show the HTML representation or trust the notebook. <br />On GitHub, the HTML representation is unable to render, please try loading this page with nbviewer.org.</b></div><div class=\"sk-container\" hidden><div class=\"sk-item\"><div class=\"sk-estimator sk-toggleable\"><input class=\"sk-toggleable__control sk-hidden--visually\" id=\"sk-estimator-id-1\" type=\"checkbox\" checked><label for=\"sk-estimator-id-1\" class=\"sk-toggleable__label sk-toggleable__label-arrow\">SVR</label><div class=\"sk-toggleable__content\"><pre>SVR(epsilon=0.2, kernel=&#x27;sigmoid&#x27;)</pre></div></div></div></div></div>"
      ],
      "text/plain": [
       "SVR(epsilon=0.2, kernel='sigmoid')"
      ]
     },
     "execution_count": 45,
     "metadata": {},
     "output_type": "execute_result"
    }
   ],
   "source": [
    "SVR_model = SVR(kernel='sigmoid',\n",
    "                C=1.0,\n",
    "                epsilon=0.2)\n",
    "\n",
    "SVR_model.fit(X_train, y_train)"
   ]
  },
  {
   "cell_type": "code",
   "execution_count": 46,
   "metadata": {
    "id": "Gu9jOTKPQC3Y"
   },
   "outputs": [],
   "source": [
    "# Making predictions with SVR\n",
    "svr_predictions = SVR_model.predict(X_test)"
   ]
  },
  {
   "cell_type": "code",
   "execution_count": 47,
   "metadata": {},
   "outputs": [
    {
     "data": {
      "text/plain": [
       "array([68.21895356,  6.56381055,  0.68313985,  6.30760761,  4.85395129,\n",
       "        1.22146769,  1.29889703, 12.53308541,  1.24433136,  4.68738509])"
      ]
     },
     "execution_count": 47,
     "metadata": {},
     "output_type": "execute_result"
    }
   ],
   "source": [
    "svr_predictions[:10]"
   ]
  },
  {
   "cell_type": "code",
   "execution_count": 48,
   "metadata": {
    "colab": {
     "base_uri": "https://localhost:8080/"
    },
    "id": "gP_1okCrlgZa",
    "outputId": "48777110-3d51-4d08-a707-fdbb8b025fe9"
   },
   "outputs": [
    {
     "name": "stdout",
     "output_type": "stream",
     "text": [
      "Accuracy with threshold : 47.0%\n"
     ]
    }
   ],
   "source": [
    "# setting a threshold\n",
    "threshold = 0.5\n",
    "svr_predictions_binary = (svr_predictions >= threshold).astype(int)\n",
    "\n",
    "accuracy = accuracy_score(y_test, svr_predictions_binary)\n",
    "print(f\"Accuracy with threshold : {round(accuracy,2) * 100}%\")"
   ]
  },
  {
   "cell_type": "code",
   "execution_count": 49,
   "metadata": {
    "colab": {
     "base_uri": "https://localhost:8080/",
     "height": 206
    },
    "id": "8i5q53cgY0Sq",
    "outputId": "c2e9fa2b-0fb0-4b52-e152-6819de8cd833"
   },
   "outputs": [
    {
     "data": {
      "text/html": [
       "<div>\n",
       "<style scoped>\n",
       "    .dataframe tbody tr th:only-of-type {\n",
       "        vertical-align: middle;\n",
       "    }\n",
       "\n",
       "    .dataframe tbody tr th {\n",
       "        vertical-align: top;\n",
       "    }\n",
       "\n",
       "    .dataframe thead th {\n",
       "        text-align: right;\n",
       "    }\n",
       "</style>\n",
       "<table border=\"1\" class=\"dataframe\">\n",
       "  <thead>\n",
       "    <tr style=\"text-align: right;\">\n",
       "      <th></th>\n",
       "      <th>Actual</th>\n",
       "      <th>SVR_Predictions</th>\n",
       "    </tr>\n",
       "  </thead>\n",
       "  <tbody>\n",
       "    <tr>\n",
       "      <th>49043</th>\n",
       "      <td>1</td>\n",
       "      <td>1</td>\n",
       "    </tr>\n",
       "    <tr>\n",
       "      <th>15137</th>\n",
       "      <td>0</td>\n",
       "      <td>1</td>\n",
       "    </tr>\n",
       "    <tr>\n",
       "      <th>37257</th>\n",
       "      <td>1</td>\n",
       "      <td>1</td>\n",
       "    </tr>\n",
       "    <tr>\n",
       "      <th>34858</th>\n",
       "      <td>1</td>\n",
       "      <td>1</td>\n",
       "    </tr>\n",
       "    <tr>\n",
       "      <th>14103</th>\n",
       "      <td>1</td>\n",
       "      <td>1</td>\n",
       "    </tr>\n",
       "  </tbody>\n",
       "</table>\n",
       "</div>"
      ],
      "text/plain": [
       "       Actual  SVR_Predictions\n",
       "49043       1                1\n",
       "15137       0                1\n",
       "37257       1                1\n",
       "34858       1                1\n",
       "14103       1                1"
      ]
     },
     "execution_count": 49,
     "metadata": {},
     "output_type": "execute_result"
    }
   ],
   "source": [
    "df_predictions = pd.DataFrame({'Actual': y_test, 'SVR_Predictions': svr_predictions_binary})\n",
    "df_predictions.head()"
   ]
  },
  {
   "cell_type": "markdown",
   "metadata": {
    "id": "D5aZUE6WolUj"
   },
   "source": [
    "### Random Forest Regressor"
   ]
  },
  {
   "cell_type": "code",
   "execution_count": 50,
   "metadata": {
    "colab": {
     "base_uri": "https://localhost:8080/",
     "height": 75
    },
    "id": "AsLtrgKZopOJ",
    "outputId": "d2217e1b-735e-444e-8f2a-8bf7940493d2"
   },
   "outputs": [
    {
     "data": {
      "text/html": [
       "<style>#sk-container-id-2 {color: black;background-color: white;}#sk-container-id-2 pre{padding: 0;}#sk-container-id-2 div.sk-toggleable {background-color: white;}#sk-container-id-2 label.sk-toggleable__label {cursor: pointer;display: block;width: 100%;margin-bottom: 0;padding: 0.3em;box-sizing: border-box;text-align: center;}#sk-container-id-2 label.sk-toggleable__label-arrow:before {content: \"▸\";float: left;margin-right: 0.25em;color: #696969;}#sk-container-id-2 label.sk-toggleable__label-arrow:hover:before {color: black;}#sk-container-id-2 div.sk-estimator:hover label.sk-toggleable__label-arrow:before {color: black;}#sk-container-id-2 div.sk-toggleable__content {max-height: 0;max-width: 0;overflow: hidden;text-align: left;background-color: #f0f8ff;}#sk-container-id-2 div.sk-toggleable__content pre {margin: 0.2em;color: black;border-radius: 0.25em;background-color: #f0f8ff;}#sk-container-id-2 input.sk-toggleable__control:checked~div.sk-toggleable__content {max-height: 200px;max-width: 100%;overflow: auto;}#sk-container-id-2 input.sk-toggleable__control:checked~label.sk-toggleable__label-arrow:before {content: \"▾\";}#sk-container-id-2 div.sk-estimator input.sk-toggleable__control:checked~label.sk-toggleable__label {background-color: #d4ebff;}#sk-container-id-2 div.sk-label input.sk-toggleable__control:checked~label.sk-toggleable__label {background-color: #d4ebff;}#sk-container-id-2 input.sk-hidden--visually {border: 0;clip: rect(1px 1px 1px 1px);clip: rect(1px, 1px, 1px, 1px);height: 1px;margin: -1px;overflow: hidden;padding: 0;position: absolute;width: 1px;}#sk-container-id-2 div.sk-estimator {font-family: monospace;background-color: #f0f8ff;border: 1px dotted black;border-radius: 0.25em;box-sizing: border-box;margin-bottom: 0.5em;}#sk-container-id-2 div.sk-estimator:hover {background-color: #d4ebff;}#sk-container-id-2 div.sk-parallel-item::after {content: \"\";width: 100%;border-bottom: 1px solid gray;flex-grow: 1;}#sk-container-id-2 div.sk-label:hover label.sk-toggleable__label {background-color: #d4ebff;}#sk-container-id-2 div.sk-serial::before {content: \"\";position: absolute;border-left: 1px solid gray;box-sizing: border-box;top: 0;bottom: 0;left: 50%;z-index: 0;}#sk-container-id-2 div.sk-serial {display: flex;flex-direction: column;align-items: center;background-color: white;padding-right: 0.2em;padding-left: 0.2em;position: relative;}#sk-container-id-2 div.sk-item {position: relative;z-index: 1;}#sk-container-id-2 div.sk-parallel {display: flex;align-items: stretch;justify-content: center;background-color: white;position: relative;}#sk-container-id-2 div.sk-item::before, #sk-container-id-2 div.sk-parallel-item::before {content: \"\";position: absolute;border-left: 1px solid gray;box-sizing: border-box;top: 0;bottom: 0;left: 50%;z-index: -1;}#sk-container-id-2 div.sk-parallel-item {display: flex;flex-direction: column;z-index: 1;position: relative;background-color: white;}#sk-container-id-2 div.sk-parallel-item:first-child::after {align-self: flex-end;width: 50%;}#sk-container-id-2 div.sk-parallel-item:last-child::after {align-self: flex-start;width: 50%;}#sk-container-id-2 div.sk-parallel-item:only-child::after {width: 0;}#sk-container-id-2 div.sk-dashed-wrapped {border: 1px dashed gray;margin: 0 0.4em 0.5em 0.4em;box-sizing: border-box;padding-bottom: 0.4em;background-color: white;}#sk-container-id-2 div.sk-label label {font-family: monospace;font-weight: bold;display: inline-block;line-height: 1.2em;}#sk-container-id-2 div.sk-label-container {text-align: center;}#sk-container-id-2 div.sk-container {/* jupyter's `normalize.less` sets `[hidden] { display: none; }` but bootstrap.min.css set `[hidden] { display: none !important; }` so we also need the `!important` here to be able to override the default hidden behavior on the sphinx rendered scikit-learn.org. See: https://github.com/scikit-learn/scikit-learn/issues/21755 */display: inline-block !important;position: relative;}#sk-container-id-2 div.sk-text-repr-fallback {display: none;}</style><div id=\"sk-container-id-2\" class=\"sk-top-container\"><div class=\"sk-text-repr-fallback\"><pre>RandomForestRegressor(max_depth=10, n_estimators=300, random_state=0)</pre><b>In a Jupyter environment, please rerun this cell to show the HTML representation or trust the notebook. <br />On GitHub, the HTML representation is unable to render, please try loading this page with nbviewer.org.</b></div><div class=\"sk-container\" hidden><div class=\"sk-item\"><div class=\"sk-estimator sk-toggleable\"><input class=\"sk-toggleable__control sk-hidden--visually\" id=\"sk-estimator-id-2\" type=\"checkbox\" checked><label for=\"sk-estimator-id-2\" class=\"sk-toggleable__label sk-toggleable__label-arrow\">RandomForestRegressor</label><div class=\"sk-toggleable__content\"><pre>RandomForestRegressor(max_depth=10, n_estimators=300, random_state=0)</pre></div></div></div></div></div>"
      ],
      "text/plain": [
       "RandomForestRegressor(max_depth=10, n_estimators=300, random_state=0)"
      ]
     },
     "execution_count": 50,
     "metadata": {},
     "output_type": "execute_result"
    }
   ],
   "source": [
    "RFR_model = RandomForestRegressor(n_estimators=300,\n",
    "                                  max_depth=10,\n",
    "                                  criterion=\"squared_error\",\n",
    "                                  random_state=0)\n",
    "\n",
    "RFR_model.fit(X_train, y_train)"
   ]
  },
  {
   "cell_type": "code",
   "execution_count": 51,
   "metadata": {
    "id": "h4yqKrS6p-sL"
   },
   "outputs": [],
   "source": [
    "RFR_predictions = RFR_model.predict(X_test)"
   ]
  },
  {
   "cell_type": "code",
   "execution_count": 52,
   "metadata": {
    "colab": {
     "base_uri": "https://localhost:8080/"
    },
    "id": "ZYae_juQZY2Q",
    "outputId": "572e485b-b14c-46aa-a691-002bd952ee13"
   },
   "outputs": [
    {
     "name": "stdout",
     "output_type": "stream",
     "text": [
      "RFR accuracy with threshold : 70.0%\n"
     ]
    }
   ],
   "source": [
    "threshold = 0.5\n",
    "RFR_predictions_binary = (RFR_predictions >= threshold).astype(int)\n",
    "\n",
    "RFR_accuracy = accuracy_score(y_test, RFR_predictions_binary)\n",
    "print(f\"RFR accuracy with threshold : {round(RFR_accuracy,2) * 100}%\")"
   ]
  },
  {
   "cell_type": "code",
   "execution_count": 53,
   "metadata": {
    "colab": {
     "base_uri": "https://localhost:8080/",
     "height": 206
    },
    "id": "y6jFZiPlY-1V",
    "outputId": "fbfff961-5e59-4a48-926f-79821d13f511"
   },
   "outputs": [
    {
     "data": {
      "text/html": [
       "<div>\n",
       "<style scoped>\n",
       "    .dataframe tbody tr th:only-of-type {\n",
       "        vertical-align: middle;\n",
       "    }\n",
       "\n",
       "    .dataframe tbody tr th {\n",
       "        vertical-align: top;\n",
       "    }\n",
       "\n",
       "    .dataframe thead th {\n",
       "        text-align: right;\n",
       "    }\n",
       "</style>\n",
       "<table border=\"1\" class=\"dataframe\">\n",
       "  <thead>\n",
       "    <tr style=\"text-align: right;\">\n",
       "      <th></th>\n",
       "      <th>Actual</th>\n",
       "      <th>RFR_Predictions</th>\n",
       "    </tr>\n",
       "  </thead>\n",
       "  <tbody>\n",
       "    <tr>\n",
       "      <th>49043</th>\n",
       "      <td>1</td>\n",
       "      <td>1</td>\n",
       "    </tr>\n",
       "    <tr>\n",
       "      <th>15137</th>\n",
       "      <td>0</td>\n",
       "      <td>0</td>\n",
       "    </tr>\n",
       "    <tr>\n",
       "      <th>37257</th>\n",
       "      <td>1</td>\n",
       "      <td>1</td>\n",
       "    </tr>\n",
       "    <tr>\n",
       "      <th>34858</th>\n",
       "      <td>1</td>\n",
       "      <td>1</td>\n",
       "    </tr>\n",
       "    <tr>\n",
       "      <th>14103</th>\n",
       "      <td>1</td>\n",
       "      <td>0</td>\n",
       "    </tr>\n",
       "  </tbody>\n",
       "</table>\n",
       "</div>"
      ],
      "text/plain": [
       "       Actual  RFR_Predictions\n",
       "49043       1                1\n",
       "15137       0                0\n",
       "37257       1                1\n",
       "34858       1                1\n",
       "14103       1                0"
      ]
     },
     "execution_count": 53,
     "metadata": {},
     "output_type": "execute_result"
    }
   ],
   "source": [
    "df_RFR_predictions = pd.DataFrame({'Actual': y_test, 'RFR_Predictions': RFR_predictions_binary})\n",
    "df_RFR_predictions.head()"
   ]
  },
  {
   "cell_type": "markdown",
   "metadata": {
    "id": "zkZwuD_NMc4N"
   },
   "source": [
    "### Evaluation of Regression models"
   ]
  },
  {
   "cell_type": "code",
   "execution_count": 54,
   "metadata": {
    "id": "Q8jRGmzVMllA"
   },
   "outputs": [],
   "source": [
    "# SVR evaluation\n",
    "SVR_MAE = mean_absolute_error(y_true=y_test, y_pred=svr_predictions)\n",
    "SVR_MSE = mean_squared_error(y_true=y_test, y_pred=svr_predictions)\n",
    "SVR_RMSE = np.sqrt(SVR_MSE)"
   ]
  },
  {
   "cell_type": "code",
   "execution_count": 55,
   "metadata": {
    "colab": {
     "base_uri": "https://localhost:8080/"
    },
    "id": "zLCLQt78NTa7",
    "outputId": "4f79d852-d5b8-46b9-aeb1-4a1c30178b0a"
   },
   "outputs": [
    {
     "name": "stdout",
     "output_type": "stream",
     "text": [
      "Support Vector Regressor Evaluation\n",
      "\n",
      "Mean Absolute Error:  19.888493888048263\n",
      "Mean Squared Error:  9399.939280049712\n",
      "Root Mean Squared Error:  96.95328400858689\n"
     ]
    }
   ],
   "source": [
    "print(\"Support Vector Regressor Evaluation\\n\")\n",
    "\n",
    "print(\"Mean Absolute Error: \", SVR_MAE)\n",
    "print(\"Mean Squared Error: \", SVR_MSE)\n",
    "print(\"Root Mean Squared Error: \", SVR_RMSE)"
   ]
  },
  {
   "cell_type": "code",
   "execution_count": 56,
   "metadata": {
    "id": "YPNnpTecqYvh"
   },
   "outputs": [],
   "source": [
    "# RFR evaluation\n",
    "\n",
    "RFR_MAE = mean_absolute_error(y_test, RFR_predictions)\n",
    "RFR_MSE = mean_squared_error(y_test, RFR_predictions)\n",
    "RFR_RMSE = np.sqrt(RFR_MSE)"
   ]
  },
  {
   "cell_type": "code",
   "execution_count": 57,
   "metadata": {
    "colab": {
     "base_uri": "https://localhost:8080/"
    },
    "id": "MJG7oJQSqj5K",
    "outputId": "ccb24820-2514-4d58-b88a-73851e85e16e"
   },
   "outputs": [
    {
     "name": "stdout",
     "output_type": "stream",
     "text": [
      "Random Forest Regressor Evaluation\n",
      "\n",
      "Mean Absolute Error :  0.38418252340669057\n",
      "Mean Squared Error :  0.1958028388512741\n",
      "Root Mean Squared Error :  0.4424961455778729\n"
     ]
    }
   ],
   "source": [
    "print(\"Random Forest Regressor Evaluation\\n\")\n",
    "\n",
    "print(\"Mean Absolute Error : \", RFR_MAE)\n",
    "print(\"Mean Squared Error : \", RFR_MSE)\n",
    "print(\"Root Mean Squared Error : \", RFR_RMSE)"
   ]
  },
  {
   "cell_type": "code",
   "execution_count": 58,
   "metadata": {
    "colab": {
     "base_uri": "https://localhost:8080/",
     "height": 472
    },
    "id": "-qls_9U-yDU0",
    "outputId": "b1cf8979-8c20-42ca-9583-7974164fb601"
   },
   "outputs": [
    {
     "data": {
      "image/png": "[encoded data removed]",
      "text/plain": [
       "<Figure size 640x480 with 1 Axes>"
      ]
     },
     "metadata": {},
     "output_type": "display_data"
    }
   ],
   "source": [
    "# visulaizing errors\n",
    "\n",
    "svr_values = [SVR_MAE, SVR_MRegressionSE, SVR_RMSE]\n",
    "rfr_values = [RFR_MAE, RFR_MSE, RFR_RMSE]\n",
    "\n",
    "positions = np.arange(len(svr_values))\n",
    "width = 0.35\n",
    "\n",
    "fig, ax = plt.subplots()\n",
    "\n",
    "svr_bars = ax.bar(positions - width/2, svr_values, width, label='SVR', color='lightblue')\n",
    "rfr_bars = ax.bar(positions + width/2, rfr_values, width, label='RFR', color='salmon')\n",
    "\n",
    "ax.set_xticks(positions)\n",
    "ax.set_xticklabels(['MAE', 'MSE', 'RMSE'])\n",
    "ax.set_xlabel('Error Metrics')\n",
    "ax.set_ylabel('Error Values')\n",
    "ax.set_title('Comparison of Error Metrics between SVR and RFR')\n",
    "\n",
    "for bars in [svr_bars, rfr_bars]:\n",
    "    for bar in bars:\n",
    "        yval = bar.get_height()\n",
    "        ax.text(bar.get_x() + bar.get_width()/2, yval + 0.01, round(yval, 3), ha='center', va='bottom')\n",
    "\n",
    "ax.legend();"
   ]
  },
  {
   "cell_type": "markdown",
   "metadata": {
    "id": "48Su3mb6uI71"
   },
   "source": [
    "**Analysis:** The evaluation insights suggest that the Random Forest Regressor outperforms the Support Vector Regressor across all three metrics, indicating a higher degree of accuracy and precision in predicting cardiovascular disease. The lower values for MAE, MSE, and RMSE in the Random Forest model signify that it has a closer fit to the actual values, thereby making it the preferred regression model for our dataset."
   ]
  },
  {
   "cell_type": "markdown",
   "metadata": {},
   "source": [
    "## **Part 3: Unsupervised Learning (Clustering)**"
   ]
  },
  {
   "cell_type": "markdown",
   "metadata": {},
   "source": [
    "To incorporate the clustering algorithm, we will be performing some set of operations on our data and then solve the problem of unsupervised learning on our data"
   ]
  },
  {
   "cell_type": "markdown",
   "metadata": {},
   "source": [
    "### Finding and Selecting two most important Attributes"
   ]
  },
  {
   "cell_type": "markdown",
   "metadata": {},
   "source": [
    "let's create a correlation matrix of the data again to see the dependencies of the features on each other. It will help us finding the most important attributes for target value prediction"
   ]
  },
  {
   "cell_type": "code",
   "execution_count": 59,
   "metadata": {},
   "outputs": [],
   "source": [
    "data_correlation = df.corr()"
   ]
  },
  {
   "cell_type": "code",
   "execution_count": 60,
   "metadata": {},
   "outputs": [
    {
     "data": {
      "text/html": [
       "<div>\n",
       "<style scoped>\n",
       "    .dataframe tbody tr th:only-of-type {\n",
       "        vertical-align: middle;\n",
       "    }\n",
       "\n",
       "    .dataframe tbody tr th {\n",
       "        vertical-align: top;\n",
       "    }\n",
       "\n",
       "    .dataframe thead th {\n",
       "        text-align: right;\n",
       "    }\n",
       "</style>\n",
       "<table border=\"1\" class=\"dataframe\">\n",
       "  <thead>\n",
       "    <tr style=\"text-align: right;\">\n",
       "      <th></th>\n",
       "      <th>gender</th>\n",
       "      <th>age</th>\n",
       "      <th>smoke</th>\n",
       "      <th>sysBP</th>\n",
       "      <th>diaBP</th>\n",
       "      <th>BMI</th>\n",
       "      <th>Chol</th>\n",
       "      <th>glucose</th>\n",
       "      <th>active</th>\n",
       "      <th>CardioDisease</th>\n",
       "    </tr>\n",
       "  </thead>\n",
       "  <tbody>\n",
       "    <tr>\n",
       "      <th>gender</th>\n",
       "      <td>1.000000</td>\n",
       "      <td>-0.019478</td>\n",
       "      <td>0.284164</td>\n",
       "      <td>-0.003216</td>\n",
       "      <td>0.001950</td>\n",
       "      <td>0.003822</td>\n",
       "      <td>-0.052293</td>\n",
       "      <td>-0.053967</td>\n",
       "      <td>0.032348</td>\n",
       "      <td>0.021106</td>\n",
       "    </tr>\n",
       "    <tr>\n",
       "      <th>age</th>\n",
       "      <td>-0.019478</td>\n",
       "      <td>1.000000</td>\n",
       "      <td>-0.138453</td>\n",
       "      <td>0.015098</td>\n",
       "      <td>0.021636</td>\n",
       "      <td>-0.005562</td>\n",
       "      <td>0.096777</td>\n",
       "      <td>0.095674</td>\n",
       "      <td>-0.021944</td>\n",
       "      <td>0.173488</td>\n",
       "    </tr>\n",
       "    <tr>\n",
       "      <th>smoke</th>\n",
       "      <td>0.284164</td>\n",
       "      <td>-0.138453</td>\n",
       "      <td>1.000000</td>\n",
       "      <td>-0.015732</td>\n",
       "      <td>-0.034809</td>\n",
       "      <td>0.008788</td>\n",
       "      <td>0.042237</td>\n",
       "      <td>-0.080420</td>\n",
       "      <td>0.071060</td>\n",
       "      <td>-0.109502</td>\n",
       "    </tr>\n",
       "    <tr>\n",
       "      <th>sysBP</th>\n",
       "      <td>-0.003216</td>\n",
       "      <td>0.015098</td>\n",
       "      <td>-0.015732</td>\n",
       "      <td>1.000000</td>\n",
       "      <td>0.008584</td>\n",
       "      <td>-0.004685</td>\n",
       "      <td>0.002288</td>\n",
       "      <td>-0.002979</td>\n",
       "      <td>0.006351</td>\n",
       "      <td>0.037049</td>\n",
       "    </tr>\n",
       "    <tr>\n",
       "      <th>diaBP</th>\n",
       "      <td>0.001950</td>\n",
       "      <td>0.021636</td>\n",
       "      <td>-0.034809</td>\n",
       "      <td>0.008584</td>\n",
       "      <td>1.000000</td>\n",
       "      <td>0.046263</td>\n",
       "      <td>-0.030659</td>\n",
       "      <td>-0.021452</td>\n",
       "      <td>0.022186</td>\n",
       "      <td>0.074764</td>\n",
       "    </tr>\n",
       "    <tr>\n",
       "      <th>BMI</th>\n",
       "      <td>0.003822</td>\n",
       "      <td>-0.005562</td>\n",
       "      <td>0.008788</td>\n",
       "      <td>-0.004685</td>\n",
       "      <td>0.046263</td>\n",
       "      <td>1.000000</td>\n",
       "      <td>-0.008264</td>\n",
       "      <td>-0.005296</td>\n",
       "      <td>0.005158</td>\n",
       "      <td>-0.002907</td>\n",
       "    </tr>\n",
       "    <tr>\n",
       "      <th>Chol</th>\n",
       "      <td>-0.052293</td>\n",
       "      <td>0.096777</td>\n",
       "      <td>0.042237</td>\n",
       "      <td>0.002288</td>\n",
       "      <td>-0.030659</td>\n",
       "      <td>-0.008264</td>\n",
       "      <td>1.000000</td>\n",
       "      <td>0.228249</td>\n",
       "      <td>0.084066</td>\n",
       "      <td>0.031832</td>\n",
       "    </tr>\n",
       "    <tr>\n",
       "      <th>glucose</th>\n",
       "      <td>-0.053967</td>\n",
       "      <td>0.095674</td>\n",
       "      <td>-0.080420</td>\n",
       "      <td>-0.002979</td>\n",
       "      <td>-0.021452</td>\n",
       "      <td>-0.005296</td>\n",
       "      <td>0.228249</td>\n",
       "      <td>1.000000</td>\n",
       "      <td>0.029771</td>\n",
       "      <td>0.051366</td>\n",
       "    </tr>\n",
       "    <tr>\n",
       "      <th>active</th>\n",
       "      <td>0.032348</td>\n",
       "      <td>-0.021944</td>\n",
       "      <td>0.071060</td>\n",
       "      <td>0.006351</td>\n",
       "      <td>0.022186</td>\n",
       "      <td>0.005158</td>\n",
       "      <td>0.084066</td>\n",
       "      <td>0.029771</td>\n",
       "      <td>1.000000</td>\n",
       "      <td>-0.046799</td>\n",
       "    </tr>\n",
       "    <tr>\n",
       "      <th>CardioDisease</th>\n",
       "      <td>0.021106</td>\n",
       "      <td>0.173488</td>\n",
       "      <td>-0.109502</td>\n",
       "      <td>0.037049</td>\n",
       "      <td>0.074764</td>\n",
       "      <td>-0.002907</td>\n",
       "      <td>0.031832</td>\n",
       "      <td>0.051366</td>\n",
       "      <td>-0.046799</td>\n",
       "      <td>1.000000</td>\n",
       "    </tr>\n",
       "  </tbody>\n",
       "</table>\n",
       "</div>"
      ],
      "text/plain": [
       "                 gender       age    smoke      sysBP     diaBP       BMI  \\\n",
       "gender         1.000000 -0.019478  0.284164 -0.003216  0.001950  0.003822   \n",
       "age           -0.019478  1.000000 -0.138453  0.015098  0.021636 -0.005562   \n",
       "smoke          0.284164 -0.138453  1.000000 -0.015732 -0.034809  0.008788   \n",
       "sysBP         -0.003216  0.015098 -0.015732  1.000000  0.008584 -0.004685   \n",
       "diaBP          0.001950  0.021636 -0.034809  0.008584  1.000000  0.046263   \n",
       "BMI            0.003822 -0.005562  0.008788 -0.004685  0.046263  1.000000   \n",
       "Chol          -0.052293  0.096777  0.042237  0.002288 -0.030659 -0.008264   \n",
       "glucose       -0.053967  0.095674 -0.080420 -0.002979 -0.021452 -0.005296   \n",
       "active         0.032348 -0.021944  0.071060  0.006351  0.022186  0.005158   \n",
       "CardioDisease  0.021106  0.173488 -0.109502  0.037049  0.074764 -0.002907   \n",
       "\n",
       "                   Chol   glucose   active   CardioDisease  \n",
       "gender        -0.052293 -0.053967  0.032348       0.021106  \n",
       "age            0.096777  0.095674 -0.021944       0.173488  \n",
       "smoke          0.042237 -0.080420  0.071060      -0.109502  \n",
       "sysBP          0.002288 -0.002979  0.006351       0.037049  \n",
       "diaBP         -0.030659 -0.021452  0.022186       0.074764  \n",
       "BMI           -0.008264 -0.005296  0.005158      -0.002907  \n",
       "Chol           1.000000  0.228249  0.084066       0.031832  \n",
       "glucose        0.228249  1.000000  0.029771       0.051366  \n",
       "active         0.084066  0.029771  1.000000      -0.046799  \n",
       "CardioDisease  0.031832  0.051366 -0.046799       1.000000  "
      ]
     },
     "execution_count": 60,
     "metadata": {},
     "output_type": "execute_result"
    }
   ],
   "source": [
    "data_correlation"
   ]
  },
  {
   "cell_type": "markdown",
   "metadata": {},
   "source": [
    "We need to see this correlation in a visualized way"
   ]
  },
  {
   "cell_type": "code",
   "execution_count": 61,
   "metadata": {},
   "outputs": [
    {
     "data": {
      "image/png": "[encoded data removed]",
      "text/plain": [
       "<Figure size 640x480 with 2 Axes>"
      ]
     },
     "metadata": {},
     "output_type": "display_data"
    }
   ],
   "source": [
    "plt.title(\"Feature Correlation Map\")\n",
    "sns.heatmap(data_correlation, annot=True, cmap=\"coolwarm\", fmt=\".2f\")\n",
    "plt.xticks(rotation=30);"
   ]
  },
  {
   "cell_type": "markdown",
   "metadata": {},
   "source": [
    "Need to get the feature importance to see the important features in order"
   ]
  },
  {
   "cell_type": "code",
   "execution_count": 62,
   "metadata": {},
   "outputs": [],
   "source": [
    "# Split the data into features and labels\n",
    "X = df.drop(\"CardioDisease\", axis=1)\n",
    "y = df[\"CardioDisease\"]"
   ]
  },
  {
   "cell_type": "code",
   "execution_count": 63,
   "metadata": {},
   "outputs": [
    {
     "data": {
      "text/html": [
       "<div>\n",
       "<style scoped>\n",
       "    .dataframe tbody tr th:only-of-type {\n",
       "        vertical-align: middle;\n",
       "    }\n",
       "\n",
       "    .dataframe tbody tr th {\n",
       "        vertical-align: top;\n",
       "    }\n",
       "\n",
       "    .dataframe thead th {\n",
       "        text-align: right;\n",
       "    }\n",
       "</style>\n",
       "<table border=\"1\" class=\"dataframe\">\n",
       "  <thead>\n",
       "    <tr style=\"text-align: right;\">\n",
       "      <th></th>\n",
       "      <th>gender</th>\n",
       "      <th>age</th>\n",
       "      <th>smoke</th>\n",
       "      <th>sysBP</th>\n",
       "      <th>diaBP</th>\n",
       "      <th>BMI</th>\n",
       "      <th>Chol</th>\n",
       "      <th>glucose</th>\n",
       "      <th>active</th>\n",
       "    </tr>\n",
       "  </thead>\n",
       "  <tbody>\n",
       "    <tr>\n",
       "      <th>0</th>\n",
       "      <td>2</td>\n",
       "      <td>50</td>\n",
       "      <td>0</td>\n",
       "      <td>110.0</td>\n",
       "      <td>80.0</td>\n",
       "      <td>66.115702</td>\n",
       "      <td>1</td>\n",
       "      <td>1</td>\n",
       "      <td>1</td>\n",
       "    </tr>\n",
       "    <tr>\n",
       "      <th>1</th>\n",
       "      <td>1</td>\n",
       "      <td>55</td>\n",
       "      <td>0</td>\n",
       "      <td>140.0</td>\n",
       "      <td>90.0</td>\n",
       "      <td>45.918367</td>\n",
       "      <td>3</td>\n",
       "      <td>1</td>\n",
       "      <td>1</td>\n",
       "    </tr>\n",
       "    <tr>\n",
       "      <th>2</th>\n",
       "      <td>1</td>\n",
       "      <td>51</td>\n",
       "      <td>0</td>\n",
       "      <td>130.0</td>\n",
       "      <td>70.0</td>\n",
       "      <td>41.420118</td>\n",
       "      <td>3</td>\n",
       "      <td>1</td>\n",
       "      <td>0</td>\n",
       "    </tr>\n",
       "    <tr>\n",
       "      <th>3</th>\n",
       "      <td>2</td>\n",
       "      <td>48</td>\n",
       "      <td>0</td>\n",
       "      <td>150.0</td>\n",
       "      <td>100.0</td>\n",
       "      <td>44.444444</td>\n",
       "      <td>1</td>\n",
       "      <td>1</td>\n",
       "      <td>1</td>\n",
       "    </tr>\n",
       "    <tr>\n",
       "      <th>4</th>\n",
       "      <td>1</td>\n",
       "      <td>47</td>\n",
       "      <td>0</td>\n",
       "      <td>100.0</td>\n",
       "      <td>60.0</td>\n",
       "      <td>60.000000</td>\n",
       "      <td>1</td>\n",
       "      <td>1</td>\n",
       "      <td>0</td>\n",
       "    </tr>\n",
       "  </tbody>\n",
       "</table>\n",
       "</div>"
      ],
      "text/plain": [
       "   gender  age  smoke   sysBP  diaBP        BMI  Chol  glucose  active \n",
       "0       2   50       0  110.0   80.0  66.115702     1        1        1\n",
       "1       1   55       0  140.0   90.0  45.918367     3        1        1\n",
       "2       1   51       0  130.0   70.0  41.420118     3        1        0\n",
       "3       2   48       0  150.0  100.0  44.444444     1        1        1\n",
       "4       1   47       0  100.0   60.0  60.000000     1        1        0"
      ]
     },
     "execution_count": 63,
     "metadata": {},
     "output_type": "execute_result"
    }
   ],
   "source": [
    "X.head()"
   ]
  },
  {
   "cell_type": "code",
   "execution_count": 64,
   "metadata": {},
   "outputs": [
    {
     "data": {
      "text/plain": [
       "0    0\n",
       "1    1\n",
       "2    1\n",
       "3    1\n",
       "4    0\n",
       "Name: CardioDisease, dtype: int64"
      ]
     },
     "execution_count": 64,
     "metadata": {},
     "output_type": "execute_result"
    }
   ],
   "source": [
    "y.head()"
   ]
  },
  {
   "cell_type": "code",
   "execution_count": 65,
   "metadata": {},
   "outputs": [],
   "source": [
    "# Creating a classification model to get the feature importance for our data\n",
    "clf = RandomForestClassifier()"
   ]
  },
  {
   "cell_type": "code",
   "execution_count": 66,
   "metadata": {},
   "outputs": [
    {
     "data": {
      "text/html": [
       "<style>#sk-container-id-3 {color: black;background-color: white;}#sk-container-id-3 pre{padding: 0;}#sk-container-id-3 div.sk-toggleable {background-color: white;}#sk-container-id-3 label.sk-toggleable__label {cursor: pointer;display: block;width: 100%;margin-bottom: 0;padding: 0.3em;box-sizing: border-box;text-align: center;}#sk-container-id-3 label.sk-toggleable__label-arrow:before {content: \"▸\";float: left;margin-right: 0.25em;color: #696969;}#sk-container-id-3 label.sk-toggleable__label-arrow:hover:before {color: black;}#sk-container-id-3 div.sk-estimator:hover label.sk-toggleable__label-arrow:before {color: black;}#sk-container-id-3 div.sk-toggleable__content {max-height: 0;max-width: 0;overflow: hidden;text-align: left;background-color: #f0f8ff;}#sk-container-id-3 div.sk-toggleable__content pre {margin: 0.2em;color: black;border-radius: 0.25em;background-color: #f0f8ff;}#sk-container-id-3 input.sk-toggleable__control:checked~div.sk-toggleable__content {max-height: 200px;max-width: 100%;overflow: auto;}#sk-container-id-3 input.sk-toggleable__control:checked~label.sk-toggleable__label-arrow:before {content: \"▾\";}#sk-container-id-3 div.sk-estimator input.sk-toggleable__control:checked~label.sk-toggleable__label {background-color: #d4ebff;}#sk-container-id-3 div.sk-label input.sk-toggleable__control:checked~label.sk-toggleable__label {background-color: #d4ebff;}#sk-container-id-3 input.sk-hidden--visually {border: 0;clip: rect(1px 1px 1px 1px);clip: rect(1px, 1px, 1px, 1px);height: 1px;margin: -1px;overflow: hidden;padding: 0;position: absolute;width: 1px;}#sk-container-id-3 div.sk-estimator {font-family: monospace;background-color: #f0f8ff;border: 1px dotted black;border-radius: 0.25em;box-sizing: border-box;margin-bottom: 0.5em;}#sk-container-id-3 div.sk-estimator:hover {background-color: #d4ebff;}#sk-container-id-3 div.sk-parallel-item::after {content: \"\";width: 100%;border-bottom: 1px solid gray;flex-grow: 1;}#sk-container-id-3 div.sk-label:hover label.sk-toggleable__label {background-color: #d4ebff;}#sk-container-id-3 div.sk-serial::before {content: \"\";position: absolute;border-left: 1px solid gray;box-sizing: border-box;top: 0;bottom: 0;left: 50%;z-index: 0;}#sk-container-id-3 div.sk-serial {display: flex;flex-direction: column;align-items: center;background-color: white;padding-right: 0.2em;padding-left: 0.2em;position: relative;}#sk-container-id-3 div.sk-item {position: relative;z-index: 1;}#sk-container-id-3 div.sk-parallel {display: flex;align-items: stretch;justify-content: center;background-color: white;position: relative;}#sk-container-id-3 div.sk-item::before, #sk-container-id-3 div.sk-parallel-item::before {content: \"\";position: absolute;border-left: 1px solid gray;box-sizing: border-box;top: 0;bottom: 0;left: 50%;z-index: -1;}#sk-container-id-3 div.sk-parallel-item {display: flex;flex-direction: column;z-index: 1;position: relative;background-color: white;}#sk-container-id-3 div.sk-parallel-item:first-child::after {align-self: flex-end;width: 50%;}#sk-container-id-3 div.sk-parallel-item:last-child::after {align-self: flex-start;width: 50%;}#sk-container-id-3 div.sk-parallel-item:only-child::after {width: 0;}#sk-container-id-3 div.sk-dashed-wrapped {border: 1px dashed gray;margin: 0 0.4em 0.5em 0.4em;box-sizing: border-box;padding-bottom: 0.4em;background-color: white;}#sk-container-id-3 div.sk-label label {font-family: monospace;font-weight: bold;display: inline-block;line-height: 1.2em;}#sk-container-id-3 div.sk-label-container {text-align: center;}#sk-container-id-3 div.sk-container {/* jupyter's `normalize.less` sets `[hidden] { display: none; }` but bootstrap.min.css set `[hidden] { display: none !important; }` so we also need the `!important` here to be able to override the default hidden behavior on the sphinx rendered scikit-learn.org. See: https://github.com/scikit-learn/scikit-learn/issues/21755 */display: inline-block !important;position: relative;}#sk-container-id-3 div.sk-text-repr-fallback {display: none;}</style><div id=\"sk-container-id-3\" class=\"sk-top-container\"><div class=\"sk-text-repr-fallback\"><pre>RandomForestClassifier()</pre><b>In a Jupyter environment, please rerun this cell to show the HTML representation or trust the notebook. <br />On GitHub, the HTML representation is unable to render, please try loading this page with nbviewer.org.</b></div><div class=\"sk-container\" hidden><div class=\"sk-item\"><div class=\"sk-estimator sk-toggleable\"><input class=\"sk-toggleable__control sk-hidden--visually\" id=\"sk-estimator-id-3\" type=\"checkbox\" checked><label for=\"sk-estimator-id-3\" class=\"sk-toggleable__label sk-toggleable__label-arrow\">RandomForestClassifier</label><div class=\"sk-toggleable__content\"><pre>RandomForestClassifier()</pre></div></div></div></div></div>"
      ],
      "text/plain": [
       "RandomForestClassifier()"
      ]
     },
     "execution_count": 66,
     "metadata": {},
     "output_type": "execute_result"
    }
   ],
   "source": [
    "# Train the model on whole data (the goal is to get features importance here)\n",
    "clf.fit(X, y)"
   ]
  },
  {
   "cell_type": "code",
   "execution_count": 67,
   "metadata": {},
   "outputs": [
    {
     "data": {
      "text/plain": [
       "0.8491949100193551"
      ]
     },
     "execution_count": 67,
     "metadata": {},
     "output_type": "execute_result"
    }
   ],
   "source": [
    "clf.score(X, y)"
   ]
  },
  {
   "cell_type": "code",
   "execution_count": 68,
   "metadata": {},
   "outputs": [
    {
     "data": {
      "text/plain": [
       "array([0.04026838, 0.32919794, 0.02368172, 0.17662528, 0.1090608 ,\n",
       "       0.18240378, 0.05608519, 0.0508167 , 0.0318602 ])"
      ]
     },
     "execution_count": 68,
     "metadata": {},
     "output_type": "execute_result"
    }
   ],
   "source": [
    "# Check the feature importance in raw format\n",
    "clf.feature_importances_"
   ]
  },
  {
   "cell_type": "code",
   "execution_count": 69,
   "metadata": {},
   "outputs": [],
   "source": [
    "# Get the feature importance from the trained model\n",
    "feature_importance = dict(zip(df.columns, list(clf.feature_importances_)))"
   ]
  },
  {
   "cell_type": "code",
   "execution_count": 70,
   "metadata": {},
   "outputs": [
    {
     "data": {
      "text/plain": [
       "{'gender': 0.040268377484695306,\n",
       " 'age': 0.32919794214273,\n",
       " 'smoke ': 0.02368172190587918,\n",
       " 'sysBP': 0.1766252833907333,\n",
       " 'diaBP': 0.10906079936076245,\n",
       " 'BMI': 0.18240378401765306,\n",
       " 'Chol': 0.05608518621722495,\n",
       " 'glucose': 0.05081670188610763,\n",
       " 'active ': 0.03186020359421411}"
      ]
     },
     "execution_count": 70,
     "metadata": {},
     "output_type": "execute_result"
    }
   ],
   "source": [
    "feature_importance"
   ]
  },
  {
   "cell_type": "code",
   "execution_count": 71,
   "metadata": {},
   "outputs": [
    {
     "data": {
      "text/plain": [
       "0.32919794214273"
      ]
     },
     "execution_count": 71,
     "metadata": {},
     "output_type": "execute_result"
    }
   ],
   "source": [
    "max(feature_importance.values())"
   ]
  },
  {
   "cell_type": "code",
   "execution_count": 72,
   "metadata": {},
   "outputs": [
    {
     "data": {
      "image/png": "[encoded data removed]",
      "text/plain": [
       "<Figure size 640x480 with 1 Axes>"
      ]
     },
     "metadata": {},
     "output_type": "display_data"
    }
   ],
   "source": [
    "# Visualize feature importance\n",
    "feature_df = pd.DataFrame(feature_importance, index=[0])\n",
    "feature_df.T.plot(kind=\"bar\", title=\"Feature Importance\", legend=False);"
   ]
  },
  {
   "cell_type": "markdown",
   "metadata": {},
   "source": [
    "#### Recursive Feature Elimination (Optional)"
   ]
  },
  {
   "cell_type": "markdown",
   "metadata": {},
   "source": [
    "We've got the feature importance from our classifier (RFC). We can see the features importance returned by the model. We can also use RFE technique to rank the features to see their importance. "
   ]
  },
  {
   "cell_type": "code",
   "execution_count": 73,
   "metadata": {},
   "outputs": [],
   "source": [
    "from sklearn.feature_selection import RFE"
   ]
  },
  {
   "cell_type": "code",
   "execution_count": 74,
   "metadata": {},
   "outputs": [
    {
     "name": "stdout",
     "output_type": "stream",
     "text": [
      "Feature Ranking:\n",
      "   Feature  Rank\n",
      "5      BMI     1\n",
      "3    sysBP     2\n",
      "1      age     3\n",
      "4    diaBP     4\n",
      "6     Chol     5\n",
      "7  glucose     6\n",
      "0   gender     7\n",
      "8  active      8\n",
      "2   smoke      9\n"
     ]
    }
   ],
   "source": [
    "rfe = RFE(clf, n_features_to_select=1)\n",
    "fit = rfe.fit(X, y)\n",
    "\n",
    "# Print feature ranking\n",
    "print(\"Feature Ranking:\")\n",
    "print(pd.DataFrame({'Feature': X.columns, 'Rank': fit.ranking_}).sort_values('Rank'))"
   ]
  },
  {
   "cell_type": "markdown",
   "metadata": {},
   "source": [
    "Since, both of the concepts highlight the importance of features `age`, and `BMI`, we'll go with these two features to form clusters."
   ]
  },
  {
   "cell_type": "markdown",
   "metadata": {},
   "source": [
    "#### Finalizing Important Features"
   ]
  },
  {
   "cell_type": "code",
   "execution_count": 93,
   "metadata": {},
   "outputs": [],
   "source": [
    "from sklearn.preprocessing import StandardScaler"
   ]
  },
  {
   "cell_type": "code",
   "execution_count": 94,
   "metadata": {},
   "outputs": [],
   "source": [
    "important_features = ['age', 'BMI']\n",
    "\n",
    "# Extracting the relevant subset of data\n",
    "X_cluster = df[important_features]\n",
    "\n",
    "# Standardize the data\n",
    "scaler = StandardScaler()\n",
    "X_cluster_scaled = scaler.fit_transform(X_cluster)"
   ]
  },
  {
   "cell_type": "markdown",
   "metadata": {},
   "source": [
    "### Hierarchical Clustering Algorithm"
   ]
  },
  {
   "cell_type": "markdown",
   "metadata": {},
   "source": [
    "To perform hierarchical clustering, we can select certain linkage and distance criteria. As we know that, `euclidean` is the common and fit to the data. And for the linkage criteria, we'll go with `average` linkage"
   ]
  },
  {
   "cell_type": "code",
   "execution_count": 95,
   "metadata": {},
   "outputs": [],
   "source": [
    "from scipy.cluster.hierarchy import dendrogram, linkage\n",
    "from sklearn.cluster import AgglomerativeClustering"
   ]
  },
  {
   "cell_type": "code",
   "execution_count": 96,
   "metadata": {},
   "outputs": [],
   "source": [
    "linkage_criteria = 'average'\n",
    "distance_metric = 'euclidean'"
   ]
  },
  {
   "cell_type": "markdown",
   "metadata": {},
   "source": [
    "let's create the linkage with the scaled data (of the important features we've selected)with the specified metrics"
   ]
  },
  {
   "cell_type": "code",
   "execution_count": 97,
   "metadata": {},
   "outputs": [],
   "source": [
    "# Perform hierarchical clustering\n",
    "Z = linkage(X_cluster_scaled, method=linkage_criteria, metric=distance_metric)"
   ]
  },
  {
   "cell_type": "markdown",
   "metadata": {},
   "source": [
    "Let's have a look at dendrogram. It will help us understanding the process of hierarchical clustering. We can decide on the base of this that how many clusters to form."
   ]
  },
  {
   "cell_type": "code",
   "execution_count": 98,
   "metadata": {},
   "outputs": [
    {
     "data": {
      "image/png": "[encoded data removed]",
      "text/plain": [
       "<Figure size 1200x600 with 1 Axes>"
      ]
     },
     "metadata": {},
     "output_type": "display_data"
    }
   ],
   "source": [
    "plt.figure(figsize=(12, 6))\n",
    "dendrogram(Z)\n",
    "plt.title('Hierarchical Clustering Dendrogram')\n",
    "plt.xlabel('Data Points')\n",
    "plt.ylabel('Distance');"
   ]
  },
  {
   "cell_type": "markdown",
   "metadata": {},
   "source": [
    "**Observation:** On the basis of our diverse dendrogram, we can see that the tree is complex at the bottom, but from top, we can decide that number of clusters to choose would be `1`. But to have the record with multiple results and we have the original dataset target algorithms too, for the safe side and performance mapping, we'll assign the cluster numbers to `2`.\n",
    "\n",
    "To decide the Hierarchical Clustering Algorithm, we can use different methods. But we found that `Agglomerative Clustering` is more common and provides good results. So, we'll go with that"
   ]
  },
  {
   "cell_type": "code",
   "execution_count": 111,
   "metadata": {},
   "outputs": [],
   "source": [
    "number_of_clusters = 2\n",
    "\n",
    "clusters = AgglomerativeClustering(\n",
    "    n_clusters=number_of_clusters, \n",
    "    linkage=linkage_criteria, \n",
    "    affinity=distance_metric\n",
    ")\n",
    "\n",
    "cluster_values = clusters.fit_predict(X_cluster_scaled)"
   ]
  },
  {
   "cell_type": "code",
   "execution_count": 121,
   "metadata": {},
   "outputs": [
    {
     "data": {
      "text/plain": [
       "array([0, 1], dtype=int64)"
      ]
     },
     "execution_count": 121,
     "metadata": {},
     "output_type": "execute_result"
    }
   ],
   "source": [
    "np.unique(cluster_values)"
   ]
  },
  {
   "cell_type": "markdown",
   "metadata": {},
   "source": [
    "Let's display the clusters we have made"
   ]
  },
  {
   "cell_type": "code",
   "execution_count": 122,
   "metadata": {},
   "outputs": [
    {
     "data": {
      "text/plain": [
       "1    24281\n",
       "0        2\n",
       "dtype: int64"
      ]
     },
     "execution_count": 122,
     "metadata": {},
     "output_type": "execute_result"
    }
   ],
   "source": [
    "pd.Series(cluster_values).value_counts()"
   ]
  },
  {
   "cell_type": "markdown",
   "metadata": {},
   "source": [
    "#### Evaluate the results of our Hierarchical clustering (AgglomerativeClustering) algorithm"
   ]
  },
  {
   "cell_type": "code",
   "execution_count": 123,
   "metadata": {},
   "outputs": [],
   "source": [
    "from sklearn.metrics import silhouette_score"
   ]
  },
  {
   "cell_type": "code",
   "execution_count": 126,
   "metadata": {},
   "outputs": [
    {
     "name": "stdout",
     "output_type": "stream",
     "text": [
      "The score of Hierarchical Clustering Model is: 98.90%\n"
     ]
    }
   ],
   "source": [
    "print(f\"The score of Hierarchical Clustering Model is: {silhouette_score(X_cluster_scaled, cluster_values)*100:.2f}%\")"
   ]
  },
  {
   "cell_type": "markdown",
   "metadata": {},
   "source": [
    "### KMeans Clustering Algorithm"
   ]
  },
  {
   "cell_type": "code",
   "execution_count": 127,
   "metadata": {},
   "outputs": [],
   "source": [
    "from sklearn.cluster import KMeans"
   ]
  },
  {
   "cell_type": "markdown",
   "metadata": {},
   "source": [
    "Let's try with the elbow method to find the optimal number of clusters to choose"
   ]
  },
  {
   "cell_type": "code",
   "execution_count": 128,
   "metadata": {},
   "outputs": [],
   "source": [
    "clustering_scores = []\n",
    "\n",
    "for num_clusters in range(1, 15):\n",
    "    kmeans_model = KMeans(n_clusters=num_clusters, init=\"random\", random_state=42)\n",
    "    kmeans_model.fit(X_cluster_scaled)\n",
    "    clustering_scores.append(kmeans_model.inertia_)"
   ]
  },
  {
   "cell_type": "markdown",
   "metadata": {},
   "source": [
    "Let's plot the scores of our algorithm"
   ]
  },
  {
   "cell_type": "code",
   "execution_count": 130,
   "metadata": {},
   "outputs": [
    {
     "data": {
      "image/png": "[encoded data removed]",
      "text/plain": [
       "<Figure size 1000x600 with 1 Axes>"
      ]
     },
     "metadata": {},
     "output_type": "display_data"
    }
   ],
   "source": [
    "plt.figure(figsize=(10, 6))\n",
    "plt.plot(range(1, 15), clustering_scores)\n",
    "plt.title(\"Different Cluster Values with Elbow Method\")\n",
    "plt.xlabel(\"No. of Clusters\")\n",
    "plt.xticks(np.arange(1, 15, 1))\n",
    "plt.ylabel(\"Score\");"
   ]
  },
  {
   "cell_type": "markdown",
   "metadata": {},
   "source": [
    "Our kmeans algorithm is also showing us that the clusters should be `1`. To have evaluation of model, will make it just `2` as the minimum clusters should be 2 to the length of features"
   ]
  },
  {
   "cell_type": "markdown",
   "metadata": {},
   "source": [
    "Choosing the right clustering values after experimenting and fitting the right model to make predictions on it"
   ]
  },
  {
   "cell_type": "code",
   "execution_count": 131,
   "metadata": {},
   "outputs": [
    {
     "data": {
      "text/plain": [
       "array([0, 0, 0, 0, 0, 0, 0, 0, 0, 0])"
      ]
     },
     "execution_count": 131,
     "metadata": {},
     "output_type": "execute_result"
    }
   ],
   "source": [
    "kmeans_final = KMeans(n_clusters=2, random_state=42)\n",
    "kmeans_final.fit(X_cluster_scaled)\n",
    "kmeans_preds = kmeans_final.predict(X_cluster_scaled)\n",
    "kmeans_preds[:10]"
   ]
  },
  {
   "cell_type": "code",
   "execution_count": 133,
   "metadata": {},
   "outputs": [
    {
     "data": {
      "text/plain": [
       "0    24281\n",
       "1        2\n",
       "dtype: int64"
      ]
     },
     "execution_count": 133,
     "metadata": {},
     "output_type": "execute_result"
    }
   ],
   "source": [
    "pd.Series(kmeans_preds).value_counts()"
   ]
  },
  {
   "cell_type": "markdown",
   "metadata": {},
   "source": [
    "Evaluate the kmeans model"
   ]
  },
  {
   "cell_type": "code",
   "execution_count": 132,
   "metadata": {},
   "outputs": [
    {
     "name": "stdout",
     "output_type": "stream",
     "text": [
      "The score of KMeans Clustering Model is: 98.90%\n"
     ]
    }
   ],
   "source": [
    "print(f\"The score of KMeans Clustering Model is: {silhouette_score(X_cluster_scaled, kmeans_preds)*100:.2f}%\")"
   ]
  },
  {
   "cell_type": "markdown",
   "metadata": {},
   "source": [
    "What if we try different clusters?"
   ]
  },
  {
   "cell_type": "code",
   "execution_count": 134,
   "metadata": {},
   "outputs": [
    {
     "data": {
      "image/png": "[encoded data removed]",
      "text/plain": [
       "<Figure size 1200x500 with 1 Axes>"
      ]
     },
     "metadata": {},
     "output_type": "display_data"
    }
   ],
   "source": [
    "# Applying k-means clustering\n",
    "kmeans_model = KMeans(n_clusters=3, random_state=42)  \n",
    "kmeans_labels = kmeans_model.fit_predict(X_cluster_scaled)\n",
    "\n",
    "# Visualizing clusters\n",
    "plt.figure(figsize=(12, 5))\n",
    "plt.scatter(X_cluster['age'], X_cluster['BMI'], c=kmeans_labels, cmap='YlGnBu')\n",
    "plt.title('K-Means Clustering');"
   ]
  },
  {
   "cell_type": "markdown",
   "metadata": {},
   "source": [
    "Let's see what clusters are made from our model when n_clusters is 3"
   ]
  },
  {
   "cell_type": "code",
   "execution_count": 135,
   "metadata": {},
   "outputs": [
    {
     "data": {
      "text/plain": [
       "0    13834\n",
       "2    10447\n",
       "1        2\n",
       "dtype: int64"
      ]
     },
     "execution_count": 135,
     "metadata": {},
     "output_type": "execute_result"
    }
   ],
   "source": [
    "pd.Series(kmeans_labels).value_counts()"
   ]
  },
  {
   "cell_type": "markdown",
   "metadata": {},
   "source": [
    "We have seen that our unsupervised models suggested us that the cluster values should be 1. So, it means the data is shifting towards the imbalanced side. But when we tried implementing the more clusters, the values diversity started showing up. We can also see the results of our `kmeans` and `hierarchical` clustering models by observing their `score`."
   ]
  },
  {
   "cell_type": "markdown",
   "metadata": {},
   "source": [
    "Let's add the clusters in our actual data by making it look closer to the supervised format of data"
   ]
  },
  {
   "cell_type": "code",
   "execution_count": 136,
   "metadata": {},
   "outputs": [],
   "source": [
    "kmeans_labels = np.where(kmeans_labels == 2, 1, kmeans_labels)"
   ]
  },
  {
   "cell_type": "code",
   "execution_count": 137,
   "metadata": {},
   "outputs": [
    {
     "data": {
      "text/plain": [
       "0    13834\n",
       "1    10449\n",
       "dtype: int64"
      ]
     },
     "execution_count": 137,
     "metadata": {},
     "output_type": "execute_result"
    }
   ],
   "source": [
    "pd.Series(kmeans_labels).value_counts()"
   ]
  },
  {
   "cell_type": "code",
   "execution_count": 138,
   "metadata": {},
   "outputs": [],
   "source": [
    "# Add cluster labels to the original dataset\n",
    "df['KMeans_Cluster'] = kmeans_labels"
   ]
  },
  {
   "cell_type": "markdown",
   "metadata": {},
   "source": [
    "Observe the start and end of the dataset"
   ]
  },
  {
   "cell_type": "code",
   "execution_count": 139,
   "metadata": {},
   "outputs": [
    {
     "data": {
      "text/html": [
       "<div>\n",
       "<style scoped>\n",
       "    .dataframe tbody tr th:only-of-type {\n",
       "        vertical-align: middle;\n",
       "    }\n",
       "\n",
       "    .dataframe tbody tr th {\n",
       "        vertical-align: top;\n",
       "    }\n",
       "\n",
       "    .dataframe thead th {\n",
       "        text-align: right;\n",
       "    }\n",
       "</style>\n",
       "<table border=\"1\" class=\"dataframe\">\n",
       "  <thead>\n",
       "    <tr style=\"text-align: right;\">\n",
       "      <th></th>\n",
       "      <th>gender</th>\n",
       "      <th>age</th>\n",
       "      <th>smoke</th>\n",
       "      <th>sysBP</th>\n",
       "      <th>diaBP</th>\n",
       "      <th>BMI</th>\n",
       "      <th>Chol</th>\n",
       "      <th>glucose</th>\n",
       "      <th>active</th>\n",
       "      <th>CardioDisease</th>\n",
       "      <th>KMeans_Cluster</th>\n",
       "    </tr>\n",
       "  </thead>\n",
       "  <tbody>\n",
       "    <tr>\n",
       "      <th>0</th>\n",
       "      <td>2</td>\n",
       "      <td>50</td>\n",
       "      <td>0</td>\n",
       "      <td>110.0</td>\n",
       "      <td>80.0</td>\n",
       "      <td>66.115702</td>\n",
       "      <td>1</td>\n",
       "      <td>1</td>\n",
       "      <td>1</td>\n",
       "      <td>0</td>\n",
       "      <td>1</td>\n",
       "    </tr>\n",
       "    <tr>\n",
       "      <th>1</th>\n",
       "      <td>1</td>\n",
       "      <td>55</td>\n",
       "      <td>0</td>\n",
       "      <td>140.0</td>\n",
       "      <td>90.0</td>\n",
       "      <td>45.918367</td>\n",
       "      <td>3</td>\n",
       "      <td>1</td>\n",
       "      <td>1</td>\n",
       "      <td>1</td>\n",
       "      <td>0</td>\n",
       "    </tr>\n",
       "    <tr>\n",
       "      <th>2</th>\n",
       "      <td>1</td>\n",
       "      <td>51</td>\n",
       "      <td>0</td>\n",
       "      <td>130.0</td>\n",
       "      <td>70.0</td>\n",
       "      <td>41.420118</td>\n",
       "      <td>3</td>\n",
       "      <td>1</td>\n",
       "      <td>0</td>\n",
       "      <td>1</td>\n",
       "      <td>1</td>\n",
       "    </tr>\n",
       "    <tr>\n",
       "      <th>3</th>\n",
       "      <td>2</td>\n",
       "      <td>48</td>\n",
       "      <td>0</td>\n",
       "      <td>150.0</td>\n",
       "      <td>100.0</td>\n",
       "      <td>44.444444</td>\n",
       "      <td>1</td>\n",
       "      <td>1</td>\n",
       "      <td>1</td>\n",
       "      <td>1</td>\n",
       "      <td>1</td>\n",
       "    </tr>\n",
       "    <tr>\n",
       "      <th>4</th>\n",
       "      <td>1</td>\n",
       "      <td>47</td>\n",
       "      <td>0</td>\n",
       "      <td>100.0</td>\n",
       "      <td>60.0</td>\n",
       "      <td>60.000000</td>\n",
       "      <td>1</td>\n",
       "      <td>1</td>\n",
       "      <td>0</td>\n",
       "      <td>0</td>\n",
       "      <td>1</td>\n",
       "    </tr>\n",
       "  </tbody>\n",
       "</table>\n",
       "</div>"
      ],
      "text/plain": [
       "   gender  age  smoke   sysBP  diaBP        BMI  Chol  glucose  active   \\\n",
       "0       2   50       0  110.0   80.0  66.115702     1        1        1   \n",
       "1       1   55       0  140.0   90.0  45.918367     3        1        1   \n",
       "2       1   51       0  130.0   70.0  41.420118     3        1        0   \n",
       "3       2   48       0  150.0  100.0  44.444444     1        1        1   \n",
       "4       1   47       0  100.0   60.0  60.000000     1        1        0   \n",
       "\n",
       "   CardioDisease  KMeans_Cluster  \n",
       "0              0               1  \n",
       "1              1               0  \n",
       "2              1               1  \n",
       "3              1               1  \n",
       "4              0               1  "
      ]
     },
     "execution_count": 139,
     "metadata": {},
     "output_type": "execute_result"
    }
   ],
   "source": [
    "df.head()"
   ]
  },
  {
   "cell_type": "code",
   "execution_count": 140,
   "metadata": {},
   "outputs": [
    {
     "data": {
      "text/html": [
       "<div>\n",
       "<style scoped>\n",
       "    .dataframe tbody tr th:only-of-type {\n",
       "        vertical-align: middle;\n",
       "    }\n",
       "\n",
       "    .dataframe tbody tr th {\n",
       "        vertical-align: top;\n",
       "    }\n",
       "\n",
       "    .dataframe thead th {\n",
       "        text-align: right;\n",
       "    }\n",
       "</style>\n",
       "<table border=\"1\" class=\"dataframe\">\n",
       "  <thead>\n",
       "    <tr style=\"text-align: right;\">\n",
       "      <th></th>\n",
       "      <th>gender</th>\n",
       "      <th>age</th>\n",
       "      <th>smoke</th>\n",
       "      <th>sysBP</th>\n",
       "      <th>diaBP</th>\n",
       "      <th>BMI</th>\n",
       "      <th>Chol</th>\n",
       "      <th>glucose</th>\n",
       "      <th>active</th>\n",
       "      <th>CardioDisease</th>\n",
       "      <th>KMeans_Cluster</th>\n",
       "    </tr>\n",
       "  </thead>\n",
       "  <tbody>\n",
       "    <tr>\n",
       "      <th>74233</th>\n",
       "      <td>2</td>\n",
       "      <td>50</td>\n",
       "      <td>1</td>\n",
       "      <td>179.0</td>\n",
       "      <td>92.0</td>\n",
       "      <td>25.97</td>\n",
       "      <td>3</td>\n",
       "      <td>1</td>\n",
       "      <td>1</td>\n",
       "      <td>1</td>\n",
       "      <td>1</td>\n",
       "    </tr>\n",
       "    <tr>\n",
       "      <th>74234</th>\n",
       "      <td>2</td>\n",
       "      <td>51</td>\n",
       "      <td>1</td>\n",
       "      <td>126.5</td>\n",
       "      <td>80.0</td>\n",
       "      <td>19.71</td>\n",
       "      <td>2</td>\n",
       "      <td>1</td>\n",
       "      <td>1</td>\n",
       "      <td>0</td>\n",
       "      <td>1</td>\n",
       "    </tr>\n",
       "    <tr>\n",
       "      <th>74235</th>\n",
       "      <td>1</td>\n",
       "      <td>48</td>\n",
       "      <td>1</td>\n",
       "      <td>131.0</td>\n",
       "      <td>72.0</td>\n",
       "      <td>22.00</td>\n",
       "      <td>3</td>\n",
       "      <td>1</td>\n",
       "      <td>1</td>\n",
       "      <td>0</td>\n",
       "      <td>1</td>\n",
       "    </tr>\n",
       "    <tr>\n",
       "      <th>74236</th>\n",
       "      <td>1</td>\n",
       "      <td>44</td>\n",
       "      <td>1</td>\n",
       "      <td>126.5</td>\n",
       "      <td>87.0</td>\n",
       "      <td>19.16</td>\n",
       "      <td>2</td>\n",
       "      <td>3</td>\n",
       "      <td>1</td>\n",
       "      <td>0</td>\n",
       "      <td>1</td>\n",
       "    </tr>\n",
       "    <tr>\n",
       "      <th>74237</th>\n",
       "      <td>1</td>\n",
       "      <td>52</td>\n",
       "      <td>0</td>\n",
       "      <td>133.5</td>\n",
       "      <td>83.0</td>\n",
       "      <td>21.47</td>\n",
       "      <td>3</td>\n",
       "      <td>2</td>\n",
       "      <td>1</td>\n",
       "      <td>0</td>\n",
       "      <td>0</td>\n",
       "    </tr>\n",
       "  </tbody>\n",
       "</table>\n",
       "</div>"
      ],
      "text/plain": [
       "       gender  age  smoke   sysBP  diaBP    BMI  Chol  glucose  active   \\\n",
       "74233       2   50       1  179.0   92.0  25.97     3        1        1   \n",
       "74234       2   51       1  126.5   80.0  19.71     2        1        1   \n",
       "74235       1   48       1  131.0   72.0  22.00     3        1        1   \n",
       "74236       1   44       1  126.5   87.0  19.16     2        3        1   \n",
       "74237       1   52       0  133.5   83.0  21.47     3        2        1   \n",
       "\n",
       "       CardioDisease  KMeans_Cluster  \n",
       "74233              1               1  \n",
       "74234              0               1  \n",
       "74235              0               1  \n",
       "74236              0               1  \n",
       "74237              0               0  "
      ]
     },
     "execution_count": 140,
     "metadata": {},
     "output_type": "execute_result"
    }
   ],
   "source": [
    "df.tail()"
   ]
  },
  {
   "cell_type": "markdown",
   "metadata": {
    "id": "2VGK7MR6x-X5"
   },
   "source": [
    "## **Part 4: Supervised Learning (Classification)**"
   ]
  },
  {
   "cell_type": "code",
   "execution_count": null,
   "metadata": {
    "id": "ysHACYrI2ZdP"
   },
   "outputs": [],
   "source": [
    "models = {\"Logistic Regression\": LogisticRegression(),\n",
    "          \"RandomForest Classifier\": RandomForestClassifier()}"
   ]
  },
  {
   "cell_type": "markdown",
   "metadata": {
    "id": "PfuLo4MZ2fjw"
   },
   "source": [
    "Note: We are using Logistic Regression and RandomForest Classifier for this binary classification problem."
   ]
  },
  {
   "cell_type": "markdown",
   "metadata": {
    "id": "I6TFJ7U2yBXq"
   },
   "source": [
    "### Logistic Regression Classifier"
   ]
  },
  {
   "cell_type": "code",
   "execution_count": null,
   "metadata": {
    "colab": {
     "base_uri": "https://localhost:8080/",
     "height": 75
    },
    "id": "W6pZHeQb3Ezt",
    "outputId": "42ee24ef-d322-449c-b68f-ee2e90857d24"
   },
   "outputs": [
    {
     "data": {
      "text/html": [
       "<style>#sk-container-id-4 {color: black;background-color: white;}#sk-container-id-4 pre{padding: 0;}#sk-container-id-4 div.sk-toggleable {background-color: white;}#sk-container-id-4 label.sk-toggleable__label {cursor: pointer;display: block;width: 100%;margin-bottom: 0;padding: 0.3em;box-sizing: border-box;text-align: center;}#sk-container-id-4 label.sk-toggleable__label-arrow:before {content: \"▸\";float: left;margin-right: 0.25em;color: #696969;}#sk-container-id-4 label.sk-toggleable__label-arrow:hover:before {color: black;}#sk-container-id-4 div.sk-estimator:hover label.sk-toggleable__label-arrow:before {color: black;}#sk-container-id-4 div.sk-toggleable__content {max-height: 0;max-width: 0;overflow: hidden;text-align: left;background-color: #f0f8ff;}#sk-container-id-4 div.sk-toggleable__content pre {margin: 0.2em;color: black;border-radius: 0.25em;background-color: #f0f8ff;}#sk-container-id-4 input.sk-toggleable__control:checked~div.sk-toggleable__content {max-height: 200px;max-width: 100%;overflow: auto;}#sk-container-id-4 input.sk-toggleable__control:checked~label.sk-toggleable__label-arrow:before {content: \"▾\";}#sk-container-id-4 div.sk-estimator input.sk-toggleable__control:checked~label.sk-toggleable__label {background-color: #d4ebff;}#sk-container-id-4 div.sk-label input.sk-toggleable__control:checked~label.sk-toggleable__label {background-color: #d4ebff;}#sk-container-id-4 input.sk-hidden--visually {border: 0;clip: rect(1px 1px 1px 1px);clip: rect(1px, 1px, 1px, 1px);height: 1px;margin: -1px;overflow: hidden;padding: 0;position: absolute;width: 1px;}#sk-container-id-4 div.sk-estimator {font-family: monospace;background-color: #f0f8ff;border: 1px dotted black;border-radius: 0.25em;box-sizing: border-box;margin-bottom: 0.5em;}#sk-container-id-4 div.sk-estimator:hover {background-color: #d4ebff;}#sk-container-id-4 div.sk-parallel-item::after {content: \"\";width: 100%;border-bottom: 1px solid gray;flex-grow: 1;}#sk-container-id-4 div.sk-label:hover label.sk-toggleable__label {background-color: #d4ebff;}#sk-container-id-4 div.sk-serial::before {content: \"\";position: absolute;border-left: 1px solid gray;box-sizing: border-box;top: 0;bottom: 0;left: 50%;z-index: 0;}#sk-container-id-4 div.sk-serial {display: flex;flex-direction: column;align-items: center;background-color: white;padding-right: 0.2em;padding-left: 0.2em;position: relative;}#sk-container-id-4 div.sk-item {position: relative;z-index: 1;}#sk-container-id-4 div.sk-parallel {display: flex;align-items: stretch;justify-content: center;background-color: white;position: relative;}#sk-container-id-4 div.sk-item::before, #sk-container-id-4 div.sk-parallel-item::before {content: \"\";position: absolute;border-left: 1px solid gray;box-sizing: border-box;top: 0;bottom: 0;left: 50%;z-index: -1;}#sk-container-id-4 div.sk-parallel-item {display: flex;flex-direction: column;z-index: 1;position: relative;background-color: white;}#sk-container-id-4 div.sk-parallel-item:first-child::after {align-self: flex-end;width: 50%;}#sk-container-id-4 div.sk-parallel-item:last-child::after {align-self: flex-start;width: 50%;}#sk-container-id-4 div.sk-parallel-item:only-child::after {width: 0;}#sk-container-id-4 div.sk-dashed-wrapped {border: 1px dashed gray;margin: 0 0.4em 0.5em 0.4em;box-sizing: border-box;padding-bottom: 0.4em;background-color: white;}#sk-container-id-4 div.sk-label label {font-family: monospace;font-weight: bold;display: inline-block;line-height: 1.2em;}#sk-container-id-4 div.sk-label-container {text-align: center;}#sk-container-id-4 div.sk-container {/* jupyter's `normalize.less` sets `[hidden] { display: none; }` but bootstrap.min.css set `[hidden] { display: none !important; }` so we also need the `!important` here to be able to override the default hidden behavior on the sphinx rendered scikit-learn.org. See: https://github.com/scikit-learn/scikit-learn/issues/21755 */display: inline-block !important;position: relative;}#sk-container-id-4 div.sk-text-repr-fallback {display: none;}</style><div id=\"sk-container-id-4\" class=\"sk-top-container\"><div class=\"sk-text-repr-fallback\"><pre>LogisticRegression(max_iter=1000, random_state=0, solver=&#x27;liblinear&#x27;)</pre><b>In a Jupyter environment, please rerun this cell to show the HTML representation or trust the notebook. <br />On GitHub, the HTML representation is unable to render, please try loading this page with nbviewer.org.</b></div><div class=\"sk-container\" hidden><div class=\"sk-item\"><div class=\"sk-estimator sk-toggleable\"><input class=\"sk-toggleable__control sk-hidden--visually\" id=\"sk-estimator-id-4\" type=\"checkbox\" checked><label for=\"sk-estimator-id-4\" class=\"sk-toggleable__label sk-toggleable__label-arrow\">LogisticRegression</label><div class=\"sk-toggleable__content\"><pre>LogisticRegression(max_iter=1000, random_state=0, solver=&#x27;liblinear&#x27;)</pre></div></div></div></div></div>"
      ],
      "text/plain": [
       "LogisticRegression(max_iter=1000, random_state=0, solver='liblinear')"
      ]
     },
     "execution_count": 86,
     "metadata": {},
     "output_type": "execute_result"
    }
   ],
   "source": [
    "LGR_model = LogisticRegression(solver = 'liblinear',\n",
    "                               random_state = 0,\n",
    "                               max_iter = 1000)\n",
    "\n",
    "\n",
    "LGR_model.fit(X_train, y_train)     # training model on training dataset"
   ]
  },
  {
   "cell_type": "markdown",
   "metadata": {
    "id": "zWe0q1W_9kZX"
   },
   "source": [
    "Note: We have initialized Logistic Regression model with the 'liblinear' solver, a random state of 0, and a maximum of 300 iterations."
   ]
  },
  {
   "cell_type": "code",
   "execution_count": null,
   "metadata": {
    "id": "qVwXOCN135g_"
   },
   "outputs": [],
   "source": [
    "# predicting target variable with LGR model on test data set\n",
    "y_pred_LGR = LGR_model.predict(X_test)"
   ]
  },
  {
   "cell_type": "code",
   "execution_count": null,
   "metadata": {
    "colab": {
     "base_uri": "https://localhost:8080/"
    },
    "id": "blAqC69rfGSD",
    "outputId": "b900bea5-b76c-49df-baef-b480beff8f22"
   },
   "outputs": [
    {
     "name": "stdout",
     "output_type": "stream",
     "text": [
      "Accuracy of Logistic Regression Classifier : 65.0%\n"
     ]
    }
   ],
   "source": [
    "LGR_accuracy = accuracy_score(y_test, y_pred_LGR)\n",
    "print(f\"Accuracy of Logistic Regression Classifier : {LGR_accuracy.round(2) * 100}%\")"
   ]
  },
  {
   "cell_type": "markdown",
   "metadata": {},
   "source": [
    "We've experienced relatively low accuracy of our LGR model. To try overcome this issue, we are going to use RandomSearchCV to find best parameters for the Logistic Regressor Model."
   ]
  },
  {
   "cell_type": "code",
   "execution_count": null,
   "metadata": {
    "id": "GDQl1ZIicB7H"
   },
   "outputs": [],
   "source": [
    "## Random Search CV\n",
    "\n",
    "param_dist = {\n",
    "    'C': np.logspace(-3, 3, 7),\n",
    "    'penalty': ['l1', 'l2'],\n",
    "    'max_iter': [100, 500, 1000, 1500],\n",
    "    'solver': [\"liblinear\"]\n",
    "}\n",
    "\n",
    "# Using RandomSearchCV\n",
    "random_search = RandomizedSearchCV(estimator=LGR_model,\n",
    "                                   param_distributions=param_dist,\n",
    "                                   n_iter=20,\n",
    "                                   cv=5,\n",
    "                                   random_state=0,\n",
    "                                   verbose=True,\n",
    "                                   scoring='accuracy')"
   ]
  },
  {
   "cell_type": "code",
   "execution_count": null,
   "metadata": {
    "colab": {
     "base_uri": "https://localhost:8080/"
    },
    "id": "f2cDn1TnchB_",
    "outputId": "f8f19013-dd72-4998-a2d9-a7fd1e67bcbb"
   },
   "outputs": [
    {
     "name": "stdout",
     "output_type": "stream",
     "text": [
      "Fitting 5 folds for each of 20 candidates, totalling 100 fits\n"
     ]
    },
    {
     "data": {
      "text/html": [
       "<style>#sk-container-id-5 {color: black;background-color: white;}#sk-container-id-5 pre{padding: 0;}#sk-container-id-5 div.sk-toggleable {background-color: white;}#sk-container-id-5 label.sk-toggleable__label {cursor: pointer;display: block;width: 100%;margin-bottom: 0;padding: 0.3em;box-sizing: border-box;text-align: center;}#sk-container-id-5 label.sk-toggleable__label-arrow:before {content: \"▸\";float: left;margin-right: 0.25em;color: #696969;}#sk-container-id-5 label.sk-toggleable__label-arrow:hover:before {color: black;}#sk-container-id-5 div.sk-estimator:hover label.sk-toggleable__label-arrow:before {color: black;}#sk-container-id-5 div.sk-toggleable__content {max-height: 0;max-width: 0;overflow: hidden;text-align: left;background-color: #f0f8ff;}#sk-container-id-5 div.sk-toggleable__content pre {margin: 0.2em;color: black;border-radius: 0.25em;background-color: #f0f8ff;}#sk-container-id-5 input.sk-toggleable__control:checked~div.sk-toggleable__content {max-height: 200px;max-width: 100%;overflow: auto;}#sk-container-id-5 input.sk-toggleable__control:checked~label.sk-toggleable__label-arrow:before {content: \"▾\";}#sk-container-id-5 div.sk-estimator input.sk-toggleable__control:checked~label.sk-toggleable__label {background-color: #d4ebff;}#sk-container-id-5 div.sk-label input.sk-toggleable__control:checked~label.sk-toggleable__label {background-color: #d4ebff;}#sk-container-id-5 input.sk-hidden--visually {border: 0;clip: rect(1px 1px 1px 1px);clip: rect(1px, 1px, 1px, 1px);height: 1px;margin: -1px;overflow: hidden;padding: 0;position: absolute;width: 1px;}#sk-container-id-5 div.sk-estimator {font-family: monospace;background-color: #f0f8ff;border: 1px dotted black;border-radius: 0.25em;box-sizing: border-box;margin-bottom: 0.5em;}#sk-container-id-5 div.sk-estimator:hover {background-color: #d4ebff;}#sk-container-id-5 div.sk-parallel-item::after {content: \"\";width: 100%;border-bottom: 1px solid gray;flex-grow: 1;}#sk-container-id-5 div.sk-label:hover label.sk-toggleable__label {background-color: #d4ebff;}#sk-container-id-5 div.sk-serial::before {content: \"\";position: absolute;border-left: 1px solid gray;box-sizing: border-box;top: 0;bottom: 0;left: 50%;z-index: 0;}#sk-container-id-5 div.sk-serial {display: flex;flex-direction: column;align-items: center;background-color: white;padding-right: 0.2em;padding-left: 0.2em;position: relative;}#sk-container-id-5 div.sk-item {position: relative;z-index: 1;}#sk-container-id-5 div.sk-parallel {display: flex;align-items: stretch;justify-content: center;background-color: white;position: relative;}#sk-container-id-5 div.sk-item::before, #sk-container-id-5 div.sk-parallel-item::before {content: \"\";position: absolute;border-left: 1px solid gray;box-sizing: border-box;top: 0;bottom: 0;left: 50%;z-index: -1;}#sk-container-id-5 div.sk-parallel-item {display: flex;flex-direction: column;z-index: 1;position: relative;background-color: white;}#sk-container-id-5 div.sk-parallel-item:first-child::after {align-self: flex-end;width: 50%;}#sk-container-id-5 div.sk-parallel-item:last-child::after {align-self: flex-start;width: 50%;}#sk-container-id-5 div.sk-parallel-item:only-child::after {width: 0;}#sk-container-id-5 div.sk-dashed-wrapped {border: 1px dashed gray;margin: 0 0.4em 0.5em 0.4em;box-sizing: border-box;padding-bottom: 0.4em;background-color: white;}#sk-container-id-5 div.sk-label label {font-family: monospace;font-weight: bold;display: inline-block;line-height: 1.2em;}#sk-container-id-5 div.sk-label-container {text-align: center;}#sk-container-id-5 div.sk-container {/* jupyter's `normalize.less` sets `[hidden] { display: none; }` but bootstrap.min.css set `[hidden] { display: none !important; }` so we also need the `!important` here to be able to override the default hidden behavior on the sphinx rendered scikit-learn.org. See: https://github.com/scikit-learn/scikit-learn/issues/21755 */display: inline-block !important;position: relative;}#sk-container-id-5 div.sk-text-repr-fallback {display: none;}</style><div id=\"sk-container-id-5\" class=\"sk-top-container\"><div class=\"sk-text-repr-fallback\"><pre>RandomizedSearchCV(cv=5,\n",
       "                   estimator=LogisticRegression(max_iter=1000, random_state=0,\n",
       "                                                solver=&#x27;liblinear&#x27;),\n",
       "                   n_iter=20,\n",
       "                   param_distributions={&#x27;C&#x27;: array([1.e-03, 1.e-02, 1.e-01, 1.e+00, 1.e+01, 1.e+02, 1.e+03]),\n",
       "                                        &#x27;max_iter&#x27;: [100, 500, 1000, 1500],\n",
       "                                        &#x27;penalty&#x27;: [&#x27;l1&#x27;, &#x27;l2&#x27;],\n",
       "                                        &#x27;solver&#x27;: [&#x27;liblinear&#x27;]},\n",
       "                   random_state=0, scoring=&#x27;accuracy&#x27;, verbose=True)</pre><b>In a Jupyter environment, please rerun this cell to show the HTML representation or trust the notebook. <br />On GitHub, the HTML representation is unable to render, please try loading this page with nbviewer.org.</b></div><div class=\"sk-container\" hidden><div class=\"sk-item sk-dashed-wrapped\"><div class=\"sk-label-container\"><div class=\"sk-label sk-toggleable\"><input class=\"sk-toggleable__control sk-hidden--visually\" id=\"sk-estimator-id-5\" type=\"checkbox\" ><label for=\"sk-estimator-id-5\" class=\"sk-toggleable__label sk-toggleable__label-arrow\">RandomizedSearchCV</label><div class=\"sk-toggleable__content\"><pre>RandomizedSearchCV(cv=5,\n",
       "                   estimator=LogisticRegression(max_iter=1000, random_state=0,\n",
       "                                                solver=&#x27;liblinear&#x27;),\n",
       "                   n_iter=20,\n",
       "                   param_distributions={&#x27;C&#x27;: array([1.e-03, 1.e-02, 1.e-01, 1.e+00, 1.e+01, 1.e+02, 1.e+03]),\n",
       "                                        &#x27;max_iter&#x27;: [100, 500, 1000, 1500],\n",
       "                                        &#x27;penalty&#x27;: [&#x27;l1&#x27;, &#x27;l2&#x27;],\n",
       "                                        &#x27;solver&#x27;: [&#x27;liblinear&#x27;]},\n",
       "                   random_state=0, scoring=&#x27;accuracy&#x27;, verbose=True)</pre></div></div></div><div class=\"sk-parallel\"><div class=\"sk-parallel-item\"><div class=\"sk-item\"><div class=\"sk-label-container\"><div class=\"sk-label sk-toggleable\"><input class=\"sk-toggleable__control sk-hidden--visually\" id=\"sk-estimator-id-6\" type=\"checkbox\" ><label for=\"sk-estimator-id-6\" class=\"sk-toggleable__label sk-toggleable__label-arrow\">estimator: LogisticRegression</label><div class=\"sk-toggleable__content\"><pre>LogisticRegression(max_iter=1000, random_state=0, solver=&#x27;liblinear&#x27;)</pre></div></div></div><div class=\"sk-serial\"><div class=\"sk-item\"><div class=\"sk-estimator sk-toggleable\"><input class=\"sk-toggleable__control sk-hidden--visually\" id=\"sk-estimator-id-7\" type=\"checkbox\" ><label for=\"sk-estimator-id-7\" class=\"sk-toggleable__label sk-toggleable__label-arrow\">LogisticRegression</label><div class=\"sk-toggleable__content\"><pre>LogisticRegression(max_iter=1000, random_state=0, solver=&#x27;liblinear&#x27;)</pre></div></div></div></div></div></div></div></div></div></div>"
      ],
      "text/plain": [
       "RandomizedSearchCV(cv=5,\n",
       "                   estimator=LogisticRegression(max_iter=1000, random_state=0,\n",
       "                                                solver='liblinear'),\n",
       "                   n_iter=20,\n",
       "                   param_distributions={'C': array([1.e-03, 1.e-02, 1.e-01, 1.e+00, 1.e+01, 1.e+02, 1.e+03]),\n",
       "                                        'max_iter': [100, 500, 1000, 1500],\n",
       "                                        'penalty': ['l1', 'l2'],\n",
       "                                        'solver': ['liblinear']},\n",
       "                   random_state=0, scoring='accuracy', verbose=True)"
      ]
     },
     "execution_count": 90,
     "metadata": {},
     "output_type": "execute_result"
    }
   ],
   "source": [
    "# Fitting the RSCV model to the data\n",
    "random_search.fit(X_train, y_train)"
   ]
  },
  {
   "cell_type": "code",
   "execution_count": null,
   "metadata": {},
   "outputs": [
    {
     "name": "stdout",
     "output_type": "stream",
     "text": [
      "Best Parameters: {'solver': 'liblinear', 'penalty': 'l1', 'max_iter': 1500, 'C': 0.1}\n",
      "Best Accuracy: 65.11%\n"
     ]
    }
   ],
   "source": [
    "print(f\"Best Parameters: {random_search.best_params_}\")\n",
    "print(f\"Best Accuracy: {random_search.best_score_*100:.2f}%\")"
   ]
  },
  {
   "cell_type": "code",
   "execution_count": null,
   "metadata": {},
   "outputs": [
    {
     "data": {
      "text/plain": [
       "0.6465339739190117"
      ]
     },
     "execution_count": 92,
     "metadata": {},
     "output_type": "execute_result"
    }
   ],
   "source": [
    "random_search.score(X_test, y_test)"
   ]
  },
  {
   "cell_type": "code",
   "execution_count": null,
   "metadata": {
    "id": "7dn4xIUhcvux"
   },
   "outputs": [],
   "source": [
    "# defining LGR model with best parameters\n",
    "best_LGR_model = random_search.best_estimator_\n",
    "\n",
    "# Making predictions on the test dataset\n",
    "y_pred_LGR = best_LGR_model.predict(X_test)"
   ]
  },
  {
   "cell_type": "code",
   "execution_count": null,
   "metadata": {
    "colab": {
     "base_uri": "https://localhost:8080/"
    },
    "id": "UjpQlvWo498p",
    "outputId": "e1b8a32c-fcbc-4551-d547-d64d136c0728"
   },
   "outputs": [
    {
     "name": "stdout",
     "output_type": "stream",
     "text": [
      "Accuracy of Logistic Regressor with RSCV: 65.0%\n"
     ]
    }
   ],
   "source": [
    "# Accuracy score of LGR model with RandomSearch\n",
    "LGR_best_accuracy = accuracy_score(y_test, y_pred_LGR)\n",
    "print(f\"Accuracy of Logistic Regressor with RSCV: {LGR_best_accuracy.round(2)*100}%\")"
   ]
  },
  {
   "cell_type": "markdown",
   "metadata": {
    "id": "U7wVhKxKudtL"
   },
   "source": [
    "**Observation:** Performing hyper-paramter tuning through RandomSearchCV did not help in increasing the accuracy for the LGR model.  "
   ]
  },
  {
   "cell_type": "markdown",
   "metadata": {
    "id": "1tvd5yre6UPg"
   },
   "source": [
    "### Random Forest Classifier"
   ]
  },
  {
   "cell_type": "code",
   "execution_count": null,
   "metadata": {
    "colab": {
     "base_uri": "https://localhost:8080/",
     "height": 75
    },
    "id": "E3vJH4Lo6Xqk",
    "outputId": "d6275847-b447-4cf4-b864-82e533ae2b02"
   },
   "outputs": [
    {
     "data": {
      "text/html": [
       "<style>#sk-container-id-6 {color: black;background-color: white;}#sk-container-id-6 pre{padding: 0;}#sk-container-id-6 div.sk-toggleable {background-color: white;}#sk-container-id-6 label.sk-toggleable__label {cursor: pointer;display: block;width: 100%;margin-bottom: 0;padding: 0.3em;box-sizing: border-box;text-align: center;}#sk-container-id-6 label.sk-toggleable__label-arrow:before {content: \"▸\";float: left;margin-right: 0.25em;color: #696969;}#sk-container-id-6 label.sk-toggleable__label-arrow:hover:before {color: black;}#sk-container-id-6 div.sk-estimator:hover label.sk-toggleable__label-arrow:before {color: black;}#sk-container-id-6 div.sk-toggleable__content {max-height: 0;max-width: 0;overflow: hidden;text-align: left;background-color: #f0f8ff;}#sk-container-id-6 div.sk-toggleable__content pre {margin: 0.2em;color: black;border-radius: 0.25em;background-color: #f0f8ff;}#sk-container-id-6 input.sk-toggleable__control:checked~div.sk-toggleable__content {max-height: 200px;max-width: 100%;overflow: auto;}#sk-container-id-6 input.sk-toggleable__control:checked~label.sk-toggleable__label-arrow:before {content: \"▾\";}#sk-container-id-6 div.sk-estimator input.sk-toggleable__control:checked~label.sk-toggleable__label {background-color: #d4ebff;}#sk-container-id-6 div.sk-label input.sk-toggleable__control:checked~label.sk-toggleable__label {background-color: #d4ebff;}#sk-container-id-6 input.sk-hidden--visually {border: 0;clip: rect(1px 1px 1px 1px);clip: rect(1px, 1px, 1px, 1px);height: 1px;margin: -1px;overflow: hidden;padding: 0;position: absolute;width: 1px;}#sk-container-id-6 div.sk-estimator {font-family: monospace;background-color: #f0f8ff;border: 1px dotted black;border-radius: 0.25em;box-sizing: border-box;margin-bottom: 0.5em;}#sk-container-id-6 div.sk-estimator:hover {background-color: #d4ebff;}#sk-container-id-6 div.sk-parallel-item::after {content: \"\";width: 100%;border-bottom: 1px solid gray;flex-grow: 1;}#sk-container-id-6 div.sk-label:hover label.sk-toggleable__label {background-color: #d4ebff;}#sk-container-id-6 div.sk-serial::before {content: \"\";position: absolute;border-left: 1px solid gray;box-sizing: border-box;top: 0;bottom: 0;left: 50%;z-index: 0;}#sk-container-id-6 div.sk-serial {display: flex;flex-direction: column;align-items: center;background-color: white;padding-right: 0.2em;padding-left: 0.2em;position: relative;}#sk-container-id-6 div.sk-item {position: relative;z-index: 1;}#sk-container-id-6 div.sk-parallel {display: flex;align-items: stretch;justify-content: center;background-color: white;position: relative;}#sk-container-id-6 div.sk-item::before, #sk-container-id-6 div.sk-parallel-item::before {content: \"\";position: absolute;border-left: 1px solid gray;box-sizing: border-box;top: 0;bottom: 0;left: 50%;z-index: -1;}#sk-container-id-6 div.sk-parallel-item {display: flex;flex-direction: column;z-index: 1;position: relative;background-color: white;}#sk-container-id-6 div.sk-parallel-item:first-child::after {align-self: flex-end;width: 50%;}#sk-container-id-6 div.sk-parallel-item:last-child::after {align-self: flex-start;width: 50%;}#sk-container-id-6 div.sk-parallel-item:only-child::after {width: 0;}#sk-container-id-6 div.sk-dashed-wrapped {border: 1px dashed gray;margin: 0 0.4em 0.5em 0.4em;box-sizing: border-box;padding-bottom: 0.4em;background-color: white;}#sk-container-id-6 div.sk-label label {font-family: monospace;font-weight: bold;display: inline-block;line-height: 1.2em;}#sk-container-id-6 div.sk-label-container {text-align: center;}#sk-container-id-6 div.sk-container {/* jupyter's `normalize.less` sets `[hidden] { display: none; }` but bootstrap.min.css set `[hidden] { display: none !important; }` so we also need the `!important` here to be able to override the default hidden behavior on the sphinx rendered scikit-learn.org. See: https://github.com/scikit-learn/scikit-learn/issues/21755 */display: inline-block !important;position: relative;}#sk-container-id-6 div.sk-text-repr-fallback {display: none;}</style><div id=\"sk-container-id-6\" class=\"sk-top-container\"><div class=\"sk-text-repr-fallback\"><pre>RandomForestClassifier(max_depth=7, n_estimators=300)</pre><b>In a Jupyter environment, please rerun this cell to show the HTML representation or trust the notebook. <br />On GitHub, the HTML representation is unable to render, please try loading this page with nbviewer.org.</b></div><div class=\"sk-container\" hidden><div class=\"sk-item\"><div class=\"sk-estimator sk-toggleable\"><input class=\"sk-toggleable__control sk-hidden--visually\" id=\"sk-estimator-id-8\" type=\"checkbox\" checked><label for=\"sk-estimator-id-8\" class=\"sk-toggleable__label sk-toggleable__label-arrow\">RandomForestClassifier</label><div class=\"sk-toggleable__content\"><pre>RandomForestClassifier(max_depth=7, n_estimators=300)</pre></div></div></div></div></div>"
      ],
      "text/plain": [
       "RandomForestClassifier(max_depth=7, n_estimators=300)"
      ]
     },
     "execution_count": 95,
     "metadata": {},
     "output_type": "execute_result"
    }
   ],
   "source": [
    "RFC_model = RandomForestClassifier(criterion = 'gini',\n",
    "                                   n_estimators = 300,\n",
    "                                   max_depth=7 )\n",
    "\n",
    "RFC_model.fit(X_train, y_train)"
   ]
  },
  {
   "cell_type": "markdown",
   "metadata": {
    "id": "0sjZp1QA6fJA"
   },
   "source": [
    "Note: Our RFC model will work with 300 trees, max depth of 7, and Gini impurity criterion."
   ]
  },
  {
   "cell_type": "code",
   "execution_count": null,
   "metadata": {
    "id": "W9UYVDY67OmA"
   },
   "outputs": [],
   "source": [
    "# predicting target variable with RFC model on test data set\n",
    "y_pred_RFC = RFC_model.predict(X_test)"
   ]
  },
  {
   "cell_type": "code",
   "execution_count": null,
   "metadata": {
    "colab": {
     "base_uri": "https://localhost:8080/"
    },
    "id": "sDqycouf9sHj",
    "outputId": "6209bdd1-b56a-4e7f-dd04-bb589e1c426d"
   },
   "outputs": [
    {
     "name": "stdout",
     "output_type": "stream",
     "text": [
      "Accuracy of RandomForest Classifier : 70.09%\n"
     ]
    }
   ],
   "source": [
    "# Accuracy score of RFC model\n",
    "RFC_accuracy = accuracy_score(y_test, y_pred_RFC)\n",
    "print(f\"Accuracy of RandomForest Classifier : {RFC_accuracy*100:.2f}%\")"
   ]
  },
  {
   "cell_type": "markdown",
   "metadata": {
    "id": "B2PR_ZGpyoDJ"
   },
   "source": [
    "### XGB Classifier"
   ]
  },
  {
   "cell_type": "code",
   "execution_count": null,
   "metadata": {
    "colab": {
     "base_uri": "https://localhost:8080/",
     "height": 248
    },
    "id": "96f4MH3Qyv7X",
    "outputId": "7af0e0c2-2f6b-49fd-9c36-5d0c269c6406"
   },
   "outputs": [
    {
     "data": {
      "text/html": [
       "<style>#sk-container-id-7 {color: black;background-color: white;}#sk-container-id-7 pre{padding: 0;}#sk-container-id-7 div.sk-toggleable {background-color: white;}#sk-container-id-7 label.sk-toggleable__label {cursor: pointer;display: block;width: 100%;margin-bottom: 0;padding: 0.3em;box-sizing: border-box;text-align: center;}#sk-container-id-7 label.sk-toggleable__label-arrow:before {content: \"▸\";float: left;margin-right: 0.25em;color: #696969;}#sk-container-id-7 label.sk-toggleable__label-arrow:hover:before {color: black;}#sk-container-id-7 div.sk-estimator:hover label.sk-toggleable__label-arrow:before {color: black;}#sk-container-id-7 div.sk-toggleable__content {max-height: 0;max-width: 0;overflow: hidden;text-align: left;background-color: #f0f8ff;}#sk-container-id-7 div.sk-toggleable__content pre {margin: 0.2em;color: black;border-radius: 0.25em;background-color: #f0f8ff;}#sk-container-id-7 input.sk-toggleable__control:checked~div.sk-toggleable__content {max-height: 200px;max-width: 100%;overflow: auto;}#sk-container-id-7 input.sk-toggleable__control:checked~label.sk-toggleable__label-arrow:before {content: \"▾\";}#sk-container-id-7 div.sk-estimator input.sk-toggleable__control:checked~label.sk-toggleable__label {background-color: #d4ebff;}#sk-container-id-7 div.sk-label input.sk-toggleable__control:checked~label.sk-toggleable__label {background-color: #d4ebff;}#sk-container-id-7 input.sk-hidden--visually {border: 0;clip: rect(1px 1px 1px 1px);clip: rect(1px, 1px, 1px, 1px);height: 1px;margin: -1px;overflow: hidden;padding: 0;position: absolute;width: 1px;}#sk-container-id-7 div.sk-estimator {font-family: monospace;background-color: #f0f8ff;border: 1px dotted black;border-radius: 0.25em;box-sizing: border-box;margin-bottom: 0.5em;}#sk-container-id-7 div.sk-estimator:hover {background-color: #d4ebff;}#sk-container-id-7 div.sk-parallel-item::after {content: \"\";width: 100%;border-bottom: 1px solid gray;flex-grow: 1;}#sk-container-id-7 div.sk-label:hover label.sk-toggleable__label {background-color: #d4ebff;}#sk-container-id-7 div.sk-serial::before {content: \"\";position: absolute;border-left: 1px solid gray;box-sizing: border-box;top: 0;bottom: 0;left: 50%;z-index: 0;}#sk-container-id-7 div.sk-serial {display: flex;flex-direction: column;align-items: center;background-color: white;padding-right: 0.2em;padding-left: 0.2em;position: relative;}#sk-container-id-7 div.sk-item {position: relative;z-index: 1;}#sk-container-id-7 div.sk-parallel {display: flex;align-items: stretch;justify-content: center;background-color: white;position: relative;}#sk-container-id-7 div.sk-item::before, #sk-container-id-7 div.sk-parallel-item::before {content: \"\";position: absolute;border-left: 1px solid gray;box-sizing: border-box;top: 0;bottom: 0;left: 50%;z-index: -1;}#sk-container-id-7 div.sk-parallel-item {display: flex;flex-direction: column;z-index: 1;position: relative;background-color: white;}#sk-container-id-7 div.sk-parallel-item:first-child::after {align-self: flex-end;width: 50%;}#sk-container-id-7 div.sk-parallel-item:last-child::after {align-self: flex-start;width: 50%;}#sk-container-id-7 div.sk-parallel-item:only-child::after {width: 0;}#sk-container-id-7 div.sk-dashed-wrapped {border: 1px dashed gray;margin: 0 0.4em 0.5em 0.4em;box-sizing: border-box;padding-bottom: 0.4em;background-color: white;}#sk-container-id-7 div.sk-label label {font-family: monospace;font-weight: bold;display: inline-block;line-height: 1.2em;}#sk-container-id-7 div.sk-label-container {text-align: center;}#sk-container-id-7 div.sk-container {/* jupyter's `normalize.less` sets `[hidden] { display: none; }` but bootstrap.min.css set `[hidden] { display: none !important; }` so we also need the `!important` here to be able to override the default hidden behavior on the sphinx rendered scikit-learn.org. See: https://github.com/scikit-learn/scikit-learn/issues/21755 */display: inline-block !important;position: relative;}#sk-container-id-7 div.sk-text-repr-fallback {display: none;}</style><div id=\"sk-container-id-7\" class=\"sk-top-container\"><div class=\"sk-text-repr-fallback\"><pre>XGBClassifier(base_score=None, booster=None, callbacks=None,\n",
       "              colsample_bylevel=None, colsample_bynode=None,\n",
       "              colsample_bytree=0.8, early_stopping_rounds=None,\n",
       "              enable_categorical=False, eval_metric=None, feature_types=None,\n",
       "              gamma=None, gpu_id=None, grow_policy=None, importance_type=None,\n",
       "              interaction_constraints=None, learning_rate=0.1, max_bin=None,\n",
       "              max_cat_threshold=None, max_cat_to_onehot=None,\n",
       "              max_delta_step=None, max_depth=3, max_leaves=None,\n",
       "              min_child_weight=1, missing=nan, monotone_constraints=None,\n",
       "              n_estimators=100, n_jobs=None, num_parallel_tree=None,\n",
       "              predictor=None, random_state=42, ...)</pre><b>In a Jupyter environment, please rerun this cell to show the HTML representation or trust the notebook. <br />On GitHub, the HTML representation is unable to render, please try loading this page with nbviewer.org.</b></div><div class=\"sk-container\" hidden><div class=\"sk-item\"><div class=\"sk-estimator sk-toggleable\"><input class=\"sk-toggleable__control sk-hidden--visually\" id=\"sk-estimator-id-9\" type=\"checkbox\" checked><label for=\"sk-estimator-id-9\" class=\"sk-toggleable__label sk-toggleable__label-arrow\">XGBClassifier</label><div class=\"sk-toggleable__content\"><pre>XGBClassifier(base_score=None, booster=None, callbacks=None,\n",
       "              colsample_bylevel=None, colsample_bynode=None,\n",
       "              colsample_bytree=0.8, early_stopping_rounds=None,\n",
       "              enable_categorical=False, eval_metric=None, feature_types=None,\n",
       "              gamma=None, gpu_id=None, grow_policy=None, importance_type=None,\n",
       "              interaction_constraints=None, learning_rate=0.1, max_bin=None,\n",
       "              max_cat_threshold=None, max_cat_to_onehot=None,\n",
       "              max_delta_step=None, max_depth=3, max_leaves=None,\n",
       "              min_child_weight=1, missing=nan, monotone_constraints=None,\n",
       "              n_estimators=100, n_jobs=None, num_parallel_tree=None,\n",
       "              predictor=None, random_state=42, ...)</pre></div></div></div></div></div>"
      ],
      "text/plain": [
       "XGBClassifier(base_score=None, booster=None, callbacks=None,\n",
       "              colsample_bylevel=None, colsample_bynode=None,\n",
       "              colsample_bytree=0.8, early_stopping_rounds=None,\n",
       "              enable_categorical=False, eval_metric=None, feature_types=None,\n",
       "              gamma=None, gpu_id=None, grow_policy=None, importance_type=None,\n",
       "              interaction_constraints=None, learning_rate=0.1, max_bin=None,\n",
       "              max_cat_threshold=None, max_cat_to_onehot=None,\n",
       "              max_delta_step=None, max_depth=3, max_leaves=None,\n",
       "              min_child_weight=1, missing=nan, monotone_constraints=None,\n",
       "              n_estimators=100, n_jobs=None, num_parallel_tree=None,\n",
       "              predictor=None, random_state=42, ...)"
      ]
     },
     "execution_count": 98,
     "metadata": {},
     "output_type": "execute_result"
    }
   ],
   "source": [
    "xgb_model = XGBClassifier(random_state = 42)\n",
    "\n",
    "XGB_model = XGBClassifier(\n",
    "    n_estimators=100,\n",
    "    learning_rate=0.1,\n",
    "    max_depth=3,\n",
    "    min_child_weight=1,\n",
    "    subsample=0.8,\n",
    "    colsample_bytree=0.8,\n",
    "    random_state=42\n",
    ")\n",
    "\n",
    "# Fit the model to the training data\n",
    "XGB_model.fit(X_train, y_train)"
   ]
  },
  {
   "cell_type": "code",
   "execution_count": null,
   "metadata": {
    "id": "fxV7HljwzSjG"
   },
   "outputs": [],
   "source": [
    "y_pred_XGB = XGB_model.predict(X_test)"
   ]
  },
  {
   "cell_type": "code",
   "execution_count": null,
   "metadata": {
    "colab": {
     "base_uri": "https://localhost:8080/"
    },
    "id": "vuCqYmrFzEOk",
    "outputId": "4fca8571-37d2-49a0-9377-d1116018ba6b"
   },
   "outputs": [
    {
     "name": "stdout",
     "output_type": "stream",
     "text": [
      "Accuracy of XGB Classifier : 70.0%\n"
     ]
    }
   ],
   "source": [
    "XGB_accuracy = accuracy_score(y_test, y_pred_XGB)\n",
    "print(f\"Accuracy of XGB Classifier : {XGB_accuracy.round(2)*100}%\")"
   ]
  },
  {
   "cell_type": "markdown",
   "metadata": {
    "id": "Th8ZTxRQZ2x1"
   },
   "source": [
    "### Comparing predicted values"
   ]
  },
  {
   "cell_type": "code",
   "execution_count": null,
   "metadata": {
    "colab": {
     "base_uri": "https://localhost:8080/"
    },
    "id": "VVtrD-7U4QsN",
    "outputId": "64935e62-7392-4953-e3c4-5fdab901272f"
   },
   "outputs": [
    {
     "name": "stdout",
     "output_type": "stream",
     "text": [
      "LGR Predicted Value:  1\n",
      "Actual True Value:  1\n"
     ]
    }
   ],
   "source": [
    "# Predcition comparison for 10th row in test data set\n",
    "print(\"LGR Predicted Value: \" , y_pred_LGR[0] )\n",
    "print(\"Actual True Value: \" ,y_test.iloc[0])"
   ]
  },
  {
   "cell_type": "code",
   "execution_count": null,
   "metadata": {
    "colab": {
     "base_uri": "https://localhost:8080/"
    },
    "id": "-mkgOIWz7bwJ",
    "outputId": "d4b359f9-0346-47ce-bc21-cd88f308e7a4"
   },
   "outputs": [
    {
     "name": "stdout",
     "output_type": "stream",
     "text": [
      "RFC Predicted Value:  1\n",
      "Actual True Value:  1\n"
     ]
    }
   ],
   "source": [
    "# Predcition comparison for 10th row in test data set\n",
    "\n",
    "print(\"RFC Predicted Value: \" , y_pred_RFC[10] )\n",
    "print(\"Actual True Value: \" ,y_test.iloc[10])"
   ]
  },
  {
   "cell_type": "code",
   "execution_count": null,
   "metadata": {
    "colab": {
     "base_uri": "https://localhost:8080/",
     "height": 206
    },
    "id": "RVDxBTjgaWqM",
    "outputId": "b5f5337c-bea0-4b83-957f-dc3a4dc6dc47"
   },
   "outputs": [
    {
     "data": {
      "text/html": [
       "<div>\n",
       "<style scoped>\n",
       "    .dataframe tbody tr th:only-of-type {\n",
       "        vertical-align: middle;\n",
       "    }\n",
       "\n",
       "    .dataframe tbody tr th {\n",
       "        vertical-align: top;\n",
       "    }\n",
       "\n",
       "    .dataframe thead th {\n",
       "        text-align: right;\n",
       "    }\n",
       "</style>\n",
       "<table border=\"1\" class=\"dataframe\">\n",
       "  <thead>\n",
       "    <tr style=\"text-align: right;\">\n",
       "      <th></th>\n",
       "      <th>Actual</th>\n",
       "      <th>LGR_Predictions</th>\n",
       "    </tr>\n",
       "  </thead>\n",
       "  <tbody>\n",
       "    <tr>\n",
       "      <th>49043</th>\n",
       "      <td>1</td>\n",
       "      <td>1</td>\n",
       "    </tr>\n",
       "    <tr>\n",
       "      <th>15137</th>\n",
       "      <td>0</td>\n",
       "      <td>0</td>\n",
       "    </tr>\n",
       "    <tr>\n",
       "      <th>37257</th>\n",
       "      <td>1</td>\n",
       "      <td>1</td>\n",
       "    </tr>\n",
       "    <tr>\n",
       "      <th>34858</th>\n",
       "      <td>1</td>\n",
       "      <td>0</td>\n",
       "    </tr>\n",
       "    <tr>\n",
       "      <th>14103</th>\n",
       "      <td>1</td>\n",
       "      <td>0</td>\n",
       "    </tr>\n",
       "  </tbody>\n",
       "</table>\n",
       "</div>"
      ],
      "text/plain": [
       "       Actual  LGR_Predictions\n",
       "49043       1                1\n",
       "15137       0                0\n",
       "37257       1                1\n",
       "34858       1                0\n",
       "14103       1                0"
      ]
     },
     "execution_count": 103,
     "metadata": {},
     "output_type": "execute_result"
    }
   ],
   "source": [
    "df_LGR_predictions = pd.DataFrame({'Actual': y_test, 'LGR_Predictions': y_pred_LGR})\n",
    "df_LGR_predictions.head()"
   ]
  },
  {
   "cell_type": "code",
   "execution_count": null,
   "metadata": {
    "colab": {
     "base_uri": "https://localhost:8080/",
     "height": 206
    },
    "id": "tG6j4X4Fa3Iw",
    "outputId": "21dfbff8-73af-48d0-9d42-379eac6725f3"
   },
   "outputs": [
    {
     "data": {
      "text/html": [
       "<div>\n",
       "<style scoped>\n",
       "    .dataframe tbody tr th:only-of-type {\n",
       "        vertical-align: middle;\n",
       "    }\n",
       "\n",
       "    .dataframe tbody tr th {\n",
       "        vertical-align: top;\n",
       "    }\n",
       "\n",
       "    .dataframe thead th {\n",
       "        text-align: right;\n",
       "    }\n",
       "</style>\n",
       "<table border=\"1\" class=\"dataframe\">\n",
       "  <thead>\n",
       "    <tr style=\"text-align: right;\">\n",
       "      <th></th>\n",
       "      <th>Actual</th>\n",
       "      <th>RFC_Predictions</th>\n",
       "    </tr>\n",
       "  </thead>\n",
       "  <tbody>\n",
       "    <tr>\n",
       "      <th>49043</th>\n",
       "      <td>1</td>\n",
       "      <td>1</td>\n",
       "    </tr>\n",
       "    <tr>\n",
       "      <th>15137</th>\n",
       "      <td>0</td>\n",
       "      <td>0</td>\n",
       "    </tr>\n",
       "    <tr>\n",
       "      <th>37257</th>\n",
       "      <td>1</td>\n",
       "      <td>1</td>\n",
       "    </tr>\n",
       "    <tr>\n",
       "      <th>34858</th>\n",
       "      <td>1</td>\n",
       "      <td>1</td>\n",
       "    </tr>\n",
       "    <tr>\n",
       "      <th>14103</th>\n",
       "      <td>1</td>\n",
       "      <td>0</td>\n",
       "    </tr>\n",
       "  </tbody>\n",
       "</table>\n",
       "</div>"
      ],
      "text/plain": [
       "       Actual  RFC_Predictions\n",
       "49043       1                1\n",
       "15137       0                0\n",
       "37257       1                1\n",
       "34858       1                1\n",
       "14103       1                0"
      ]
     },
     "execution_count": 104,
     "metadata": {},
     "output_type": "execute_result"
    }
   ],
   "source": [
    "df_RFC_predictions = pd.DataFrame({'Actual': y_test, 'RFC_Predictions': y_pred_RFC})\n",
    "df_RFC_predictions.head()"
   ]
  },
  {
   "cell_type": "markdown",
   "metadata": {
    "id": "l5L8Al5o5m7w"
   },
   "source": [
    "### Evaluation of Classification Models"
   ]
  },
  {
   "cell_type": "markdown",
   "metadata": {
    "id": "-TsDPSwa53Lk"
   },
   "source": [
    "#### Evaluation of LGR"
   ]
  },
  {
   "cell_type": "code",
   "execution_count": null,
   "metadata": {
    "colab": {
     "base_uri": "https://localhost:8080/"
    },
    "id": "VJm5beyJ5W9v",
    "outputId": "0526b5d7-ff0d-43c9-cb68-d1d0044120cb"
   },
   "outputs": [
    {
     "name": "stdout",
     "output_type": "stream",
     "text": [
      "Recall score of Logistic Regressor :  0.67\n",
      "Precision score of Logistic Regressor :  0.65\n",
      "F1 score of Logistic Regressor :  0.66\n"
     ]
    }
   ],
   "source": [
    "# Recall, Precision, F1 score of LGR model\n",
    "\n",
    "LGR_recall = recall_score(y_test, y_pred_LGR)\n",
    "LGR_precision = precision_score(y_test, y_pred_LGR)\n",
    "LGR_f1 = f1_score(y_test, y_pred_LGR)\n",
    "\n",
    "print(\"Recall score of Logistic Regressor : \", LGR_recall.round(2) )\n",
    "print(\"Precision score of Logistic Regressor : \", LGR_precision.round(2) )\n",
    "print(\"F1 score of Logistic Regressor : \", LGR_f1.round(2) )"
   ]
  },
  {
   "cell_type": "code",
   "execution_count": null,
   "metadata": {
    "colab": {
     "base_uri": "https://localhost:8080/"
    },
    "id": "_VfA1q3o5sOI",
    "outputId": "6402599d-bb70-41e1-929c-b280d3a430aa"
   },
   "outputs": [
    {
     "name": "stdout",
     "output_type": "stream",
     "text": [
      "Accuracy: 64.41%\n",
      "Confidence Interval: [0.6412, 0.6484]\n"
     ]
    }
   ],
   "source": [
    "# Precision Accuracy Interval LGR\n",
    "\n",
    "num_bootstrap_samples = 50\n",
    "\n",
    "# array to store the accuracy scores\n",
    "accuracy_scores = np.zeros(num_bootstrap_samples)\n",
    "\n",
    "#  bootstrapping\n",
    "for i in range(num_bootstrap_samples):\n",
    "\n",
    "    X_bootstrap, y_bootstrap = resample(X_train, y_train)\n",
    "\n",
    "    LGR_model.fit(X_bootstrap, y_bootstrap)\n",
    "    y_pred = LGR_model.predict(X_test)\n",
    "\n",
    "    accuracy_scores[i] = accuracy_score(y_test, y_pred)\n",
    "\n",
    "# Calculating the confidence interval\n",
    "lower_bound = np.percentile(accuracy_scores, 2.5)\n",
    "upper_bound = np.percentile(accuracy_scores, 97.5)\n",
    "\n",
    "print(f\"Accuracy: {accuracy_score(y_test, y_pred)*100:.2f}%\")\n",
    "print(f\"Confidence Interval: [{lower_bound:.4f}, {upper_bound:.4f}]\")"
   ]
  },
  {
   "cell_type": "markdown",
   "metadata": {
    "id": "iFH0sfYs55PB"
   },
   "source": [
    "#### Evaluation of RFC"
   ]
  },
  {
   "cell_type": "code",
   "execution_count": null,
   "metadata": {
    "colab": {
     "base_uri": "https://localhost:8080/"
    },
    "id": "wbZb-8rW6NJm",
    "outputId": "ca110c23-bd3b-4735-f81b-67506b0c2a8b"
   },
   "outputs": [
    {
     "name": "stdout",
     "output_type": "stream",
     "text": [
      "Recall score of RandomForest Classifer :  0.73\n",
      "Precision score of RandomForest Classifer :  0.7\n",
      "F1 score of RandomForest Classifer :  0.71\n"
     ]
    }
   ],
   "source": [
    "# Recall, Precision, F1 score of LGR model\n",
    "\n",
    "RFC_recall = recall_score(y_test, y_pred_RFC)\n",
    "RFC_precision = precision_score(y_test, y_pred_RFC)\n",
    "RFC_f1 = f1_score(y_test, y_pred_RFC)\n",
    "\n",
    "print(\"Recall score of RandomForest Classifer : \", RFC_recall.round(2))\n",
    "print(\"Precision score of RandomForest Classifer : \", RFC_precision.round(2))\n",
    "print(\"F1 score of RandomForest Classifer : \", RFC_f1.round(2))"
   ]
  },
  {
   "cell_type": "code",
   "execution_count": null,
   "metadata": {
    "colab": {
     "base_uri": "https://localhost:8080/"
    },
    "id": "ANDFY4rO8U8R",
    "outputId": "a4fdb265-7dd9-4845-f529-bc22262cebe8"
   },
   "outputs": [
    {
     "name": "stdout",
     "output_type": "stream",
     "text": [
      "Accuracy: 69.66%\n",
      "Confidence Interval: [0.6967, 0.7026]\n"
     ]
    }
   ],
   "source": [
    "# Precision Accuracy Interval RFC\n",
    "\n",
    "num_bootstrap_samples = 25\n",
    "accuracy_scores = np.zeros(num_bootstrap_samples)\n",
    "\n",
    "# bootstrapping\n",
    "for i in range(num_bootstrap_samples):\n",
    "\n",
    "    X_bootstrap, y_bootstrap = resample(X_train, y_train)\n",
    "\n",
    "    RFC_model.fit(X_bootstrap, y_bootstrap)\n",
    "    y_pred = RFC_model.predict(X_test)\n",
    "\n",
    "    accuracy_scores[i] = accuracy_score(y_test, y_pred)\n",
    "\n",
    "\n",
    "lower_bound = np.percentile(accuracy_scores, 2.5)\n",
    "upper_bound = np.percentile(accuracy_scores, 97.5)\n",
    "\n",
    "print(f\"Accuracy: {accuracy_score(y_test, y_pred)*100:.2f}%\")\n",
    "print(f\"Confidence Interval: [{lower_bound:.4f}, {upper_bound:.4f}]\")"
   ]
  },
  {
   "cell_type": "markdown",
   "metadata": {
    "id": "hvGQDoW69plZ"
   },
   "source": [
    "#### Evaluation of XGBC"
   ]
  },
  {
   "cell_type": "code",
   "execution_count": null,
   "metadata": {
    "colab": {
     "base_uri": "https://localhost:8080/"
    },
    "id": "H1_k6-D-9rrU",
    "outputId": "38bcd459-b187-4265-cae1-07266f9451c5"
   },
   "outputs": [
    {
     "name": "stdout",
     "output_type": "stream",
     "text": [
      "Recall score of XGB :  0.74\n",
      "Precision score of XGB :  0.7\n",
      "F1 score of XGB :  0.72\n"
     ]
    }
   ],
   "source": [
    "XGB_recall = recall_score(y_test, y_pred_XGB)\n",
    "XGB_precision = precision_score(y_test, y_pred_XGB)\n",
    "XGB_f1 = f1_score(y_test, y_pred_XGB)\n",
    "\n",
    "print(\"Recall score of XGB : \", XGB_recall.round(2) )\n",
    "print(\"Precision score of XGB : \", XGB_precision.round(2) )\n",
    "print(\"F1 score of XGB : \", XGB_f1.round(2) )"
   ]
  },
  {
   "cell_type": "code",
   "execution_count": null,
   "metadata": {
    "colab": {
     "base_uri": "https://localhost:8080/",
     "height": 472
    },
    "id": "Q6rvfbbx97nQ",
    "outputId": "61cde063-a770-4ea7-f42b-7eb290a4c85c"
   },
   "outputs": [
    {
     "data": {
      "image/png": "[encoded data removed]",
      "text/plain": [
       "<Figure size 640x480 with 1 Axes>"
      ]
     },
     "metadata": {},
     "output_type": "display_data"
    }
   ],
   "source": [
    "accuracy_scores = [LGR_accuracy, RFC_accuracy, XGB_accuracy]\n",
    "models = ['LGR', 'RFC', 'XGBC',]\n",
    "\n",
    "plt.bar(models, accuracy_scores, color=['lightblue', 'lightgreen', 'salmon'], width=0.5)\n",
    "\n",
    "plt.xlabel('Classification Models')\n",
    "plt.ylabel('Accuracy')\n",
    "plt.title('Accuracy Comparison of Classification Models')\n",
    "\n",
    "for i, v in enumerate(accuracy_scores):\n",
    "    plt.text(i, v + 0.01, str(round(v, 3)), ha='center', va='bottom')\n",
    "\n",
    "plt.show();"
   ]
  },
  {
   "cell_type": "markdown",
   "metadata": {},
   "source": [
    "## Conclusion"
   ]
  },
  {
   "cell_type": "markdown",
   "metadata": {},
   "source": [
    "To summarize, in this project we conducted a comprehensive analysis of predicting cardiovascular disease among patients, based on some key features and attributes, through pre-processing data, performing necessary EDA to find relevancy and important insights about the data, following supervised and unsupervised machine learning endeavors. Compare and contrast the performance of different models and methods. Key insights emerged during the process, identifying age and BMI weighed with highest feature importance in our dataset. \n",
    "\n",
    "Supervised learning models, including Support Vector Regression (SVR) and Random Forest Regression (RFR), showcased distinct performances. SVR, while yielding accurate predictions, exhibited a higher mean absolute error (MAE) and root mean squared error (RMSE) compared to RFR. The classification phase introduced Logistic Regression (LGR), Random Forest Classifier (RFC), and XGB Classifier, where XGB demonstrated superior accuracy. The accuracy results of LGR were not satisfactory even after performing RandomSearchCV to find best possible parameters, the model did not yield a good accuracy score. So, I used XGB Classifier and manually initialized parameters with hyper parameter tuning, which performed better than both LGR and RFC models. \n",
    "Unsupervised learning with KMeans and Hierarchical Clustering (AgglomerativeClustering) highlighted the significance of age and BMI in clustering, with both the models tending towards the single cluster to be produced. To evaluate the performance of the model, silhouette_score was calculated which highlighted the patterns learning of unsupervised models.\n",
    "\n",
    "The models could explore fine-tuning model parameters and incorporating additional features for a more comprehensive understanding. In conclusion, our analysis underscores the intricate interplay of features in cardiovascular disease prediction, emphasizing the importance of thoughtful model selection and the continuous pursuit of refining methodologies for more accurate and actionable insights in the realm of healthcare analytics.\n"
   ]
  }
 ],
 "metadata": {
  "colab": {
   "provenance": []
  },
  "kernelspec": {
   "display_name": "Python 3 (ipykernel)",
   "language": "python",
   "name": "python3"
  },
  "language_info": {
   "codemirror_mode": {
    "name": "ipython",
    "version": 3
   },
   "file_extension": ".py",
   "mimetype": "text/x-python",
   "name": "python",
   "nbconvert_exporter": "python",
   "pygments_lexer": "ipython3",
   "version": "3.10.12"
  }
 },
 "nbformat": 4,
 "nbformat_minor": 4
}
